{
 "cells": [
  {
   "cell_type": "code",
   "execution_count": 1,
   "metadata": {},
   "outputs": [],
   "source": [
    "import pronto\n",
    "from pronto import Ontology\n",
    "from collections import defaultdict\n",
    "import json\n",
    "import gzip\n",
    "from ParsingModule import transform_nested_dict_to_tree, flatten"
   ]
  },
  {
   "cell_type": "code",
   "execution_count": 2,
   "metadata": {},
   "outputs": [],
   "source": [
    "def get_obo_subclasses_and_elements(onto, obo_id, obo_label,obo_elements, d=None, distance=1):\n",
    "    obo_elements.add(obo_label)\n",
    "    if d is None:\n",
    "        d = defaultdict(dict)\n",
    "\n",
    "    \"\"\"\n",
    "    Get all subclasses of a given obo_id\n",
    "    :param obo_id: obo_id to search for\n",
    "    :param distance: distance to search for subclasses\n",
    "    :return: list of subclasses\n",
    "    \"\"\"\n",
    "    subclasses = list(onto[obo_id].subclasses(distance=1))\n",
    "    if len(subclasses) > 1:\n",
    "        d[obo_label] = {}\n",
    "        for i in subclasses[1:]:\n",
    "            obo_id = i.id\n",
    "            obo_label = i.name\n",
    "            obo_elements.add(obo_label)\n",
    "            d[obo_label] = get_obo_subclasses(onto, obo_id, obo_label, obo_elements, defaultdict(dict), distance=1)\n",
    "    else:\n",
    "        d = {}\n",
    "    d = remove_duplicate_values(d)\n",
    "    return d, obo_elements\n",
    "\n",
    "def get_obo_subclasses(onto, obo_id, obo_label, d=None, distance=1):\n",
    "\n",
    "    if d is None:\n",
    "        d = defaultdict(dict)\n",
    "\n",
    "    \"\"\"\n",
    "    Get all subclasses of a given obo_id\n",
    "    :param obo_id: obo_id to search for\n",
    "    :param distance: distance to search for subclasses\n",
    "    :return: list of subclasses\n",
    "    \"\"\"\n",
    "    subclasses = list(onto[obo_id].subclasses(distance=1))\n",
    "    if len(subclasses) > 1:\n",
    "        d[obo_label] = {}\n",
    "        for i in subclasses[1:]:\n",
    "            obo_id = i.id\n",
    "            obo_label = i.name\n",
    "            d[obo_label] = get_obo_subclasses(onto, obo_id, obo_label, defaultdict(dict), distance=1)\n",
    "    else:\n",
    "        d = {}\n",
    "    d = remove_duplicate_values(d)\n",
    "    return d\n",
    "    \n",
    "def remove_duplicate_values(d):\n",
    "    for k, v in d.items():\n",
    "        if isinstance(v, dict):\n",
    "            remove_duplicate_values(v)\n",
    "        if k in v:\n",
    "            del v[k]\n",
    "\n",
    "    return d"
   ]
  },
  {
   "cell_type": "code",
   "execution_count": 3,
   "metadata": {},
   "outputs": [],
   "source": [
    "def store_as_gzipped_json(data, filename):\n",
    "    \"\"\"\"Given a datafile to store and the filename, this function stores the data as a gzipped json file in C:\\\\Users\\\\tinec\\\\OneDrive - UGent\\\\git\\\\SDRF_GUI\\\\data\"\"\"\n",
    "    path = \"C:\\\\Users\\\\tinec\\\\OneDrive - UGent\\\\git\\\\SDRF_GUI\\\\data\\\\\" + filename + \".json.gz\"\n",
    "    with gzip.open(path, 'wt') as f:\n",
    "        json.dump(data, f)\n",
    "    return(f\"Stored {filename} as gzipped json\")"
   ]
  },
  {
   "cell_type": "code",
   "execution_count": 4,
   "metadata": {},
   "outputs": [],
   "source": [
    "def open_gzipped_json(filename):\n",
    "    path = \"C:\\\\Users\\\\tinec\\\\OneDrive - UGent\\\\git\\\\SDRF_GUI\\\\data\" + filename + \".json.gz\"\n",
    "    with gzip.open(path, 'rt') as f:\n",
    "        data = json.load(f)\n",
    "    return(data)"
   ]
  },
  {
   "attachments": {},
   "cell_type": "markdown",
   "metadata": {},
   "source": [
    "# MS"
   ]
  },
  {
   "attachments": {},
   "cell_type": "markdown",
   "metadata": {},
   "source": [
    "'comment[cleavage agent details]', ==> MS:1001045<br>\n",
    "'comment[instrument]',==>ontology MS:1000031<br>\n",
    "comment[dissociation method] MS:1000044"
   ]
  },
  {
   "cell_type": "code",
   "execution_count": 31,
   "metadata": {},
   "outputs": [
    {
     "name": "stderr",
     "output_type": "stream",
     "text": [
      "c:\\Users\\tinec\\anaconda3\\envs\\sdrf\\lib\\site-packages\\pronto\\parsers\\rdfxml.py:289: SyntaxWarning: <Element '{http://usefulinc.com/ns/doap#}homepage' at 0x000002B9DE0624F0> contains text but no `xsd:datatype`\n",
      "  meta.annotations.add(self._extract_literal_pv(child))\n",
      "c:\\Users\\tinec\\anaconda3\\envs\\sdrf\\lib\\site-packages\\pronto\\parsers\\rdfxml.py:289: SyntaxWarning: <Element '{http://purl.org/dc/elements/1.1/}creator' at 0x000002B9DDF4CE00> contains text but no `xsd:datatype`\n",
      "  meta.annotations.add(self._extract_literal_pv(child))\n",
      "c:\\Users\\tinec\\anaconda3\\envs\\sdrf\\lib\\site-packages\\pronto\\parsers\\rdfxml.py:289: SyntaxWarning: <Element '{http://purl.org/dc/elements/1.1/}title' at 0x000002B9DDF4C040> contains text but no `xsd:datatype`\n",
      "  meta.annotations.add(self._extract_literal_pv(child))\n",
      "c:\\Users\\tinec\\anaconda3\\envs\\sdrf\\lib\\site-packages\\pronto\\parsers\\rdfxml.py:289: SyntaxWarning: <Element '{http://purl.org/dc/elements/1.1/}contributor' at 0x000002B9DDFF7AE0> contains text but no `xsd:datatype`\n",
      "  meta.annotations.add(self._extract_literal_pv(child))\n",
      "c:\\Users\\tinec\\anaconda3\\envs\\sdrf\\lib\\site-packages\\pronto\\parsers\\rdfxml.py:289: SyntaxWarning: <Element '{http://purl.org/dc/elements/1.1/}description' at 0x000002B9DDFF7450> contains text but no `xsd:datatype`\n",
      "  meta.annotations.add(self._extract_literal_pv(child))\n",
      "c:\\Users\\tinec\\anaconda3\\envs\\sdrf\\lib\\site-packages\\pronto\\parsers\\rdfxml.py:289: SyntaxWarning: <Element '{http://usefulinc.com/ns/doap#}mailing-list' at 0x000002B9DDFF7360> contains text but no `xsd:datatype`\n",
      "  meta.annotations.add(self._extract_literal_pv(child))\n",
      "c:\\Users\\tinec\\anaconda3\\envs\\sdrf\\lib\\site-packages\\pronto\\parsers\\rdfxml.py:289: SyntaxWarning: <Element '{http://www.w3.org/2002/07/owl#}versionInfo' at 0x000002B9DE073B30> contains text but no `xsd:datatype`\n",
      "  meta.annotations.add(self._extract_literal_pv(child))\n",
      "c:\\Users\\tinec\\anaconda3\\envs\\sdrf\\lib\\site-packages\\pronto\\parsers\\rdfxml.py:289: SyntaxWarning: <Element '{http://purl.org/dc/elements/1.1/}creator' at 0x000002B9DE0732C0> contains text but no `xsd:datatype`\n",
      "  meta.annotations.add(self._extract_literal_pv(child))\n",
      "c:\\Users\\tinec\\anaconda3\\envs\\sdrf\\lib\\site-packages\\pronto\\parsers\\rdfxml.py:289: SyntaxWarning: <Element '{http://purl.org/dc/elements/1.1/}contributor' at 0x000002B9DE073400> contains text but no `xsd:datatype`\n",
      "  meta.annotations.add(self._extract_literal_pv(child))\n",
      "c:\\Users\\tinec\\anaconda3\\envs\\sdrf\\lib\\site-packages\\pronto\\parsers\\rdfxml.py:289: SyntaxWarning: <Element '{http://purl.org/dc/elements/1.1/}contributor' at 0x000002B9DE0731D0> contains text but no `xsd:datatype`\n",
      "  meta.annotations.add(self._extract_literal_pv(child))\n",
      "c:\\Users\\tinec\\anaconda3\\envs\\sdrf\\lib\\site-packages\\pronto\\parsers\\rdfxml.py:289: SyntaxWarning: <Element '{http://purl.org/dc/elements/1.1/}creator' at 0x000002B9DE073090> contains text but no `xsd:datatype`\n",
      "  meta.annotations.add(self._extract_literal_pv(child))\n",
      "c:\\Users\\tinec\\anaconda3\\envs\\sdrf\\lib\\site-packages\\pronto\\parsers\\rdfxml.py:289: SyntaxWarning: <Element '{http://purl.org/dc/elements/1.1/}subject' at 0x000002B9DE073EA0> contains text but no `xsd:datatype`\n",
      "  meta.annotations.add(self._extract_literal_pv(child))\n",
      "c:\\Users\\tinec\\anaconda3\\envs\\sdrf\\lib\\site-packages\\pronto\\parsers\\rdfxml.py:289: SyntaxWarning: <Element '{http://purl.org/dc/elements/1.1/}contributor' at 0x000002B9DE073950> contains text but no `xsd:datatype`\n",
      "  meta.annotations.add(self._extract_literal_pv(child))\n",
      "c:\\Users\\tinec\\anaconda3\\envs\\sdrf\\lib\\site-packages\\pronto\\parsers\\rdfxml.py:289: SyntaxWarning: <Element '{http://purl.org/dc/elements/1.1/}contributor' at 0x000002B9DE0733B0> contains text but no `xsd:datatype`\n",
      "  meta.annotations.add(self._extract_literal_pv(child))\n",
      "c:\\Users\\tinec\\anaconda3\\envs\\sdrf\\lib\\site-packages\\pronto\\parsers\\rdfxml.py:289: SyntaxWarning: <Element '{http://usefulinc.com/ns/doap#}bug-database' at 0x000002B9DE04F9F0> contains text but no `xsd:datatype`\n",
      "  meta.annotations.add(self._extract_literal_pv(child))\n",
      "c:\\Users\\tinec\\anaconda3\\envs\\sdrf\\lib\\site-packages\\pronto\\parsers\\rdfxml.py:113: SyntaxWarning: unknown element in `owl:ObjectProperty`: <Element '{http://www.w3.org/2002/07/owl#}equivalentProperty' at 0x000002B9E13254A0>\n",
      "  self._extract_object_property(prop, curies)\n",
      "c:\\Users\\tinec\\anaconda3\\envs\\sdrf\\lib\\site-packages\\pronto\\parsers\\rdfxml.py:113: SyntaxWarning: unknown element in `owl:ObjectProperty`: <Element '{http://purl.obolibrary.org/obo/}IAO_0000111' at 0x000002B9E13256D0>\n",
      "  self._extract_object_property(prop, curies)\n",
      "c:\\Users\\tinec\\anaconda3\\envs\\sdrf\\lib\\site-packages\\pronto\\parsers\\rdfxml.py:113: SyntaxWarning: unknown element in `owl:ObjectProperty`: <Element '{http://purl.obolibrary.org/obo/}IAO_0000112' at 0x000002B9E1325720>\n",
      "  self._extract_object_property(prop, curies)\n",
      "c:\\Users\\tinec\\anaconda3\\envs\\sdrf\\lib\\site-packages\\pronto\\parsers\\rdfxml.py:113: SyntaxWarning: unknown element in `owl:ObjectProperty`: <Element '{http://purl.obolibrary.org/obo/}IAO_0000112' at 0x000002B9E1325770>\n",
      "  self._extract_object_property(prop, curies)\n",
      "c:\\Users\\tinec\\anaconda3\\envs\\sdrf\\lib\\site-packages\\pronto\\parsers\\rdfxml.py:113: SyntaxWarning: unknown element in `owl:ObjectProperty`: <Element '{http://purl.obolibrary.org/obo/}IAO_0000112' at 0x000002B9E13257C0>\n",
      "  self._extract_object_property(prop, curies)\n",
      "c:\\Users\\tinec\\anaconda3\\envs\\sdrf\\lib\\site-packages\\pronto\\parsers\\rdfxml.py:113: SyntaxWarning: unknown element in `owl:ObjectProperty`: <Element '{http://purl.obolibrary.org/obo/}IAO_0000116' at 0x000002B9E1325860>\n",
      "  self._extract_object_property(prop, curies)\n",
      "c:\\Users\\tinec\\anaconda3\\envs\\sdrf\\lib\\site-packages\\pronto\\parsers\\rdfxml.py:113: SyntaxWarning: unknown element in `owl:ObjectProperty`: <Element '{http://purl.obolibrary.org/obo/}IAO_0000116' at 0x000002B9E13258B0>\n",
      "  self._extract_object_property(prop, curies)\n",
      "c:\\Users\\tinec\\anaconda3\\envs\\sdrf\\lib\\site-packages\\pronto\\parsers\\rdfxml.py:113: SyntaxWarning: unknown element in `owl:ObjectProperty`: <Element '{http://purl.obolibrary.org/obo/}IAO_0000116' at 0x000002B9E1325900>\n",
      "  self._extract_object_property(prop, curies)\n",
      "c:\\Users\\tinec\\anaconda3\\envs\\sdrf\\lib\\site-packages\\pronto\\parsers\\rdfxml.py:113: SyntaxWarning: unknown element in `owl:ObjectProperty`: <Element '{http://purl.obolibrary.org/obo/}IAO_0000118' at 0x000002B9E13259A0>\n",
      "  self._extract_object_property(prop, curies)\n",
      "c:\\Users\\tinec\\anaconda3\\envs\\sdrf\\lib\\site-packages\\pronto\\parsers\\rdfxml.py:113: SyntaxWarning: unknown element in `owl:ObjectProperty`: <Element '{http://www.w3.org/2000/01/rdf-schema#}seeAlso' at 0x000002B9E1325BD0>\n",
      "  self._extract_object_property(prop, curies)\n",
      "c:\\Users\\tinec\\anaconda3\\envs\\sdrf\\lib\\site-packages\\pronto\\parsers\\rdfxml.py:113: SyntaxWarning: unknown element in `owl:ObjectProperty`: <Element '{http://www.w3.org/2002/07/owl#}equivalentProperty' at 0x000002B9E1325C70>\n",
      "  self._extract_object_property(prop, curies)\n",
      "c:\\Users\\tinec\\anaconda3\\envs\\sdrf\\lib\\site-packages\\pronto\\parsers\\rdfxml.py:113: SyntaxWarning: unknown element in `owl:ObjectProperty`: <Element '{http://purl.obolibrary.org/obo/}IAO_0000111' at 0x000002B9E1325E00>\n",
      "  self._extract_object_property(prop, curies)\n",
      "c:\\Users\\tinec\\anaconda3\\envs\\sdrf\\lib\\site-packages\\pronto\\parsers\\rdfxml.py:113: SyntaxWarning: unknown element in `owl:ObjectProperty`: <Element '{http://purl.obolibrary.org/obo/}IAO_0000112' at 0x000002B9E1325E50>\n",
      "  self._extract_object_property(prop, curies)\n",
      "c:\\Users\\tinec\\anaconda3\\envs\\sdrf\\lib\\site-packages\\pronto\\parsers\\rdfxml.py:113: SyntaxWarning: unknown element in `owl:ObjectProperty`: <Element '{http://purl.obolibrary.org/obo/}IAO_0000112' at 0x000002B9E1325EA0>\n",
      "  self._extract_object_property(prop, curies)\n",
      "c:\\Users\\tinec\\anaconda3\\envs\\sdrf\\lib\\site-packages\\pronto\\parsers\\rdfxml.py:113: SyntaxWarning: unknown element in `owl:ObjectProperty`: <Element '{http://purl.obolibrary.org/obo/}IAO_0000112' at 0x000002B9E1325EF0>\n",
      "  self._extract_object_property(prop, curies)\n",
      "c:\\Users\\tinec\\anaconda3\\envs\\sdrf\\lib\\site-packages\\pronto\\parsers\\rdfxml.py:113: SyntaxWarning: unknown element in `owl:ObjectProperty`: <Element '{http://purl.obolibrary.org/obo/}IAO_0000116' at 0x000002B9E1325F90>\n",
      "  self._extract_object_property(prop, curies)\n",
      "c:\\Users\\tinec\\anaconda3\\envs\\sdrf\\lib\\site-packages\\pronto\\parsers\\rdfxml.py:113: SyntaxWarning: unknown element in `owl:ObjectProperty`: <Element '{http://purl.obolibrary.org/obo/}IAO_0000116' at 0x000002B9E132D040>\n",
      "  self._extract_object_property(prop, curies)\n",
      "c:\\Users\\tinec\\anaconda3\\envs\\sdrf\\lib\\site-packages\\pronto\\parsers\\rdfxml.py:113: SyntaxWarning: unknown element in `owl:ObjectProperty`: <Element '{http://purl.obolibrary.org/obo/}IAO_0000116' at 0x000002B9E132D090>\n",
      "  self._extract_object_property(prop, curies)\n",
      "c:\\Users\\tinec\\anaconda3\\envs\\sdrf\\lib\\site-packages\\pronto\\parsers\\rdfxml.py:113: SyntaxWarning: unknown element in `owl:ObjectProperty`: <Element '{http://purl.obolibrary.org/obo/}IAO_0000118' at 0x000002B9E132D0E0>\n",
      "  self._extract_object_property(prop, curies)\n",
      "c:\\Users\\tinec\\anaconda3\\envs\\sdrf\\lib\\site-packages\\pronto\\parsers\\rdfxml.py:113: SyntaxWarning: unknown element in `owl:ObjectProperty`: <Element '{http://www.w3.org/2002/07/owl#}equivalentProperty' at 0x000002B9E132D270>\n",
      "  self._extract_object_property(prop, curies)\n",
      "c:\\Users\\tinec\\anaconda3\\envs\\sdrf\\lib\\site-packages\\pronto\\parsers\\rdfxml.py:113: SyntaxWarning: unknown element in `owl:ObjectProperty`: <Element '{http://purl.obolibrary.org/obo/}IAO_0000111' at 0x000002B9E132D540>\n",
      "  self._extract_object_property(prop, curies)\n",
      "c:\\Users\\tinec\\anaconda3\\envs\\sdrf\\lib\\site-packages\\pronto\\parsers\\rdfxml.py:113: SyntaxWarning: unknown element in `owl:ObjectProperty`: <Element '{http://purl.obolibrary.org/obo/}IAO_0000112' at 0x000002B9E132D590>\n",
      "  self._extract_object_property(prop, curies)\n",
      "c:\\Users\\tinec\\anaconda3\\envs\\sdrf\\lib\\site-packages\\pronto\\parsers\\rdfxml.py:113: SyntaxWarning: unknown element in `owl:ObjectProperty`: <Element '{http://purl.obolibrary.org/obo/}IAO_0000112' at 0x000002B9E132D5E0>\n",
      "  self._extract_object_property(prop, curies)\n",
      "c:\\Users\\tinec\\anaconda3\\envs\\sdrf\\lib\\site-packages\\pronto\\parsers\\rdfxml.py:113: SyntaxWarning: unknown element in `owl:ObjectProperty`: <Element '{http://purl.obolibrary.org/obo/}IAO_0000112' at 0x000002B9E132D630>\n",
      "  self._extract_object_property(prop, curies)\n",
      "c:\\Users\\tinec\\anaconda3\\envs\\sdrf\\lib\\site-packages\\pronto\\parsers\\rdfxml.py:113: SyntaxWarning: unknown element in `owl:ObjectProperty`: <Element '{http://purl.obolibrary.org/obo/}IAO_0000118' at 0x000002B9E132D680>\n",
      "  self._extract_object_property(prop, curies)\n",
      "c:\\Users\\tinec\\anaconda3\\envs\\sdrf\\lib\\site-packages\\pronto\\parsers\\rdfxml.py:113: SyntaxWarning: unknown element in `owl:ObjectProperty`: <Element '{http://purl.obolibrary.org/obo/}IAO_0000118' at 0x000002B9E132D6D0>\n",
      "  self._extract_object_property(prop, curies)\n",
      "c:\\Users\\tinec\\anaconda3\\envs\\sdrf\\lib\\site-packages\\pronto\\parsers\\rdfxml.py:113: SyntaxWarning: unknown element in `owl:ObjectProperty`: <Element '{http://purl.obolibrary.org/obo/}IAO_0000600' at 0x000002B9E132D770>\n",
      "  self._extract_object_property(prop, curies)\n",
      "c:\\Users\\tinec\\anaconda3\\envs\\sdrf\\lib\\site-packages\\pronto\\parsers\\rdfxml.py:113: SyntaxWarning: unknown element in `owl:ObjectProperty`: <Element '{http://www.w3.org/2002/07/owl#}equivalentProperty' at 0x000002B9E132D950>\n",
      "  self._extract_object_property(prop, curies)\n",
      "c:\\Users\\tinec\\anaconda3\\envs\\sdrf\\lib\\site-packages\\pronto\\parsers\\rdfxml.py:113: SyntaxWarning: unknown element in `owl:ObjectProperty`: <Element '{http://purl.obolibrary.org/obo/}IAO_0000111' at 0x000002B9E132DB30>\n",
      "  self._extract_object_property(prop, curies)\n",
      "c:\\Users\\tinec\\anaconda3\\envs\\sdrf\\lib\\site-packages\\pronto\\parsers\\rdfxml.py:113: SyntaxWarning: unknown element in `owl:ObjectProperty`: <Element '{http://purl.obolibrary.org/obo/}IAO_0000112' at 0x000002B9E132DB80>\n",
      "  self._extract_object_property(prop, curies)\n",
      "c:\\Users\\tinec\\anaconda3\\envs\\sdrf\\lib\\site-packages\\pronto\\parsers\\rdfxml.py:113: SyntaxWarning: unknown element in `owl:ObjectProperty`: <Element '{http://purl.obolibrary.org/obo/}IAO_0000112' at 0x000002B9E132DBD0>\n",
      "  self._extract_object_property(prop, curies)\n",
      "c:\\Users\\tinec\\anaconda3\\envs\\sdrf\\lib\\site-packages\\pronto\\parsers\\rdfxml.py:113: SyntaxWarning: unknown element in `owl:ObjectProperty`: <Element '{http://purl.obolibrary.org/obo/}IAO_0000112' at 0x000002B9E132DC20>\n",
      "  self._extract_object_property(prop, curies)\n",
      "c:\\Users\\tinec\\anaconda3\\envs\\sdrf\\lib\\site-packages\\pronto\\parsers\\rdfxml.py:113: SyntaxWarning: unknown element in `owl:ObjectProperty`: <Element '{http://purl.obolibrary.org/obo/}IAO_0000600' at 0x000002B9E132DCC0>\n",
      "  self._extract_object_property(prop, curies)\n",
      "c:\\Users\\tinec\\anaconda3\\envs\\sdrf\\lib\\site-packages\\pronto\\parsers\\rdfxml.py:113: SyntaxWarning: unknown element in `owl:ObjectProperty`: <Element '{http://purl.obolibrary.org/obo/}IAO_0000111' at 0x000002B9E132DF90>\n",
      "  self._extract_object_property(prop, curies)\n",
      "c:\\Users\\tinec\\anaconda3\\envs\\sdrf\\lib\\site-packages\\pronto\\parsers\\rdfxml.py:113: SyntaxWarning: unknown element in `owl:ObjectProperty`: <Element '{http://purl.obolibrary.org/obo/}IAO_0000116' at 0x000002B9E1333040>\n",
      "  self._extract_object_property(prop, curies)\n",
      "c:\\Users\\tinec\\anaconda3\\envs\\sdrf\\lib\\site-packages\\pronto\\parsers\\rdfxml.py:113: SyntaxWarning: unknown element in `owl:ObjectProperty`: <Element '{http://purl.obolibrary.org/obo/}IAO_0000118' at 0x000002B9E1333090>\n",
      "  self._extract_object_property(prop, curies)\n",
      "c:\\Users\\tinec\\anaconda3\\envs\\sdrf\\lib\\site-packages\\pronto\\parsers\\rdfxml.py:113: SyntaxWarning: unknown element in `owl:ObjectProperty`: <Element '{http://purl.obolibrary.org/obo/}IAO_0000118' at 0x000002B9E13330E0>\n",
      "  self._extract_object_property(prop, curies)\n",
      "c:\\Users\\tinec\\anaconda3\\envs\\sdrf\\lib\\site-packages\\pronto\\parsers\\rdfxml.py:113: SyntaxWarning: unknown element in `owl:ObjectProperty`: <Element '{http://purl.org/dc/elements/1.1/}source' at 0x000002B9E13331D0>\n",
      "  self._extract_object_property(prop, curies)\n",
      "c:\\Users\\tinec\\anaconda3\\envs\\sdrf\\lib\\site-packages\\pronto\\parsers\\rdfxml.py:113: SyntaxWarning: unknown element in `owl:ObjectProperty`: <Element '{http://purl.obolibrary.org/obo/}IAO_0000111' at 0x000002B9E1333400>\n",
      "  self._extract_object_property(prop, curies)\n",
      "c:\\Users\\tinec\\anaconda3\\envs\\sdrf\\lib\\site-packages\\pronto\\parsers\\rdfxml.py:113: SyntaxWarning: unknown element in `owl:ObjectProperty`: <Element '{http://purl.obolibrary.org/obo/}IAO_0000112' at 0x000002B9E13337C0>\n",
      "  self._extract_object_property(prop, curies)\n",
      "c:\\Users\\tinec\\anaconda3\\envs\\sdrf\\lib\\site-packages\\pronto\\parsers\\rdfxml.py:113: SyntaxWarning: unknown element in `owl:ObjectProperty`: <Element '{http://purl.obolibrary.org/obo/}IAO_0000116' at 0x000002B9E13338B0>\n",
      "  self._extract_object_property(prop, curies)\n",
      "c:\\Users\\tinec\\anaconda3\\envs\\sdrf\\lib\\site-packages\\pronto\\parsers\\rdfxml.py:113: SyntaxWarning: unknown element in `owl:ObjectProperty`: <Element '{http://purl.obolibrary.org/obo/}IAO_0000117' at 0x000002B9E1333950>\n",
      "  self._extract_object_property(prop, curies)\n",
      "c:\\Users\\tinec\\anaconda3\\envs\\sdrf\\lib\\site-packages\\pronto\\parsers\\rdfxml.py:113: SyntaxWarning: unknown element in `owl:ObjectProperty`: <Element '{http://purl.obolibrary.org/obo/}IAO_0000119' at 0x000002B9E13339F0>\n",
      "  self._extract_object_property(prop, curies)\n",
      "c:\\Users\\tinec\\anaconda3\\envs\\sdrf\\lib\\site-packages\\pronto\\parsers\\rdfxml.py:113: SyntaxWarning: unknown element in `owl:ObjectProperty`: <Element '{http://purl.obolibrary.org/obo/}IAO_0000112' at 0x000002B9E1333BD0>\n",
      "  self._extract_object_property(prop, curies)\n",
      "c:\\Users\\tinec\\anaconda3\\envs\\sdrf\\lib\\site-packages\\pronto\\parsers\\rdfxml.py:113: SyntaxWarning: unknown element in `owl:ObjectProperty`: <Element '{http://purl.obolibrary.org/obo/}IAO_0000116' at 0x000002B9E1333C70>\n",
      "  self._extract_object_property(prop, curies)\n",
      "c:\\Users\\tinec\\anaconda3\\envs\\sdrf\\lib\\site-packages\\pronto\\parsers\\rdfxml.py:113: SyntaxWarning: unknown element in `owl:ObjectProperty`: <Element '{http://purl.obolibrary.org/obo/}IAO_0000117' at 0x000002B9E1333DB0>\n",
      "  self._extract_object_property(prop, curies)\n",
      "c:\\Users\\tinec\\anaconda3\\envs\\sdrf\\lib\\site-packages\\pronto\\parsers\\rdfxml.py:113: SyntaxWarning: unknown element in `owl:ObjectProperty`: <Element '{http://purl.obolibrary.org/obo/}IAO_0000119' at 0x000002B9E1333E50>\n",
      "  self._extract_object_property(prop, curies)\n",
      "c:\\Users\\tinec\\anaconda3\\envs\\sdrf\\lib\\site-packages\\pronto\\parsers\\rdfxml.py:113: SyntaxWarning: unknown element in `owl:ObjectProperty`: <Element '{http://www.w3.org/2000/01/rdf-schema#}comment' at 0x000002B9E1333EF0>\n",
      "  self._extract_object_property(prop, curies)\n",
      "c:\\Users\\tinec\\anaconda3\\envs\\sdrf\\lib\\site-packages\\pronto\\parsers\\rdfxml.py:113: SyntaxWarning: unknown element in `owl:ObjectProperty`: <Element '{http://www.w3.org/2002/07/owl#}equivalentProperty' at 0x000002B9E133C040>\n",
      "  self._extract_object_property(prop, curies)\n",
      "c:\\Users\\tinec\\anaconda3\\envs\\sdrf\\lib\\site-packages\\pronto\\parsers\\rdfxml.py:113: SyntaxWarning: unknown element in `owl:ObjectProperty`: <Element '{http://purl.obolibrary.org/obo/}IAO_0000116' at 0x000002B9E133C310>\n",
      "  self._extract_object_property(prop, curies)\n",
      "c:\\Users\\tinec\\anaconda3\\envs\\sdrf\\lib\\site-packages\\pronto\\parsers\\rdfxml.py:113: SyntaxWarning: unknown element in `owl:ObjectProperty`: <Element '{http://purl.obolibrary.org/obo/}IAO_0000116' at 0x000002B9E133C360>\n",
      "  self._extract_object_property(prop, curies)\n",
      "c:\\Users\\tinec\\anaconda3\\envs\\sdrf\\lib\\site-packages\\pronto\\parsers\\rdfxml.py:113: SyntaxWarning: unknown element in `owl:ObjectProperty`: <Element '{http://purl.obolibrary.org/obo/}IAO_0000116' at 0x000002B9E133C3B0>\n",
      "  self._extract_object_property(prop, curies)\n",
      "c:\\Users\\tinec\\anaconda3\\envs\\sdrf\\lib\\site-packages\\pronto\\parsers\\rdfxml.py:113: SyntaxWarning: unknown element in `owl:ObjectProperty`: <Element '{http://purl.obolibrary.org/obo/}IAO_0000116' at 0x000002B9E133C400>\n",
      "  self._extract_object_property(prop, curies)\n",
      "c:\\Users\\tinec\\anaconda3\\envs\\sdrf\\lib\\site-packages\\pronto\\parsers\\rdfxml.py:113: SyntaxWarning: unknown element in `owl:ObjectProperty`: <Element '{http://purl.obolibrary.org/obo/}IAO_0000116' at 0x000002B9E133C4A0>\n",
      "  self._extract_object_property(prop, curies)\n",
      "c:\\Users\\tinec\\anaconda3\\envs\\sdrf\\lib\\site-packages\\pronto\\parsers\\rdfxml.py:113: SyntaxWarning: unknown element in `owl:ObjectProperty`: <Element '{http://purl.obolibrary.org/obo/}IAO_0000117' at 0x000002B9E133C4F0>\n",
      "  self._extract_object_property(prop, curies)\n",
      "c:\\Users\\tinec\\anaconda3\\envs\\sdrf\\lib\\site-packages\\pronto\\parsers\\rdfxml.py:113: SyntaxWarning: unknown element in `owl:ObjectProperty`: <Element '{http://purl.obolibrary.org/obo/}IAO_0000117' at 0x000002B9E133CAE0>\n",
      "  self._extract_object_property(prop, curies)\n",
      "c:\\Users\\tinec\\anaconda3\\envs\\sdrf\\lib\\site-packages\\pronto\\parsers\\rdfxml.py:113: SyntaxWarning: unknown element in `owl:ObjectProperty`: <Element '{http://www.w3.org/2002/07/owl#}equivalentProperty' at 0x000002B9E133CC70>\n",
      "  self._extract_object_property(prop, curies)\n",
      "c:\\Users\\tinec\\anaconda3\\envs\\sdrf\\lib\\site-packages\\pronto\\parsers\\rdfxml.py:113: SyntaxWarning: unknown element in `owl:ObjectProperty`: <Element '{http://purl.obolibrary.org/obo/}IAO_0000116' at 0x000002B9E133CE50>\n",
      "  self._extract_object_property(prop, curies)\n",
      "c:\\Users\\tinec\\anaconda3\\envs\\sdrf\\lib\\site-packages\\pronto\\parsers\\rdfxml.py:113: SyntaxWarning: unknown element in `owl:ObjectProperty`: <Element '{http://purl.obolibrary.org/obo/}IAO_0000117' at 0x000002B9E133CEA0>\n",
      "  self._extract_object_property(prop, curies)\n",
      "c:\\Users\\tinec\\anaconda3\\envs\\sdrf\\lib\\site-packages\\pronto\\parsers\\rdfxml.py:113: SyntaxWarning: unknown element in `owl:ObjectProperty`: <Element '{http://purl.obolibrary.org/obo/}IAO_0000117' at 0x000002B9E13442C0>\n",
      "  self._extract_object_property(prop, curies)\n",
      "c:\\Users\\tinec\\anaconda3\\envs\\sdrf\\lib\\site-packages\\pronto\\parsers\\rdfxml.py:113: SyntaxWarning: unknown element in `owl:ObjectProperty`: <Element '{http://www.w3.org/2000/01/rdf-schema#}range' at 0x000002B9E13444A0>\n",
      "  self._extract_object_property(prop, curies)\n",
      "c:\\Users\\tinec\\anaconda3\\envs\\sdrf\\lib\\site-packages\\pronto\\parsers\\rdfxml.py:113: SyntaxWarning: unknown element in `owl:ObjectProperty`: <Element '{http://purl.obolibrary.org/obo/}IAO_0000117' at 0x000002B9E13449F0>\n",
      "  self._extract_object_property(prop, curies)\n",
      "c:\\Users\\tinec\\anaconda3\\envs\\sdrf\\lib\\site-packages\\pronto\\parsers\\rdfxml.py:113: SyntaxWarning: unknown element in `owl:ObjectProperty`: <Element '{http://purl.obolibrary.org/obo/}IAO_0000117' at 0x000002B9E1344DB0>\n",
      "  self._extract_object_property(prop, curies)\n",
      "c:\\Users\\tinec\\anaconda3\\envs\\sdrf\\lib\\site-packages\\pronto\\parsers\\rdfxml.py:113: SyntaxWarning: unknown element in `owl:ObjectProperty`: <Element '{http://purl.obolibrary.org/obo/}IAO_0000119' at 0x000002B9E1344E00>\n",
      "  self._extract_object_property(prop, curies)\n",
      "c:\\Users\\tinec\\anaconda3\\envs\\sdrf\\lib\\site-packages\\pronto\\parsers\\rdfxml.py:113: SyntaxWarning: unknown element in `owl:ObjectProperty`: <Element '{http://www.w3.org/2002/07/owl#}equivalentProperty' at 0x000002B9E134B090>\n",
      "  self._extract_object_property(prop, curies)\n",
      "c:\\Users\\tinec\\anaconda3\\envs\\sdrf\\lib\\site-packages\\pronto\\parsers\\rdfxml.py:113: SyntaxWarning: unknown element in `owl:ObjectProperty`: <Element '{http://purl.obolibrary.org/obo/}IAO_0000111' at 0x000002B9E134B2C0>\n",
      "  self._extract_object_property(prop, curies)\n",
      "c:\\Users\\tinec\\anaconda3\\envs\\sdrf\\lib\\site-packages\\pronto\\parsers\\rdfxml.py:113: SyntaxWarning: unknown element in `owl:ObjectProperty`: <Element '{http://purl.obolibrary.org/obo/}IAO_0000112' at 0x000002B9E134B400>\n",
      "  self._extract_object_property(prop, curies)\n",
      "c:\\Users\\tinec\\anaconda3\\envs\\sdrf\\lib\\site-packages\\pronto\\parsers\\rdfxml.py:113: SyntaxWarning: unknown element in `owl:ObjectProperty`: <Element '{http://purl.obolibrary.org/obo/}IAO_0000117' at 0x000002B9E134B540>\n",
      "  self._extract_object_property(prop, curies)\n",
      "c:\\Users\\tinec\\anaconda3\\envs\\sdrf\\lib\\site-packages\\pronto\\parsers\\rdfxml.py:113: SyntaxWarning: unknown element in `owl:ObjectProperty`: <Element '{http://www.w3.org/2002/07/owl#}equivalentProperty' at 0x000002B9E134B900>\n",
      "  self._extract_object_property(prop, curies)\n",
      "c:\\Users\\tinec\\anaconda3\\envs\\sdrf\\lib\\site-packages\\pronto\\parsers\\rdfxml.py:113: SyntaxWarning: unknown element in `owl:ObjectProperty`: <Element '{http://purl.obolibrary.org/obo/}IAO_0000112' at 0x000002B9E134BB80>\n",
      "  self._extract_object_property(prop, curies)\n",
      "c:\\Users\\tinec\\anaconda3\\envs\\sdrf\\lib\\site-packages\\pronto\\parsers\\rdfxml.py:113: SyntaxWarning: unknown element in `owl:ObjectProperty`: <Element '{http://purl.obolibrary.org/obo/}IAO_0000117' at 0x000002B9E134BC70>\n",
      "  self._extract_object_property(prop, curies)\n",
      "c:\\Users\\tinec\\anaconda3\\envs\\sdrf\\lib\\site-packages\\pronto\\parsers\\rdfxml.py:113: SyntaxWarning: unknown element in `owl:ObjectProperty`: <Element '{http://www.w3.org/2002/07/owl#}equivalentProperty' at 0x000002B9E134BEA0>\n",
      "  self._extract_object_property(prop, curies)\n",
      "c:\\Users\\tinec\\anaconda3\\envs\\sdrf\\lib\\site-packages\\pronto\\parsers\\rdfxml.py:113: SyntaxWarning: unknown element in `owl:ObjectProperty`: <Element '{http://purl.obolibrary.org/obo/}IAO_0000111' at 0x000002B9E1351130>\n",
      "  self._extract_object_property(prop, curies)\n",
      "c:\\Users\\tinec\\anaconda3\\envs\\sdrf\\lib\\site-packages\\pronto\\parsers\\rdfxml.py:113: SyntaxWarning: unknown element in `owl:ObjectProperty`: <Element '{http://purl.obolibrary.org/obo/}IAO_0000117' at 0x000002B9E1351310>\n",
      "  self._extract_object_property(prop, curies)\n",
      "c:\\Users\\tinec\\anaconda3\\envs\\sdrf\\lib\\site-packages\\pronto\\parsers\\rdfxml.py:113: SyntaxWarning: unknown element in `owl:ObjectProperty`: <Element '{http://www.w3.org/2002/07/owl#}equivalentProperty' at 0x000002B9E13516D0>\n",
      "  self._extract_object_property(prop, curies)\n",
      "c:\\Users\\tinec\\anaconda3\\envs\\sdrf\\lib\\site-packages\\pronto\\parsers\\rdfxml.py:113: SyntaxWarning: unknown element in `owl:ObjectProperty`: <Element '{http://purl.obolibrary.org/obo/}IAO_0000111' at 0x000002B9E13518B0>\n",
      "  self._extract_object_property(prop, curies)\n",
      "c:\\Users\\tinec\\anaconda3\\envs\\sdrf\\lib\\site-packages\\pronto\\parsers\\rdfxml.py:113: SyntaxWarning: unknown element in `owl:ObjectProperty`: <Element '{http://purl.obolibrary.org/obo/}IAO_0000117' at 0x000002B9E1351A90>\n",
      "  self._extract_object_property(prop, curies)\n",
      "c:\\Users\\tinec\\anaconda3\\envs\\sdrf\\lib\\site-packages\\pronto\\parsers\\rdfxml.py:113: SyntaxWarning: unknown element in `owl:ObjectProperty`: <Element '{http://purl.obolibrary.org/obo/}IAO_0000112' at 0x000002B9E1351DB0>\n",
      "  self._extract_object_property(prop, curies)\n",
      "c:\\Users\\tinec\\anaconda3\\envs\\sdrf\\lib\\site-packages\\pronto\\parsers\\rdfxml.py:113: SyntaxWarning: unknown element in `owl:ObjectProperty`: <Element '{http://purl.obolibrary.org/obo/}IAO_0000116' at 0x000002B9E1351EA0>\n",
      "  self._extract_object_property(prop, curies)\n",
      "c:\\Users\\tinec\\anaconda3\\envs\\sdrf\\lib\\site-packages\\pronto\\parsers\\rdfxml.py:113: SyntaxWarning: unknown element in `owl:ObjectProperty`: <Element '{http://purl.obolibrary.org/obo/}IAO_0000117' at 0x000002B9E1351F90>\n",
      "  self._extract_object_property(prop, curies)\n",
      "c:\\Users\\tinec\\anaconda3\\envs\\sdrf\\lib\\site-packages\\pronto\\parsers\\rdfxml.py:113: SyntaxWarning: unknown element in `owl:ObjectProperty`: <Element '{http://purl.obolibrary.org/obo/}IAO_0000116' at 0x000002B9E1358810>\n",
      "  self._extract_object_property(prop, curies)\n",
      "c:\\Users\\tinec\\anaconda3\\envs\\sdrf\\lib\\site-packages\\pronto\\parsers\\rdfxml.py:113: SyntaxWarning: unknown element in `owl:ObjectProperty`: <Element '{http://purl.obolibrary.org/obo/}IAO_0000117' at 0x000002B9E1358860>\n",
      "  self._extract_object_property(prop, curies)\n",
      "c:\\Users\\tinec\\anaconda3\\envs\\sdrf\\lib\\site-packages\\pronto\\parsers\\rdfxml.py:113: SyntaxWarning: unknown element in `owl:ObjectProperty`: <Element '{http://purl.obolibrary.org/obo/}IAO_0000117' at 0x000002B9E1358C20>\n",
      "  self._extract_object_property(prop, curies)\n",
      "c:\\Users\\tinec\\anaconda3\\envs\\sdrf\\lib\\site-packages\\pronto\\parsers\\rdfxml.py:113: SyntaxWarning: unknown element in `owl:ObjectProperty`: <Element '{http://purl.obolibrary.org/obo/}IAO_0000119' at 0x000002B9E1358C70>\n",
      "  self._extract_object_property(prop, curies)\n",
      "c:\\Users\\tinec\\anaconda3\\envs\\sdrf\\lib\\site-packages\\pronto\\parsers\\rdfxml.py:113: SyntaxWarning: unknown element in `owl:ObjectProperty`: <Element '{http://www.w3.org/2000/01/rdf-schema#}domain' at 0x000002B9E1358EA0>\n",
      "  self._extract_object_property(prop, curies)\n",
      "c:\\Users\\tinec\\anaconda3\\envs\\sdrf\\lib\\site-packages\\pronto\\parsers\\rdfxml.py:113: SyntaxWarning: unknown element in `owl:ObjectProperty`: <Element '{http://www.w3.org/2000/01/rdf-schema#}range' at 0x000002B9E135E8B0>\n",
      "  self._extract_object_property(prop, curies)\n",
      "c:\\Users\\tinec\\anaconda3\\envs\\sdrf\\lib\\site-packages\\pronto\\parsers\\rdfxml.py:113: SyntaxWarning: unknown element in `owl:ObjectProperty`: <Element '{http://purl.obolibrary.org/obo/}IAO_0000111' at 0x000002B9E135EB80>\n",
      "  self._extract_object_property(prop, curies)\n",
      "c:\\Users\\tinec\\anaconda3\\envs\\sdrf\\lib\\site-packages\\pronto\\parsers\\rdfxml.py:113: SyntaxWarning: unknown element in `owl:ObjectProperty`: <Element '{http://purl.obolibrary.org/obo/}IAO_0000111' at 0x000002B9E1364040>\n",
      "  self._extract_object_property(prop, curies)\n",
      "c:\\Users\\tinec\\anaconda3\\envs\\sdrf\\lib\\site-packages\\pronto\\parsers\\rdfxml.py:113: SyntaxWarning: unknown element in `owl:ObjectProperty`: <Element '{http://purl.obolibrary.org/obo/}IAO_0000111' at 0x000002B9E13643B0>\n",
      "  self._extract_object_property(prop, curies)\n",
      "c:\\Users\\tinec\\anaconda3\\envs\\sdrf\\lib\\site-packages\\pronto\\parsers\\rdfxml.py:113: SyntaxWarning: unknown element in `owl:ObjectProperty`: <Element '{http://purl.obolibrary.org/obo/}IAO_0000117' at 0x000002B9E13644F0>\n",
      "  self._extract_object_property(prop, curies)\n",
      "c:\\Users\\tinec\\anaconda3\\envs\\sdrf\\lib\\site-packages\\pronto\\parsers\\rdfxml.py:113: SyntaxWarning: unknown element in `owl:ObjectProperty`: <Element '{http://purl.obolibrary.org/obo/}IAO_0000119' at 0x000002B9E1364590>\n",
      "  self._extract_object_property(prop, curies)\n",
      "c:\\Users\\tinec\\anaconda3\\envs\\sdrf\\lib\\site-packages\\pronto\\parsers\\rdfxml.py:113: SyntaxWarning: unknown element in `owl:ObjectProperty`: <Element '{http://www.w3.org/2002/07/owl#}equivalentProperty' at 0x000002B9E1364720>\n",
      "  self._extract_object_property(prop, curies)\n",
      "c:\\Users\\tinec\\anaconda3\\envs\\sdrf\\lib\\site-packages\\pronto\\parsers\\rdfxml.py:113: SyntaxWarning: unknown element in `owl:ObjectProperty`: <Element '{http://purl.obolibrary.org/obo/}IAO_0000111' at 0x000002B9E13648B0>\n",
      "  self._extract_object_property(prop, curies)\n",
      "c:\\Users\\tinec\\anaconda3\\envs\\sdrf\\lib\\site-packages\\pronto\\parsers\\rdfxml.py:113: SyntaxWarning: unknown element in `owl:ObjectProperty`: <Element '{http://purl.obolibrary.org/obo/}IAO_0000112' at 0x000002B9E1364900>\n",
      "  self._extract_object_property(prop, curies)\n",
      "c:\\Users\\tinec\\anaconda3\\envs\\sdrf\\lib\\site-packages\\pronto\\parsers\\rdfxml.py:113: SyntaxWarning: unknown element in `owl:ObjectProperty`: <Element '{http://purl.obolibrary.org/obo/}IAO_0000112' at 0x000002B9E1364950>\n",
      "  self._extract_object_property(prop, curies)\n",
      "c:\\Users\\tinec\\anaconda3\\envs\\sdrf\\lib\\site-packages\\pronto\\parsers\\rdfxml.py:113: SyntaxWarning: unknown element in `owl:ObjectProperty`: <Element '{http://purl.obolibrary.org/obo/}IAO_0000116' at 0x000002B9E13649F0>\n",
      "  self._extract_object_property(prop, curies)\n",
      "c:\\Users\\tinec\\anaconda3\\envs\\sdrf\\lib\\site-packages\\pronto\\parsers\\rdfxml.py:113: SyntaxWarning: unknown element in `owl:ObjectProperty`: <Element '{http://purl.obolibrary.org/obo/}IAO_0000118' at 0x000002B9E1364A40>\n",
      "  self._extract_object_property(prop, curies)\n",
      "c:\\Users\\tinec\\anaconda3\\envs\\sdrf\\lib\\site-packages\\pronto\\parsers\\rdfxml.py:113: SyntaxWarning: unknown element in `owl:ObjectProperty`: <Element '{http://www.w3.org/2002/07/owl#}equivalentProperty' at 0x000002B9E1364BD0>\n",
      "  self._extract_object_property(prop, curies)\n",
      "c:\\Users\\tinec\\anaconda3\\envs\\sdrf\\lib\\site-packages\\pronto\\parsers\\rdfxml.py:113: SyntaxWarning: unknown element in `owl:ObjectProperty`: <Element '{http://purl.obolibrary.org/obo/}IAO_0000111' at 0x000002B9E1364D60>\n",
      "  self._extract_object_property(prop, curies)\n",
      "c:\\Users\\tinec\\anaconda3\\envs\\sdrf\\lib\\site-packages\\pronto\\parsers\\rdfxml.py:113: SyntaxWarning: unknown element in `owl:ObjectProperty`: <Element '{http://purl.obolibrary.org/obo/}IAO_0000112' at 0x000002B9E1364DB0>\n",
      "  self._extract_object_property(prop, curies)\n",
      "c:\\Users\\tinec\\anaconda3\\envs\\sdrf\\lib\\site-packages\\pronto\\parsers\\rdfxml.py:113: SyntaxWarning: unknown element in `owl:ObjectProperty`: <Element '{http://purl.obolibrary.org/obo/}IAO_0000112' at 0x000002B9E1364E00>\n",
      "  self._extract_object_property(prop, curies)\n",
      "c:\\Users\\tinec\\anaconda3\\envs\\sdrf\\lib\\site-packages\\pronto\\parsers\\rdfxml.py:113: SyntaxWarning: unknown element in `owl:ObjectProperty`: <Element '{http://purl.obolibrary.org/obo/}IAO_0000116' at 0x000002B9E1364EA0>\n",
      "  self._extract_object_property(prop, curies)\n",
      "c:\\Users\\tinec\\anaconda3\\envs\\sdrf\\lib\\site-packages\\pronto\\parsers\\rdfxml.py:113: SyntaxWarning: unknown element in `owl:ObjectProperty`: <Element '{http://purl.obolibrary.org/obo/}IAO_0000118' at 0x000002B9E1364EF0>\n",
      "  self._extract_object_property(prop, curies)\n",
      "c:\\Users\\tinec\\anaconda3\\envs\\sdrf\\lib\\site-packages\\pronto\\parsers\\rdfxml.py:113: SyntaxWarning: unknown element in `owl:ObjectProperty`: <Element '{http://purl.obolibrary.org/obo/}IAO_0000118' at 0x000002B9E1364F40>\n",
      "  self._extract_object_property(prop, curies)\n",
      "c:\\Users\\tinec\\anaconda3\\envs\\sdrf\\lib\\site-packages\\pronto\\parsers\\rdfxml.py:113: SyntaxWarning: unknown element in `owl:ObjectProperty`: <Element '{http://www.w3.org/2002/07/owl#}equivalentProperty' at 0x000002B9E136B130>\n",
      "  self._extract_object_property(prop, curies)\n",
      "c:\\Users\\tinec\\anaconda3\\envs\\sdrf\\lib\\site-packages\\pronto\\parsers\\rdfxml.py:113: SyntaxWarning: unknown element in `owl:ObjectProperty`: <Element '{http://purl.obolibrary.org/obo/}IAO_0000111' at 0x000002B9E136B360>\n",
      "  self._extract_object_property(prop, curies)\n",
      "c:\\Users\\tinec\\anaconda3\\envs\\sdrf\\lib\\site-packages\\pronto\\parsers\\rdfxml.py:113: SyntaxWarning: unknown element in `owl:ObjectProperty`: <Element '{http://purl.obolibrary.org/obo/}IAO_0000112' at 0x000002B9E136B3B0>\n",
      "  self._extract_object_property(prop, curies)\n",
      "c:\\Users\\tinec\\anaconda3\\envs\\sdrf\\lib\\site-packages\\pronto\\parsers\\rdfxml.py:113: SyntaxWarning: unknown element in `owl:ObjectProperty`: <Element '{http://purl.obolibrary.org/obo/}IAO_0000112' at 0x000002B9E136B400>\n",
      "  self._extract_object_property(prop, curies)\n",
      "c:\\Users\\tinec\\anaconda3\\envs\\sdrf\\lib\\site-packages\\pronto\\parsers\\rdfxml.py:113: SyntaxWarning: unknown element in `owl:ObjectProperty`: <Element '{http://purl.obolibrary.org/obo/}IAO_0000112' at 0x000002B9E136B450>\n",
      "  self._extract_object_property(prop, curies)\n",
      "c:\\Users\\tinec\\anaconda3\\envs\\sdrf\\lib\\site-packages\\pronto\\parsers\\rdfxml.py:113: SyntaxWarning: unknown element in `owl:ObjectProperty`: <Element '{http://purl.obolibrary.org/obo/}IAO_0000118' at 0x000002B9E136B4F0>\n",
      "  self._extract_object_property(prop, curies)\n",
      "c:\\Users\\tinec\\anaconda3\\envs\\sdrf\\lib\\site-packages\\pronto\\parsers\\rdfxml.py:113: SyntaxWarning: unknown element in `owl:ObjectProperty`: <Element '{http://www.w3.org/2002/07/owl#}equivalentProperty' at 0x000002B9E136B630>\n",
      "  self._extract_object_property(prop, curies)\n",
      "c:\\Users\\tinec\\anaconda3\\envs\\sdrf\\lib\\site-packages\\pronto\\parsers\\rdfxml.py:113: SyntaxWarning: unknown element in `owl:ObjectProperty`: <Element '{http://purl.obolibrary.org/obo/}IAO_0000111' at 0x000002B9E136B810>\n",
      "  self._extract_object_property(prop, curies)\n",
      "c:\\Users\\tinec\\anaconda3\\envs\\sdrf\\lib\\site-packages\\pronto\\parsers\\rdfxml.py:113: SyntaxWarning: unknown element in `owl:ObjectProperty`: <Element '{http://purl.obolibrary.org/obo/}IAO_0000112' at 0x000002B9E136B860>\n",
      "  self._extract_object_property(prop, curies)\n",
      "c:\\Users\\tinec\\anaconda3\\envs\\sdrf\\lib\\site-packages\\pronto\\parsers\\rdfxml.py:113: SyntaxWarning: unknown element in `owl:ObjectProperty`: <Element '{http://purl.obolibrary.org/obo/}IAO_0000112' at 0x000002B9E136B8B0>\n",
      "  self._extract_object_property(prop, curies)\n",
      "c:\\Users\\tinec\\anaconda3\\envs\\sdrf\\lib\\site-packages\\pronto\\parsers\\rdfxml.py:113: SyntaxWarning: unknown element in `owl:ObjectProperty`: <Element '{http://purl.obolibrary.org/obo/}IAO_0000112' at 0x000002B9E136B900>\n",
      "  self._extract_object_property(prop, curies)\n",
      "c:\\Users\\tinec\\anaconda3\\envs\\sdrf\\lib\\site-packages\\pronto\\parsers\\rdfxml.py:113: SyntaxWarning: unknown element in `owl:ObjectProperty`: <Element '{http://purl.obolibrary.org/obo/}IAO_0000116' at 0x000002B9E136B9A0>\n",
      "  self._extract_object_property(prop, curies)\n",
      "c:\\Users\\tinec\\anaconda3\\envs\\sdrf\\lib\\site-packages\\pronto\\parsers\\rdfxml.py:113: SyntaxWarning: unknown element in `owl:ObjectProperty`: <Element '{http://purl.obolibrary.org/obo/}IAO_0000118' at 0x000002B9E136B9F0>\n",
      "  self._extract_object_property(prop, curies)\n",
      "c:\\Users\\tinec\\anaconda3\\envs\\sdrf\\lib\\site-packages\\pronto\\parsers\\rdfxml.py:113: SyntaxWarning: unknown element in `owl:ObjectProperty`: <Element '{http://purl.org/dc/elements/1.1/}source' at 0x000002B9E136BA90>\n",
      "  self._extract_object_property(prop, curies)\n",
      "c:\\Users\\tinec\\anaconda3\\envs\\sdrf\\lib\\site-packages\\pronto\\parsers\\rdfxml.py:113: SyntaxWarning: unknown element in `owl:ObjectProperty`: <Element '{http://www.w3.org/2002/07/owl#}equivalentProperty' at 0x000002B9E136BB80>\n",
      "  self._extract_object_property(prop, curies)\n",
      "c:\\Users\\tinec\\anaconda3\\envs\\sdrf\\lib\\site-packages\\pronto\\parsers\\rdfxml.py:113: SyntaxWarning: unknown element in `owl:ObjectProperty`: <Element '{http://purl.obolibrary.org/obo/}IAO_0000112' at 0x000002B9E136BDB0>\n",
      "  self._extract_object_property(prop, curies)\n",
      "c:\\Users\\tinec\\anaconda3\\envs\\sdrf\\lib\\site-packages\\pronto\\parsers\\rdfxml.py:113: SyntaxWarning: unknown element in `owl:ObjectProperty`: <Element '{http://purl.obolibrary.org/obo/}IAO_0000112' at 0x000002B9E136BE00>\n",
      "  self._extract_object_property(prop, curies)\n",
      "c:\\Users\\tinec\\anaconda3\\envs\\sdrf\\lib\\site-packages\\pronto\\parsers\\rdfxml.py:113: SyntaxWarning: unknown element in `owl:ObjectProperty`: <Element '{http://www.w3.org/2002/07/owl#}equivalentProperty' at 0x000002B9E1372040>\n",
      "  self._extract_object_property(prop, curies)\n",
      "c:\\Users\\tinec\\anaconda3\\envs\\sdrf\\lib\\site-packages\\pronto\\parsers\\rdfxml.py:113: SyntaxWarning: unknown element in `owl:ObjectProperty`: <Element '{http://purl.obolibrary.org/obo/}IAO_0000112' at 0x000002B9E1372220>\n",
      "  self._extract_object_property(prop, curies)\n",
      "c:\\Users\\tinec\\anaconda3\\envs\\sdrf\\lib\\site-packages\\pronto\\parsers\\rdfxml.py:113: SyntaxWarning: unknown element in `owl:ObjectProperty`: <Element '{http://purl.obolibrary.org/obo/}IAO_0000112' at 0x000002B9E1372270>\n",
      "  self._extract_object_property(prop, curies)\n",
      "c:\\Users\\tinec\\anaconda3\\envs\\sdrf\\lib\\site-packages\\pronto\\parsers\\rdfxml.py:113: SyntaxWarning: unknown element in `owl:ObjectProperty`: <Element '{http://www.w3.org/2002/07/owl#}equivalentProperty' at 0x000002B9E1372400>\n",
      "  self._extract_object_property(prop, curies)\n",
      "c:\\Users\\tinec\\anaconda3\\envs\\sdrf\\lib\\site-packages\\pronto\\parsers\\rdfxml.py:113: SyntaxWarning: unknown element in `owl:ObjectProperty`: <Element '{http://purl.obolibrary.org/obo/}IAO_0000112' at 0x000002B9E1372630>\n",
      "  self._extract_object_property(prop, curies)\n",
      "c:\\Users\\tinec\\anaconda3\\envs\\sdrf\\lib\\site-packages\\pronto\\parsers\\rdfxml.py:113: SyntaxWarning: unknown element in `owl:ObjectProperty`: <Element '{http://purl.obolibrary.org/obo/}IAO_0000116' at 0x000002B9E13726D0>\n",
      "  self._extract_object_property(prop, curies)\n",
      "c:\\Users\\tinec\\anaconda3\\envs\\sdrf\\lib\\site-packages\\pronto\\parsers\\rdfxml.py:113: SyntaxWarning: unknown element in `owl:ObjectProperty`: <Element '{http://purl.obolibrary.org/obo/}IAO_0000118' at 0x000002B9E1372720>\n",
      "  self._extract_object_property(prop, curies)\n",
      "c:\\Users\\tinec\\anaconda3\\envs\\sdrf\\lib\\site-packages\\pronto\\parsers\\rdfxml.py:113: SyntaxWarning: unknown element in `owl:ObjectProperty`: <Element '{http://purl.obolibrary.org/obo/}IAO_0000118' at 0x000002B9E1372770>\n",
      "  self._extract_object_property(prop, curies)\n",
      "c:\\Users\\tinec\\anaconda3\\envs\\sdrf\\lib\\site-packages\\pronto\\parsers\\rdfxml.py:113: SyntaxWarning: unknown element in `owl:ObjectProperty`: <Element '{http://www.w3.org/2002/07/owl#}equivalentProperty' at 0x000002B9E13728B0>\n",
      "  self._extract_object_property(prop, curies)\n",
      "c:\\Users\\tinec\\anaconda3\\envs\\sdrf\\lib\\site-packages\\pronto\\parsers\\rdfxml.py:113: SyntaxWarning: unknown element in `owl:ObjectProperty`: <Element '{http://purl.obolibrary.org/obo/}IAO_0000112' at 0x000002B9E1372A90>\n",
      "  self._extract_object_property(prop, curies)\n",
      "c:\\Users\\tinec\\anaconda3\\envs\\sdrf\\lib\\site-packages\\pronto\\parsers\\rdfxml.py:113: SyntaxWarning: unknown element in `owl:ObjectProperty`: <Element '{http://purl.obolibrary.org/obo/}IAO_0000116' at 0x000002B9E1372B30>\n",
      "  self._extract_object_property(prop, curies)\n",
      "c:\\Users\\tinec\\anaconda3\\envs\\sdrf\\lib\\site-packages\\pronto\\parsers\\rdfxml.py:113: SyntaxWarning: unknown element in `owl:ObjectProperty`: <Element '{http://purl.obolibrary.org/obo/}IAO_0000118' at 0x000002B9E1372B80>\n",
      "  self._extract_object_property(prop, curies)\n",
      "c:\\Users\\tinec\\anaconda3\\envs\\sdrf\\lib\\site-packages\\pronto\\parsers\\rdfxml.py:113: SyntaxWarning: unknown element in `owl:ObjectProperty`: <Element '{http://purl.obolibrary.org/obo/}IAO_0000118' at 0x000002B9E1372BD0>\n",
      "  self._extract_object_property(prop, curies)\n",
      "c:\\Users\\tinec\\anaconda3\\envs\\sdrf\\lib\\site-packages\\pronto\\parsers\\rdfxml.py:113: SyntaxWarning: unknown element in `owl:ObjectProperty`: <Element '{http://www.w3.org/2002/07/owl#}equivalentProperty' at 0x000002B9E1372D10>\n",
      "  self._extract_object_property(prop, curies)\n",
      "c:\\Users\\tinec\\anaconda3\\envs\\sdrf\\lib\\site-packages\\pronto\\parsers\\rdfxml.py:113: SyntaxWarning: unknown element in `owl:ObjectProperty`: <Element '{http://purl.obolibrary.org/obo/}IAO_0000112' at 0x000002B9E1372EF0>\n",
      "  self._extract_object_property(prop, curies)\n",
      "c:\\Users\\tinec\\anaconda3\\envs\\sdrf\\lib\\site-packages\\pronto\\parsers\\rdfxml.py:113: SyntaxWarning: unknown element in `owl:ObjectProperty`: <Element '{http://purl.obolibrary.org/obo/}IAO_0000116' at 0x000002B9E1372F90>\n",
      "  self._extract_object_property(prop, curies)\n",
      "c:\\Users\\tinec\\anaconda3\\envs\\sdrf\\lib\\site-packages\\pronto\\parsers\\rdfxml.py:113: SyntaxWarning: unknown element in `owl:ObjectProperty`: <Element '{http://purl.obolibrary.org/obo/}IAO_0000118' at 0x000002B9E137A040>\n",
      "  self._extract_object_property(prop, curies)\n",
      "c:\\Users\\tinec\\anaconda3\\envs\\sdrf\\lib\\site-packages\\pronto\\parsers\\rdfxml.py:113: SyntaxWarning: unknown element in `owl:ObjectProperty`: <Element '{http://purl.obolibrary.org/obo/}IAO_0000118' at 0x000002B9E137A090>\n",
      "  self._extract_object_property(prop, curies)\n",
      "c:\\Users\\tinec\\anaconda3\\envs\\sdrf\\lib\\site-packages\\pronto\\parsers\\rdfxml.py:113: SyntaxWarning: unknown element in `owl:ObjectProperty`: <Element '{http://www.w3.org/2002/07/owl#}equivalentProperty' at 0x000002B9E137A1D0>\n",
      "  self._extract_object_property(prop, curies)\n",
      "c:\\Users\\tinec\\anaconda3\\envs\\sdrf\\lib\\site-packages\\pronto\\parsers\\rdfxml.py:113: SyntaxWarning: unknown element in `owl:ObjectProperty`: <Element '{http://purl.obolibrary.org/obo/}IAO_0000112' at 0x000002B9E137A400>\n",
      "  self._extract_object_property(prop, curies)\n",
      "c:\\Users\\tinec\\anaconda3\\envs\\sdrf\\lib\\site-packages\\pronto\\parsers\\rdfxml.py:113: SyntaxWarning: unknown element in `owl:ObjectProperty`: <Element '{http://purl.obolibrary.org/obo/}IAO_0000116' at 0x000002B9E137A4A0>\n",
      "  self._extract_object_property(prop, curies)\n",
      "c:\\Users\\tinec\\anaconda3\\envs\\sdrf\\lib\\site-packages\\pronto\\parsers\\rdfxml.py:113: SyntaxWarning: unknown element in `owl:ObjectProperty`: <Element '{http://purl.obolibrary.org/obo/}IAO_0000118' at 0x000002B9E137A4F0>\n",
      "  self._extract_object_property(prop, curies)\n",
      "c:\\Users\\tinec\\anaconda3\\envs\\sdrf\\lib\\site-packages\\pronto\\parsers\\rdfxml.py:113: SyntaxWarning: unknown element in `owl:ObjectProperty`: <Element '{http://www.w3.org/2002/07/owl#}equivalentProperty' at 0x000002B9E137A630>\n",
      "  self._extract_object_property(prop, curies)\n",
      "c:\\Users\\tinec\\anaconda3\\envs\\sdrf\\lib\\site-packages\\pronto\\parsers\\rdfxml.py:113: SyntaxWarning: unknown element in `owl:ObjectProperty`: <Element '{http://purl.obolibrary.org/obo/}IAO_0000112' at 0x000002B9E137A810>\n",
      "  self._extract_object_property(prop, curies)\n",
      "c:\\Users\\tinec\\anaconda3\\envs\\sdrf\\lib\\site-packages\\pronto\\parsers\\rdfxml.py:113: SyntaxWarning: unknown element in `owl:ObjectProperty`: <Element '{http://purl.obolibrary.org/obo/}IAO_0000116' at 0x000002B9E137A8B0>\n",
      "  self._extract_object_property(prop, curies)\n",
      "c:\\Users\\tinec\\anaconda3\\envs\\sdrf\\lib\\site-packages\\pronto\\parsers\\rdfxml.py:113: SyntaxWarning: unknown element in `owl:ObjectProperty`: <Element '{http://purl.obolibrary.org/obo/}IAO_0000118' at 0x000002B9E137A900>\n",
      "  self._extract_object_property(prop, curies)\n",
      "c:\\Users\\tinec\\anaconda3\\envs\\sdrf\\lib\\site-packages\\pronto\\parsers\\rdfxml.py:113: SyntaxWarning: unknown element in `owl:ObjectProperty`: <Element '{http://www.w3.org/2002/07/owl#}equivalentProperty' at 0x000002B9E137AA40>\n",
      "  self._extract_object_property(prop, curies)\n",
      "c:\\Users\\tinec\\anaconda3\\envs\\sdrf\\lib\\site-packages\\pronto\\parsers\\rdfxml.py:113: SyntaxWarning: unknown element in `owl:ObjectProperty`: <Element '{http://purl.obolibrary.org/obo/}IAO_0000112' at 0x000002B9E137AC70>\n",
      "  self._extract_object_property(prop, curies)\n",
      "c:\\Users\\tinec\\anaconda3\\envs\\sdrf\\lib\\site-packages\\pronto\\parsers\\rdfxml.py:113: SyntaxWarning: unknown element in `owl:ObjectProperty`: <Element '{http://purl.obolibrary.org/obo/}IAO_0000116' at 0x000002B9E137AD10>\n",
      "  self._extract_object_property(prop, curies)\n",
      "c:\\Users\\tinec\\anaconda3\\envs\\sdrf\\lib\\site-packages\\pronto\\parsers\\rdfxml.py:113: SyntaxWarning: unknown element in `owl:ObjectProperty`: <Element '{http://purl.obolibrary.org/obo/}IAO_0000118' at 0x000002B9E137AD60>\n",
      "  self._extract_object_property(prop, curies)\n",
      "c:\\Users\\tinec\\anaconda3\\envs\\sdrf\\lib\\site-packages\\pronto\\parsers\\rdfxml.py:113: SyntaxWarning: unknown element in `owl:ObjectProperty`: <Element '{http://www.w3.org/2002/07/owl#}equivalentProperty' at 0x000002B9E137AEA0>\n",
      "  self._extract_object_property(prop, curies)\n",
      "c:\\Users\\tinec\\anaconda3\\envs\\sdrf\\lib\\site-packages\\pronto\\parsers\\rdfxml.py:113: SyntaxWarning: unknown element in `owl:ObjectProperty`: <Element '{http://purl.obolibrary.org/obo/}IAO_0000112' at 0x000002B9E13821D0>\n",
      "  self._extract_object_property(prop, curies)\n",
      "c:\\Users\\tinec\\anaconda3\\envs\\sdrf\\lib\\site-packages\\pronto\\parsers\\rdfxml.py:113: SyntaxWarning: unknown element in `owl:ObjectProperty`: <Element '{http://purl.obolibrary.org/obo/}IAO_0000112' at 0x000002B9E1382220>\n",
      "  self._extract_object_property(prop, curies)\n",
      "c:\\Users\\tinec\\anaconda3\\envs\\sdrf\\lib\\site-packages\\pronto\\parsers\\rdfxml.py:113: SyntaxWarning: unknown element in `owl:ObjectProperty`: <Element '{http://purl.obolibrary.org/obo/}IAO_0000116' at 0x000002B9E1382310>\n",
      "  self._extract_object_property(prop, curies)\n",
      "c:\\Users\\tinec\\anaconda3\\envs\\sdrf\\lib\\site-packages\\pronto\\parsers\\rdfxml.py:113: SyntaxWarning: unknown element in `owl:ObjectProperty`: <Element '{http://purl.obolibrary.org/obo/}IAO_0000118' at 0x000002B9E13823B0>\n",
      "  self._extract_object_property(prop, curies)\n",
      "c:\\Users\\tinec\\anaconda3\\envs\\sdrf\\lib\\site-packages\\pronto\\parsers\\rdfxml.py:113: SyntaxWarning: unknown element in `owl:ObjectProperty`: <Element '{http://www.w3.org/2002/07/owl#}equivalentProperty' at 0x000002B9E1382540>\n",
      "  self._extract_object_property(prop, curies)\n",
      "c:\\Users\\tinec\\anaconda3\\envs\\sdrf\\lib\\site-packages\\pronto\\parsers\\rdfxml.py:113: SyntaxWarning: unknown element in `owl:ObjectProperty`: <Element '{http://purl.obolibrary.org/obo/}IAO_0000112' at 0x000002B9E1382680>\n",
      "  self._extract_object_property(prop, curies)\n",
      "c:\\Users\\tinec\\anaconda3\\envs\\sdrf\\lib\\site-packages\\pronto\\parsers\\rdfxml.py:113: SyntaxWarning: unknown element in `owl:ObjectProperty`: <Element '{http://purl.obolibrary.org/obo/}IAO_0000112' at 0x000002B9E13826D0>\n",
      "  self._extract_object_property(prop, curies)\n",
      "c:\\Users\\tinec\\anaconda3\\envs\\sdrf\\lib\\site-packages\\pronto\\parsers\\rdfxml.py:113: SyntaxWarning: unknown element in `owl:ObjectProperty`: <Element '{http://purl.obolibrary.org/obo/}IAO_0000116' at 0x000002B9E13827C0>\n",
      "  self._extract_object_property(prop, curies)\n",
      "c:\\Users\\tinec\\anaconda3\\envs\\sdrf\\lib\\site-packages\\pronto\\parsers\\rdfxml.py:113: SyntaxWarning: unknown element in `owl:ObjectProperty`: <Element '{http://purl.obolibrary.org/obo/}IAO_0000118' at 0x000002B9E1382860>\n",
      "  self._extract_object_property(prop, curies)\n",
      "c:\\Users\\tinec\\anaconda3\\envs\\sdrf\\lib\\site-packages\\pronto\\parsers\\rdfxml.py:113: SyntaxWarning: unknown element in `owl:ObjectProperty`: <Element '{http://www.w3.org/2002/07/owl#}equivalentProperty' at 0x000002B9E13829A0>\n",
      "  self._extract_object_property(prop, curies)\n",
      "c:\\Users\\tinec\\anaconda3\\envs\\sdrf\\lib\\site-packages\\pronto\\parsers\\rdfxml.py:113: SyntaxWarning: unknown element in `owl:ObjectProperty`: <Element '{http://purl.obolibrary.org/obo/}IAO_0000111' at 0x000002B9E1382B80>\n",
      "  self._extract_object_property(prop, curies)\n",
      "c:\\Users\\tinec\\anaconda3\\envs\\sdrf\\lib\\site-packages\\pronto\\parsers\\rdfxml.py:113: SyntaxWarning: unknown element in `owl:ObjectProperty`: <Element '{http://purl.obolibrary.org/obo/}IAO_0000112' at 0x000002B9E1382BD0>\n",
      "  self._extract_object_property(prop, curies)\n",
      "c:\\Users\\tinec\\anaconda3\\envs\\sdrf\\lib\\site-packages\\pronto\\parsers\\rdfxml.py:113: SyntaxWarning: unknown element in `owl:ObjectProperty`: <Element '{http://purl.obolibrary.org/obo/}IAO_0000112' at 0x000002B9E1382C20>\n",
      "  self._extract_object_property(prop, curies)\n",
      "c:\\Users\\tinec\\anaconda3\\envs\\sdrf\\lib\\site-packages\\pronto\\parsers\\rdfxml.py:113: SyntaxWarning: unknown element in `owl:ObjectProperty`: <Element '{http://purl.obolibrary.org/obo/}IAO_0000116' at 0x000002B9E1382CC0>\n",
      "  self._extract_object_property(prop, curies)\n",
      "c:\\Users\\tinec\\anaconda3\\envs\\sdrf\\lib\\site-packages\\pronto\\parsers\\rdfxml.py:113: SyntaxWarning: unknown element in `owl:ObjectProperty`: <Element '{http://purl.obolibrary.org/obo/}IAO_0000118' at 0x000002B9E1382D10>\n",
      "  self._extract_object_property(prop, curies)\n",
      "c:\\Users\\tinec\\anaconda3\\envs\\sdrf\\lib\\site-packages\\pronto\\parsers\\rdfxml.py:113: SyntaxWarning: unknown element in `owl:ObjectProperty`: <Element '{http://www.w3.org/2002/07/owl#}equivalentProperty' at 0x000002B9E1382EA0>\n",
      "  self._extract_object_property(prop, curies)\n",
      "c:\\Users\\tinec\\anaconda3\\envs\\sdrf\\lib\\site-packages\\pronto\\parsers\\rdfxml.py:113: SyntaxWarning: unknown element in `owl:ObjectProperty`: <Element '{http://purl.obolibrary.org/obo/}IAO_0000111' at 0x000002B9E1389090>\n",
      "  self._extract_object_property(prop, curies)\n",
      "c:\\Users\\tinec\\anaconda3\\envs\\sdrf\\lib\\site-packages\\pronto\\parsers\\rdfxml.py:113: SyntaxWarning: unknown element in `owl:ObjectProperty`: <Element '{http://purl.obolibrary.org/obo/}IAO_0000112' at 0x000002B9E13890E0>\n",
      "  self._extract_object_property(prop, curies)\n",
      "c:\\Users\\tinec\\anaconda3\\envs\\sdrf\\lib\\site-packages\\pronto\\parsers\\rdfxml.py:113: SyntaxWarning: unknown element in `owl:ObjectProperty`: <Element '{http://purl.obolibrary.org/obo/}IAO_0000112' at 0x000002B9E1389180>\n",
      "  self._extract_object_property(prop, curies)\n",
      "c:\\Users\\tinec\\anaconda3\\envs\\sdrf\\lib\\site-packages\\pronto\\parsers\\rdfxml.py:113: SyntaxWarning: unknown element in `owl:ObjectProperty`: <Element '{http://purl.obolibrary.org/obo/}IAO_0000116' at 0x000002B9E1389220>\n",
      "  self._extract_object_property(prop, curies)\n",
      "c:\\Users\\tinec\\anaconda3\\envs\\sdrf\\lib\\site-packages\\pronto\\parsers\\rdfxml.py:113: SyntaxWarning: unknown element in `owl:ObjectProperty`: <Element '{http://purl.obolibrary.org/obo/}IAO_0000116' at 0x000002B9E1389270>\n",
      "  self._extract_object_property(prop, curies)\n",
      "c:\\Users\\tinec\\anaconda3\\envs\\sdrf\\lib\\site-packages\\pronto\\parsers\\rdfxml.py:113: SyntaxWarning: unknown element in `owl:ObjectProperty`: <Element '{http://purl.obolibrary.org/obo/}IAO_0000118' at 0x000002B9E13892C0>\n",
      "  self._extract_object_property(prop, curies)\n",
      "c:\\Users\\tinec\\anaconda3\\envs\\sdrf\\lib\\site-packages\\pronto\\parsers\\rdfxml.py:113: SyntaxWarning: unknown element in `owl:ObjectProperty`: <Element '{http://purl.org/dc/elements/1.1/}source' at 0x000002B9E13893B0>\n",
      "  self._extract_object_property(prop, curies)\n",
      "c:\\Users\\tinec\\anaconda3\\envs\\sdrf\\lib\\site-packages\\pronto\\parsers\\rdfxml.py:113: SyntaxWarning: unknown element in `owl:ObjectProperty`: <Element '{http://purl.obolibrary.org/obo/}IAO_0000116' at 0x000002B9E1389540>\n",
      "  self._extract_object_property(prop, curies)\n",
      "c:\\Users\\tinec\\anaconda3\\envs\\sdrf\\lib\\site-packages\\pronto\\parsers\\rdfxml.py:113: SyntaxWarning: unknown element in `owl:ObjectProperty`: <Element '{http://purl.obolibrary.org/obo/}IAO_0000119' at 0x000002B9E1389590>\n",
      "  self._extract_object_property(prop, curies)\n",
      "c:\\Users\\tinec\\anaconda3\\envs\\sdrf\\lib\\site-packages\\pronto\\parsers\\rdfxml.py:113: SyntaxWarning: unknown element in `owl:ObjectProperty`: <Element '{http://purl.obolibrary.org/obo/}IAO_0000117' at 0x000002B9E1389860>\n",
      "  self._extract_object_property(prop, curies)\n",
      "c:\\Users\\tinec\\anaconda3\\envs\\sdrf\\lib\\site-packages\\pronto\\parsers\\rdfxml.py:113: SyntaxWarning: unknown element in `owl:ObjectProperty`: <Element '{http://purl.obolibrary.org/obo/}IAO_0000117' at 0x000002B9E1389900>\n",
      "  self._extract_object_property(prop, curies)\n",
      "c:\\Users\\tinec\\anaconda3\\envs\\sdrf\\lib\\site-packages\\pronto\\parsers\\rdfxml.py:113: SyntaxWarning: unknown element in `owl:ObjectProperty`: <Element '{http://purl.obolibrary.org/obo/}IAO_0000117' at 0x000002B9E1389950>\n",
      "  self._extract_object_property(prop, curies)\n",
      "c:\\Users\\tinec\\anaconda3\\envs\\sdrf\\lib\\site-packages\\pronto\\parsers\\rdfxml.py:113: SyntaxWarning: unknown element in `owl:ObjectProperty`: <Element '{http://purl.obolibrary.org/obo/}IAO_0000117' at 0x000002B9E1389AE0>\n",
      "  self._extract_object_property(prop, curies)\n",
      "c:\\Users\\tinec\\anaconda3\\envs\\sdrf\\lib\\site-packages\\pronto\\parsers\\rdfxml.py:113: SyntaxWarning: unknown element in `owl:ObjectProperty`: <Element '{http://purl.obolibrary.org/obo/}IAO_0000117' at 0x000002B9E1389B80>\n",
      "  self._extract_object_property(prop, curies)\n",
      "c:\\Users\\tinec\\anaconda3\\envs\\sdrf\\lib\\site-packages\\pronto\\parsers\\rdfxml.py:113: SyntaxWarning: unknown element in `owl:ObjectProperty`: <Element '{http://purl.obolibrary.org/obo/}IAO_0000117' at 0x000002B9E1389BD0>\n",
      "  self._extract_object_property(prop, curies)\n",
      "c:\\Users\\tinec\\anaconda3\\envs\\sdrf\\lib\\site-packages\\pronto\\parsers\\rdfxml.py:113: SyntaxWarning: unknown element in `owl:ObjectProperty`: <Element '{http://purl.obolibrary.org/obo/}IAO_0000117' at 0x000002B9E1389DB0>\n",
      "  self._extract_object_property(prop, curies)\n",
      "c:\\Users\\tinec\\anaconda3\\envs\\sdrf\\lib\\site-packages\\pronto\\parsers\\rdfxml.py:113: SyntaxWarning: unknown element in `owl:ObjectProperty`: <Element '{http://purl.obolibrary.org/obo/}IAO_0000117' at 0x000002B9E1389E50>\n",
      "  self._extract_object_property(prop, curies)\n",
      "c:\\Users\\tinec\\anaconda3\\envs\\sdrf\\lib\\site-packages\\pronto\\parsers\\rdfxml.py:113: SyntaxWarning: unknown element in `owl:ObjectProperty`: <Element '{http://purl.obolibrary.org/obo/}IAO_0000117' at 0x000002B9E1389EA0>\n",
      "  self._extract_object_property(prop, curies)\n",
      "c:\\Users\\tinec\\anaconda3\\envs\\sdrf\\lib\\site-packages\\pronto\\parsers\\rdfxml.py:113: SyntaxWarning: unknown element in `owl:ObjectProperty`: <Element '{http://purl.obolibrary.org/obo/}IAO_0000119' at 0x000002B9E1389F40>\n",
      "  self._extract_object_property(prop, curies)\n",
      "c:\\Users\\tinec\\anaconda3\\envs\\sdrf\\lib\\site-packages\\pronto\\parsers\\rdfxml.py:113: SyntaxWarning: unknown element in `owl:ObjectProperty`: <Element '{http://www.w3.org/2002/07/owl#}propertyChainAxiom' at 0x000002B9E138F090>\n",
      "  self._extract_object_property(prop, curies)\n",
      "c:\\Users\\tinec\\anaconda3\\envs\\sdrf\\lib\\site-packages\\pronto\\parsers\\rdfxml.py:113: SyntaxWarning: unknown element in `owl:ObjectProperty`: <Element '{http://purl.obolibrary.org/obo/}IAO_0000117' at 0x000002B9E138F1D0>\n",
      "  self._extract_object_property(prop, curies)\n",
      "c:\\Users\\tinec\\anaconda3\\envs\\sdrf\\lib\\site-packages\\pronto\\parsers\\rdfxml.py:113: SyntaxWarning: unknown element in `owl:ObjectProperty`: <Element '{http://purl.obolibrary.org/obo/}IAO_0000117' at 0x000002B9E138F270>\n",
      "  self._extract_object_property(prop, curies)\n",
      "c:\\Users\\tinec\\anaconda3\\envs\\sdrf\\lib\\site-packages\\pronto\\parsers\\rdfxml.py:113: SyntaxWarning: unknown element in `owl:ObjectProperty`: <Element '{http://purl.obolibrary.org/obo/}IAO_0000117' at 0x000002B9E138F2C0>\n",
      "  self._extract_object_property(prop, curies)\n",
      "c:\\Users\\tinec\\anaconda3\\envs\\sdrf\\lib\\site-packages\\pronto\\parsers\\rdfxml.py:113: SyntaxWarning: unknown element in `owl:ObjectProperty`: <Element '{http://purl.obolibrary.org/obo/}IAO_0000119' at 0x000002B9E138F360>\n",
      "  self._extract_object_property(prop, curies)\n",
      "c:\\Users\\tinec\\anaconda3\\envs\\sdrf\\lib\\site-packages\\pronto\\parsers\\rdfxml.py:113: SyntaxWarning: unknown element in `owl:ObjectProperty`: <Element '{http://purl.obolibrary.org/obo/}IAO_0000112' at 0x000002B9E138F450>\n",
      "  self._extract_object_property(prop, curies)\n",
      "c:\\Users\\tinec\\anaconda3\\envs\\sdrf\\lib\\site-packages\\pronto\\parsers\\rdfxml.py:113: SyntaxWarning: unknown element in `owl:ObjectProperty`: <Element '{http://purl.obolibrary.org/obo/}IAO_0000117' at 0x000002B9E138F5E0>\n",
      "  self._extract_object_property(prop, curies)\n",
      "c:\\Users\\tinec\\anaconda3\\envs\\sdrf\\lib\\site-packages\\pronto\\parsers\\rdfxml.py:113: SyntaxWarning: unknown element in `owl:ObjectProperty`: <Element '{http://purl.obolibrary.org/obo/}IAO_0000117' at 0x000002B9E138F680>\n",
      "  self._extract_object_property(prop, curies)\n",
      "c:\\Users\\tinec\\anaconda3\\envs\\sdrf\\lib\\site-packages\\pronto\\parsers\\rdfxml.py:113: SyntaxWarning: unknown element in `owl:ObjectProperty`: <Element '{http://purl.obolibrary.org/obo/}IAO_0000117' at 0x000002B9E138F6D0>\n",
      "  self._extract_object_property(prop, curies)\n",
      "c:\\Users\\tinec\\anaconda3\\envs\\sdrf\\lib\\site-packages\\pronto\\parsers\\rdfxml.py:113: SyntaxWarning: unknown element in `owl:ObjectProperty`: <Element '{http://purl.obolibrary.org/obo/}IAO_0000119' at 0x000002B9E138F770>\n",
      "  self._extract_object_property(prop, curies)\n",
      "c:\\Users\\tinec\\anaconda3\\envs\\sdrf\\lib\\site-packages\\pronto\\parsers\\rdfxml.py:113: SyntaxWarning: unknown element in `owl:ObjectProperty`: <Element '{http://purl.obolibrary.org/obo/}IAO_0000117' at 0x000002B9E138F950>\n",
      "  self._extract_object_property(prop, curies)\n",
      "c:\\Users\\tinec\\anaconda3\\envs\\sdrf\\lib\\site-packages\\pronto\\parsers\\rdfxml.py:113: SyntaxWarning: unknown element in `owl:ObjectProperty`: <Element '{http://purl.obolibrary.org/obo/}IAO_0000117' at 0x000002B9E138F9F0>\n",
      "  self._extract_object_property(prop, curies)\n",
      "c:\\Users\\tinec\\anaconda3\\envs\\sdrf\\lib\\site-packages\\pronto\\parsers\\rdfxml.py:113: SyntaxWarning: unknown element in `owl:ObjectProperty`: <Element '{http://purl.obolibrary.org/obo/}IAO_0000117' at 0x000002B9E138FA40>\n",
      "  self._extract_object_property(prop, curies)\n",
      "c:\\Users\\tinec\\anaconda3\\envs\\sdrf\\lib\\site-packages\\pronto\\parsers\\rdfxml.py:113: SyntaxWarning: unknown element in `owl:ObjectProperty`: <Element '{http://purl.obolibrary.org/obo/}IAO_0000119' at 0x000002B9E138FAE0>\n",
      "  self._extract_object_property(prop, curies)\n",
      "c:\\Users\\tinec\\anaconda3\\envs\\sdrf\\lib\\site-packages\\pronto\\parsers\\rdfxml.py:113: SyntaxWarning: unknown element in `owl:ObjectProperty`: <Element '{http://purl.obolibrary.org/obo/}IAO_0000117' at 0x000002B9E138FC70>\n",
      "  self._extract_object_property(prop, curies)\n",
      "c:\\Users\\tinec\\anaconda3\\envs\\sdrf\\lib\\site-packages\\pronto\\parsers\\rdfxml.py:113: SyntaxWarning: unknown element in `owl:ObjectProperty`: <Element '{http://purl.obolibrary.org/obo/}IAO_0000117' at 0x000002B9E138FD10>\n",
      "  self._extract_object_property(prop, curies)\n",
      "c:\\Users\\tinec\\anaconda3\\envs\\sdrf\\lib\\site-packages\\pronto\\parsers\\rdfxml.py:113: SyntaxWarning: unknown element in `owl:ObjectProperty`: <Element '{http://purl.obolibrary.org/obo/}IAO_0000117' at 0x000002B9E138FD60>\n",
      "  self._extract_object_property(prop, curies)\n",
      "c:\\Users\\tinec\\anaconda3\\envs\\sdrf\\lib\\site-packages\\pronto\\parsers\\rdfxml.py:113: SyntaxWarning: unknown element in `owl:ObjectProperty`: <Element '{http://purl.obolibrary.org/obo/}IAO_0000119' at 0x000002B9E138FE00>\n",
      "  self._extract_object_property(prop, curies)\n",
      "c:\\Users\\tinec\\anaconda3\\envs\\sdrf\\lib\\site-packages\\pronto\\parsers\\rdfxml.py:113: SyntaxWarning: unknown element in `owl:ObjectProperty`: <Element '{http://purl.obolibrary.org/obo/}IAO_0000117' at 0x000002B9E1394040>\n",
      "  self._extract_object_property(prop, curies)\n",
      "c:\\Users\\tinec\\anaconda3\\envs\\sdrf\\lib\\site-packages\\pronto\\parsers\\rdfxml.py:113: SyntaxWarning: unknown element in `owl:ObjectProperty`: <Element '{http://purl.obolibrary.org/obo/}IAO_0000117' at 0x000002B9E13940E0>\n",
      "  self._extract_object_property(prop, curies)\n",
      "c:\\Users\\tinec\\anaconda3\\envs\\sdrf\\lib\\site-packages\\pronto\\parsers\\rdfxml.py:113: SyntaxWarning: unknown element in `owl:ObjectProperty`: <Element '{http://purl.obolibrary.org/obo/}IAO_0000117' at 0x000002B9E1394130>\n",
      "  self._extract_object_property(prop, curies)\n",
      "c:\\Users\\tinec\\anaconda3\\envs\\sdrf\\lib\\site-packages\\pronto\\parsers\\rdfxml.py:113: SyntaxWarning: unknown element in `owl:ObjectProperty`: <Element '{http://purl.obolibrary.org/obo/}IAO_0000117' at 0x000002B9E13942C0>\n",
      "  self._extract_object_property(prop, curies)\n",
      "c:\\Users\\tinec\\anaconda3\\envs\\sdrf\\lib\\site-packages\\pronto\\parsers\\rdfxml.py:113: SyntaxWarning: unknown element in `owl:ObjectProperty`: <Element '{http://purl.obolibrary.org/obo/}IAO_0000117' at 0x000002B9E1394360>\n",
      "  self._extract_object_property(prop, curies)\n",
      "c:\\Users\\tinec\\anaconda3\\envs\\sdrf\\lib\\site-packages\\pronto\\parsers\\rdfxml.py:113: SyntaxWarning: unknown element in `owl:ObjectProperty`: <Element '{http://purl.obolibrary.org/obo/}IAO_0000117' at 0x000002B9E13943B0>\n",
      "  self._extract_object_property(prop, curies)\n",
      "c:\\Users\\tinec\\anaconda3\\envs\\sdrf\\lib\\site-packages\\pronto\\parsers\\rdfxml.py:113: SyntaxWarning: unknown element in `owl:ObjectProperty`: <Element '{http://purl.obolibrary.org/obo/}IAO_0000119' at 0x000002B9E1394450>\n",
      "  self._extract_object_property(prop, curies)\n",
      "c:\\Users\\tinec\\anaconda3\\envs\\sdrf\\lib\\site-packages\\pronto\\parsers\\rdfxml.py:113: SyntaxWarning: unknown element in `owl:ObjectProperty`: <Element '{http://www.w3.org/2000/01/rdf-schema#}domain' at 0x000002B9E1394CC0>\n",
      "  self._extract_object_property(prop, curies)\n",
      "c:\\Users\\tinec\\anaconda3\\envs\\sdrf\\lib\\site-packages\\pronto\\ontology.py:283: NotImplementedWarning: cannot process plain `owl:AnnotationProperty`\n",
      "  cls(self).parse_from(_handle)  # type: ignore\n",
      "c:\\Users\\tinec\\anaconda3\\envs\\sdrf\\lib\\site-packages\\pronto\\parsers\\rdfxml.py:117: SyntaxWarning: unknown element in `owl:Class`: {http://purl.obolibrary.org/obo/}BFO_0000179\n",
      "  self._extract_term(class_, curies)\n",
      "c:\\Users\\tinec\\anaconda3\\envs\\sdrf\\lib\\site-packages\\pronto\\parsers\\rdfxml.py:117: SyntaxWarning: unknown element in `owl:Class`: {http://purl.obolibrary.org/obo/}BFO_0000180\n",
      "  self._extract_term(class_, curies)\n",
      "c:\\Users\\tinec\\anaconda3\\envs\\sdrf\\lib\\site-packages\\pronto\\parsers\\rdfxml.py:117: SyntaxWarning: unknown element in `owl:Class`: {http://purl.obolibrary.org/obo/}IAO_0000112\n",
      "  self._extract_term(class_, curies)\n",
      "c:\\Users\\tinec\\anaconda3\\envs\\sdrf\\lib\\site-packages\\pronto\\parsers\\rdfxml.py:117: SyntaxWarning: unknown element in `owl:Class`: {http://purl.obolibrary.org/obo/}IAO_0000116\n",
      "  self._extract_term(class_, curies)\n",
      "c:\\Users\\tinec\\anaconda3\\envs\\sdrf\\lib\\site-packages\\pronto\\parsers\\rdfxml.py:117: SyntaxWarning: unknown element in `owl:Class`: {http://purl.obolibrary.org/obo/}IAO_0000600\n",
      "  self._extract_term(class_, curies)\n",
      "c:\\Users\\tinec\\anaconda3\\envs\\sdrf\\lib\\site-packages\\pronto\\parsers\\rdfxml.py:117: SyntaxWarning: unknown element in `owl:Class`: {http://purl.obolibrary.org/obo/}IAO_0000601\n",
      "  self._extract_term(class_, curies)\n",
      "c:\\Users\\tinec\\anaconda3\\envs\\sdrf\\lib\\site-packages\\pronto\\parsers\\rdfxml.py:117: SyntaxWarning: unknown element in `owl:Class`: {http://purl.obolibrary.org/obo/}IAO_0000602\n",
      "  self._extract_term(class_, curies)\n",
      "c:\\Users\\tinec\\anaconda3\\envs\\sdrf\\lib\\site-packages\\pronto\\parsers\\rdfxml.py:117: SyntaxWarning: unknown element in `owl:Class`: {http://purl.obolibrary.org/obo/}IAO_0000118\n",
      "  self._extract_term(class_, curies)\n",
      "c:\\Users\\tinec\\anaconda3\\envs\\sdrf\\lib\\site-packages\\pronto\\parsers\\rdfxml.py:117: SyntaxWarning: unknown element in `owl:Class`: {http://purl.obolibrary.org/obo/}IAO_0000111\n",
      "  self._extract_term(class_, curies)\n",
      "c:\\Users\\tinec\\anaconda3\\envs\\sdrf\\lib\\site-packages\\pronto\\parsers\\rdfxml.py:117: SyntaxWarning: several names found for 'CL:0000000', using 'cell'\n",
      "  self._extract_term(class_, curies)\n",
      "c:\\Users\\tinec\\anaconda3\\envs\\sdrf\\lib\\site-packages\\pronto\\parsers\\rdfxml.py:117: SyntaxWarning: cannot process `rdfs:subClassOf` in this context\n",
      "  self._extract_term(class_, curies)\n",
      "c:\\Users\\tinec\\anaconda3\\envs\\sdrf\\lib\\site-packages\\pronto\\parsers\\rdfxml.py:117: SyntaxWarning: unknown element in `owl:Class`: {http://purl.obolibrary.org/obo/}IAO_0000117\n",
      "  self._extract_term(class_, curies)\n",
      "c:\\Users\\tinec\\anaconda3\\envs\\sdrf\\lib\\site-packages\\pronto\\parsers\\rdfxml.py:117: SyntaxWarning: unknown element in `owl:Class`: {http://purl.obolibrary.org/obo/}IAO_0000119\n",
      "  self._extract_term(class_, curies)\n",
      "c:\\Users\\tinec\\anaconda3\\envs\\sdrf\\lib\\site-packages\\pronto\\parsers\\rdfxml.py:117: SyntaxWarning: unknown element in `owl:Class`: {http://purl.obolibrary.org/obo/}IAO_0000232\n",
      "  self._extract_term(class_, curies)\n",
      "c:\\Users\\tinec\\anaconda3\\envs\\sdrf\\lib\\site-packages\\pronto\\parsers\\rdfxml.py:117: SyntaxWarning: unknown element in `owl:Class`: {http://www.w3.org/2002/07/owl#}equivalentClass\n",
      "  self._extract_term(class_, curies)\n",
      "c:\\Users\\tinec\\anaconda3\\envs\\sdrf\\lib\\site-packages\\pronto\\parsers\\rdfxml.py:117: SyntaxWarning: could not extract target IRI from `owl:Restriction`\n",
      "  self._extract_term(class_, curies)\n",
      "c:\\Users\\tinec\\anaconda3\\envs\\sdrf\\lib\\site-packages\\pronto\\parsers\\rdfxml.py:117: SyntaxWarning: unknown element in `owl:Class`: {http://www.w3.org/2000/01/rdf-schema#}seeAlso\n",
      "  self._extract_term(class_, curies)\n",
      "c:\\Users\\tinec\\anaconda3\\envs\\sdrf\\lib\\site-packages\\pronto\\parsers\\rdfxml.py:117: SyntaxWarning: unknown element in `owl:Class`: {http://purl.obolibrary.org/obo/}STATO_0000032\n",
      "  self._extract_term(class_, curies)\n",
      "c:\\Users\\tinec\\anaconda3\\envs\\sdrf\\lib\\site-packages\\pronto\\parsers\\rdfxml.py:117: SyntaxWarning: unknown element in `owl:Class`: {http://purl.obolibrary.org/obo/}STATO_0000404\n",
      "  self._extract_term(class_, curies)\n",
      "c:\\Users\\tinec\\anaconda3\\envs\\sdrf\\lib\\site-packages\\pronto\\parsers\\rdfxml.py:117: SyntaxWarning: unknown element in `owl:Class`: {http://purl.obolibrary.org/obo/}STATO_0000041\n",
      "  self._extract_term(class_, curies)\n",
      "c:\\Users\\tinec\\anaconda3\\envs\\sdrf\\lib\\site-packages\\pronto\\parsers\\rdfxml.py:117: SyntaxWarning: unknown element in `owl:Class`: {http://purl.org/dc/elements/1.1/}source\n",
      "  self._extract_term(class_, curies)\n",
      "c:\\Users\\tinec\\anaconda3\\envs\\sdrf\\lib\\site-packages\\pronto\\parsers\\rdfxml.py:117: SyntaxWarning: unknown element in `owl:Class`: {http://purl.obolibrary.org/obo/}IAO_0000233\n",
      "  self._extract_term(class_, curies)\n",
      "c:\\Users\\tinec\\anaconda3\\envs\\sdrf\\lib\\site-packages\\pronto\\parsers\\rdfxml.py:117: SyntaxWarning: unknown element in `owl:Class`: {http://purl.obolibrary.org/obo/}STATO_0000391\n",
      "  self._extract_term(class_, curies)\n",
      "c:\\Users\\tinec\\anaconda3\\envs\\sdrf\\lib\\site-packages\\pronto\\parsers\\rdfxml.py:117: SyntaxWarning: unknown element in `owl:Class`: {http://usefulinc.com/ns/doap#}bug-database\n",
      "  self._extract_term(class_, curies)\n",
      "c:\\Users\\tinec\\anaconda3\\envs\\sdrf\\lib\\site-packages\\pronto\\ontology.py:283: SyntaxWarning: unknown axiom property: 'http://www.w3.org/2000/01/rdf-schema#subClassOf'\n",
      "  cls(self).parse_from(_handle)  # type: ignore\n"
     ]
    }
   ],
   "source": [
    "ms = Ontology(\"C:\\\\Users\\\\tinec\\\\OneDrive - UGent\\\\git\\\\SDRF_GUI\\\\ontology\\\\psi-ms.obo\")"
   ]
  },
  {
   "attachments": {},
   "cell_type": "markdown",
   "metadata": {},
   "source": [
    "## Cleavage agent details: a list, no substructure"
   ]
  },
  {
   "cell_type": "code",
   "execution_count": null,
   "metadata": {},
   "outputs": [],
   "source": [
    "cleavage_list= []\n",
    "i = list(ms['MS:1001045'].subclasses())\n",
    "for _ in i:\n",
    "    cleavage_list.append(_.name)\n",
    "cleavage_list = cleavage_list[1:]"
   ]
  },
  {
   "cell_type": "code",
   "execution_count": null,
   "metadata": {},
   "outputs": [],
   "source": [
    "cleavage_agent_dict = get_obo_subclasses(ms, 'MS:1001045', 'cleavage agent name')\n",
    "cleavage_agent_dict.pop('cleavage agent name')\n",
    "cleavage_agent_dict"
   ]
  },
  {
   "cell_type": "code",
   "execution_count": null,
   "metadata": {},
   "outputs": [],
   "source": [
    "cleavage_agent_nodes = transform_nested_dict_to_tree(cleavage_agent_dict)\n",
    "all_cleavage_agent_elements = flatten(cleavage_agent_dict)\n",
    "store_as_gzipped_json(cleavage_agent_dict, \"cleavage_agent_dict\")\n",
    "store_as_gzipped_json(cleavage_agent_nodes, \"cleavage_agent_nodes\")\n",
    "store_as_gzipped_json(all_cleavage_agent_elements, \"all_cleavage_agent_elements\")"
   ]
  },
  {
   "cell_type": "code",
   "execution_count": null,
   "metadata": {},
   "outputs": [],
   "source": [
    "store_as_gzipped_json(cleavage_list, 'cleavage_list')"
   ]
  },
  {
   "attachments": {},
   "cell_type": "markdown",
   "metadata": {},
   "source": [
    "## Instrument model. Substructure"
   ]
  },
  {
   "cell_type": "code",
   "execution_count": null,
   "metadata": {},
   "outputs": [],
   "source": [
    "instrument_dict = get_obo_subclasses(ms, 'MS:1000031', 'instrument model', distance=1)\n",
    "instrument_dict.pop('instrument model')"
   ]
  },
  {
   "cell_type": "code",
   "execution_count": null,
   "metadata": {},
   "outputs": [],
   "source": [
    "instrument_dict"
   ]
  },
  {
   "cell_type": "code",
   "execution_count": null,
   "metadata": {},
   "outputs": [],
   "source": [
    "instrument_nodes = transform_nested_dict_to_tree(instrument_dict)\n",
    "all_instrument_elements = flatten(instrument_dict)\n",
    "store_as_gzipped_json(instrument_dict, \"instrument_dict\")\n",
    "store_as_gzipped_json(instrument_nodes, \"instrument_nodes\")\n",
    "store_as_gzipped_json(all_instrument_elements, \"all_instrument_elements\")"
   ]
  },
  {
   "attachments": {},
   "cell_type": "markdown",
   "metadata": {},
   "source": [
    "## Dissociation method:MS:1000044"
   ]
  },
  {
   "cell_type": "code",
   "execution_count": 32,
   "metadata": {},
   "outputs": [
    {
     "data": {
      "text/plain": [
       "{}"
      ]
     },
     "execution_count": 32,
     "metadata": {},
     "output_type": "execute_result"
    }
   ],
   "source": [
    "dissociation_dict = get_obo_subclasses(ms, 'MS:1000044', 'dissociation method', distance=1)\n",
    "dissociation_dict.pop('dissociation method')"
   ]
  },
  {
   "cell_type": "code",
   "execution_count": 36,
   "metadata": {},
   "outputs": [
    {
     "data": {
      "text/plain": [
       "collections.defaultdict"
      ]
     },
     "execution_count": 36,
     "metadata": {},
     "output_type": "execute_result"
    }
   ],
   "source": [
    "dissociation_dict['collision-induced dissociation']"
   ]
  },
  {
   "cell_type": "code",
   "execution_count": null,
   "metadata": {},
   "outputs": [],
   "source": [
    "dissociation_nodes = transform_nested_dict_to_tree(dissociation_dict)\n",
    "all_dissociation_elements = flatten(dissociation_dict)\n",
    "store_as_gzipped_json(dissociation_dict, \"dissociation_dict\")\n",
    "store_as_gzipped_json(dissociation_nodes, \"dissociation_nodes\")\n",
    "store_as_gzipped_json(all_dissociation_elements, \"all_dissociation_elements\")"
   ]
  },
  {
   "attachments": {},
   "cell_type": "markdown",
   "metadata": {},
   "source": [
    "# PRIDE"
   ]
  },
  {
   "cell_type": "code",
   "execution_count": null,
   "metadata": {},
   "outputs": [],
   "source": [
    "# a datetime error appeared, we don't need the creation time so let's remove it\n",
    "file1 = open('pride_cv.obo',\n",
    "             'r')\n",
    " \n",
    "# defining object file2 to\n",
    "# open GeeksforGeeksUpdated file\n",
    "# in write mode\n",
    "file2 = open('pride_cv_updated.obo',\n",
    "             'w')\n",
    " \n",
    "# reading each line from original\n",
    "# text file\n",
    "for line in file1.readlines():\n",
    "   \n",
    "     # reading all lines that do not\n",
    "     # begin with \"TextGenerator\"\n",
    "    if not (line.startswith('creat')):\n",
    "         \n",
    "        # storing only those lines that\n",
    "        # do not begin with \"TextGenerator\"\n",
    "        file2.write(line)\n",
    " \n",
    "# close and save the files\n",
    "file2.close()\n",
    "file1.close()"
   ]
  },
  {
   "cell_type": "code",
   "execution_count": null,
   "metadata": {},
   "outputs": [],
   "source": [
    "pride = Ontology(\"C:\\\\Users\\\\tinec\\\\OneDrive - UGent\\\\git\\\\SDRF_GUI\\\\ontology\\\\pride_cv_updated.obo\")"
   ]
  },
  {
   "attachments": {},
   "cell_type": "markdown",
   "metadata": {},
   "source": [
    "if fractionated: comment[ fractionation method]PRIDE:0000550<br>\n",
    "'comment[label]', ==> label free, TMT channelsPRIDE:0000514"
   ]
  },
  {
   "attachments": {},
   "cell_type": "markdown",
   "metadata": {},
   "source": [
    "## Fractionation method "
   ]
  },
  {
   "cell_type": "code",
   "execution_count": null,
   "metadata": {},
   "outputs": [],
   "source": [
    "fractionation_dict = get_obo_subclasses(pride, 'PRIDE:0000550', 'Fractionation method', distance=1)\n",
    "fractionation_dict\n",
    "# PRIDE"
   ]
  },
  {
   "cell_type": "code",
   "execution_count": null,
   "metadata": {},
   "outputs": [],
   "source": [
    "fractionation_dict.pop('Fractionation method')"
   ]
  },
  {
   "cell_type": "code",
   "execution_count": null,
   "metadata": {},
   "outputs": [],
   "source": [
    "fractionation_nodes = transform_nested_dict_to_tree(fractionation_dict)\n",
    "all_fractionation_elements = flatten(fractionation_dict)\n",
    "store_as_gzipped_json(fractionation_dict, \"fractionation_dict\")\n",
    "store_as_gzipped_json(fractionation_nodes, \"fractionation_nodes\")\n",
    "store_as_gzipped_json(all_fractionation_elements, \"all_fractionation_elements\")"
   ]
  },
  {
   "attachments": {},
   "cell_type": "markdown",
   "metadata": {},
   "source": [
    "## Label"
   ]
  },
  {
   "cell_type": "code",
   "execution_count": null,
   "metadata": {},
   "outputs": [],
   "source": [
    "label_dict = get_obo_subclasses(pride, 'PRIDE:0000514', 'Label', distance=1)\n",
    "label_dict\n",
    "# PRIDE"
   ]
  },
  {
   "cell_type": "code",
   "execution_count": null,
   "metadata": {},
   "outputs": [],
   "source": [
    "label_dict.pop('Label')"
   ]
  },
  {
   "cell_type": "code",
   "execution_count": null,
   "metadata": {},
   "outputs": [],
   "source": [
    "label_dict[\"Stable isotope dimethyl labeling\"] = {}"
   ]
  },
  {
   "cell_type": "code",
   "execution_count": null,
   "metadata": {},
   "outputs": [],
   "source": [
    "label_nodes = transform_nested_dict_to_tree(label_dict)\n",
    "all_label_elements = flatten(label_dict)\n",
    "store_as_gzipped_json(label_dict, \"label_dict\")\n",
    "store_as_gzipped_json(label_nodes, \"label_nodes\")\n",
    "store_as_gzipped_json(all_label_elements, \"all_label_elements\")"
   ]
  },
  {
   "attachments": {},
   "cell_type": "markdown",
   "metadata": {},
   "source": [
    "reduction reagent \n",
    "alkylation reagent"
   ]
  },
  {
   "cell_type": "code",
   "execution_count": null,
   "metadata": {},
   "outputs": [],
   "source": [
    "reduction_dict = get_obo_subclasses(pride, 'PRIDE:0000607', 'reduction reagent', distance=1)\n",
    "reduction_dict.pop(\"reduction reagent\")"
   ]
  },
  {
   "cell_type": "code",
   "execution_count": null,
   "metadata": {},
   "outputs": [],
   "source": [
    "reduction_nodes = transform_nested_dict_to_tree(reduction_dict)\n",
    "all_reduction_elements = flatten(reduction_dict)\n",
    "store_as_gzipped_json(reduction_dict, \"reduction_dict\")\n",
    "store_as_gzipped_json(reduction_nodes, \"reduction_nodes\")\n",
    "store_as_gzipped_json(all_reduction_elements, \"all_reduction_elements\")"
   ]
  },
  {
   "cell_type": "code",
   "execution_count": null,
   "metadata": {},
   "outputs": [],
   "source": [
    "alkylation_dict = get_obo_subclasses(pride, 'PRIDE:0000598', 'alkylation reagent', distance=1)\n",
    "alkylation_dict.pop(\"alkylation reagent\")\n",
    "alkylation_nodes = transform_nested_dict_to_tree(alkylation_dict)\n",
    "all_alkylation_elements = flatten(alkylation_dict)\n",
    "store_as_gzipped_json(alkylation_dict, \"alkylation_dict\")\n",
    "store_as_gzipped_json(alkylation_nodes, \"alkylation_nodes\")\n",
    "store_as_gzipped_json(all_alkylation_elements, \"all_alkylation_elements\")"
   ]
  },
  {
   "cell_type": "code",
   "execution_count": null,
   "metadata": {},
   "outputs": [],
   "source": []
  },
  {
   "attachments": {},
   "cell_type": "markdown",
   "metadata": {},
   "source": [
    "# NCBITaxon"
   ]
  },
  {
   "cell_type": "code",
   "execution_count": 5,
   "metadata": {},
   "outputs": [],
   "source": [
    "ncbi = Ontology(\"C:\\\\Users\\\\tinec\\\\OneDrive - UGent\\\\git\\\\SDRF_GUI\\\\ontology\\\\ncbitaxon.obo\")"
   ]
  },
  {
   "cell_type": "code",
   "execution_count": 6,
   "metadata": {},
   "outputs": [],
   "source": [
    "# find all end leafs in the obo tree and store them in a list\n",
    "def get_obo_leafs(obo, root, root_name):\n",
    "    leafs = []\n",
    "    i = list(obo[root].subclasses())\n",
    "    for _ in i:\n",
    "        if len(_.subclasses()) == 0:\n",
    "            leafs.append(_.name)\n",
    "        else:\n",
    "            leafs.extend(get_obo_leafs(obo, _, _.name))\n",
    "    return leafs"
   ]
  },
  {
   "cell_type": "code",
   "execution_count": 12,
   "metadata": {},
   "outputs": [
    {
     "ename": "KeyboardInterrupt",
     "evalue": "",
     "output_type": "error",
     "traceback": [
      "\u001b[1;31m---------------------------------------------------------------------------\u001b[0m",
      "\u001b[1;31mStopIteration\u001b[0m                             Traceback (most recent call last)",
      "File \u001b[1;32mC:\\Python39\\Lib\\inspect.py:2927\u001b[0m, in \u001b[0;36mSignature._bind\u001b[1;34m(self, args, kwargs, partial)\u001b[0m\n\u001b[0;32m   2926\u001b[0m \u001b[39mtry\u001b[39;00m:\n\u001b[1;32m-> 2927\u001b[0m     arg_val \u001b[39m=\u001b[39m \u001b[39mnext\u001b[39;49m(arg_vals)\n\u001b[0;32m   2928\u001b[0m \u001b[39mexcept\u001b[39;00m \u001b[39mStopIteration\u001b[39;00m:\n\u001b[0;32m   2929\u001b[0m     \u001b[39m# No more positional arguments\u001b[39;00m\n",
      "\u001b[1;31mStopIteration\u001b[0m: ",
      "\nDuring handling of the above exception, another exception occurred:\n",
      "\u001b[1;31mKeyboardInterrupt\u001b[0m                         Traceback (most recent call last)",
      "Cell \u001b[1;32mIn[12], line 1\u001b[0m\n\u001b[1;32m----> 1\u001b[0m \u001b[39mlist\u001b[39;49m(ncbi[\u001b[39m'\u001b[39;49m\u001b[39mNCBITaxon:1\u001b[39;49m\u001b[39m'\u001b[39;49m]\u001b[39m.\u001b[39;49msubclasses())\n",
      "File \u001b[1;32mc:\\Users\\tinec\\anaconda3\\envs\\sdrf\\lib\\site-packages\\pronto\\logic\\lineage.py:296\u001b[0m, in \u001b[0;36mLineageIterator.__next__\u001b[1;34m(self)\u001b[0m\n\u001b[0;32m    294\u001b[0m \u001b[39mif\u001b[39;00m id_ \u001b[39mis\u001b[39;00m \u001b[39mNone\u001b[39;00m:\n\u001b[0;32m    295\u001b[0m     \u001b[39mraise\u001b[39;00m \u001b[39mStopIteration\u001b[39;00m\n\u001b[1;32m--> 296\u001b[0m \u001b[39mreturn\u001b[39;00m \u001b[39mself\u001b[39;49m\u001b[39m.\u001b[39;49m_get_entity(id_)\n",
      "File \u001b[1;32mc:\\Users\\tinec\\anaconda3\\envs\\sdrf\\lib\\site-packages\\pronto\\logic\\lineage.py:304\u001b[0m, in \u001b[0;36mTermIterator._get_entity\u001b[1;34m(self, id)\u001b[0m\n\u001b[0;32m    303\u001b[0m \u001b[39mdef\u001b[39;00m \u001b[39m_get_entity\u001b[39m(\u001b[39mself\u001b[39m, \u001b[39mid\u001b[39m):\n\u001b[1;32m--> 304\u001b[0m     \u001b[39mreturn\u001b[39;00m \u001b[39mself\u001b[39;49m\u001b[39m.\u001b[39;49m_ontology\u001b[39m.\u001b[39;49mget_term(\u001b[39mid\u001b[39;49m)\n",
      "File \u001b[1;32mc:\\Users\\tinec\\anaconda3\\envs\\sdrf\\lib\\site-packages\\pronto\\utils\\meta.py:86\u001b[0m, in \u001b[0;36mtypechecked.__call__.<locals>.newfunc\u001b[1;34m(*args, **kwargs)\u001b[0m\n\u001b[0;32m     83\u001b[0m \u001b[39m@functools\u001b[39m\u001b[39m.\u001b[39mwraps(func)\n\u001b[0;32m     84\u001b[0m \u001b[39mdef\u001b[39;00m \u001b[39mnewfunc\u001b[39m(\u001b[39m*\u001b[39margs, \u001b[39m*\u001b[39m\u001b[39m*\u001b[39mkwargs):\n\u001b[0;32m     85\u001b[0m     \u001b[39mif\u001b[39;00m \u001b[39mnot\u001b[39;00m \u001b[39mself\u001b[39m\u001b[39m.\u001b[39m_disable:\n\u001b[1;32m---> 86\u001b[0m         callargs \u001b[39m=\u001b[39m signature\u001b[39m.\u001b[39mbind(\u001b[39m*\u001b[39margs, \u001b[39m*\u001b[39m\u001b[39m*\u001b[39mkwargs)\u001b[39m.\u001b[39marguments\n\u001b[0;32m     87\u001b[0m         \u001b[39mfor\u001b[39;00m name, value \u001b[39min\u001b[39;00m callargs\u001b[39m.\u001b[39mitems():\n\u001b[0;32m     88\u001b[0m             \u001b[39mif\u001b[39;00m name \u001b[39min\u001b[39;00m hints:\n",
      "File \u001b[1;32mC:\\Python39\\Lib\\inspect.py:3050\u001b[0m, in \u001b[0;36mSignature.bind\u001b[1;34m(self, *args, **kwargs)\u001b[0m\n\u001b[0;32m   3045\u001b[0m \u001b[39mdef\u001b[39;00m \u001b[39mbind\u001b[39m(\u001b[39mself\u001b[39m, \u001b[39m/\u001b[39m, \u001b[39m*\u001b[39margs, \u001b[39m*\u001b[39m\u001b[39m*\u001b[39mkwargs):\n\u001b[0;32m   3046\u001b[0m \u001b[39m    \u001b[39m\u001b[39m\"\"\"Get a BoundArguments object, that maps the passed `args`\u001b[39;00m\n\u001b[0;32m   3047\u001b[0m \u001b[39m    and `kwargs` to the function's signature.  Raises `TypeError`\u001b[39;00m\n\u001b[0;32m   3048\u001b[0m \u001b[39m    if the passed arguments can not be bound.\u001b[39;00m\n\u001b[0;32m   3049\u001b[0m \u001b[39m    \"\"\"\u001b[39;00m\n\u001b[1;32m-> 3050\u001b[0m     \u001b[39mreturn\u001b[39;00m \u001b[39mself\u001b[39;49m\u001b[39m.\u001b[39;49m_bind(args, kwargs)\n",
      "File \u001b[1;32mC:\\Python39\\Lib\\inspect.py:2928\u001b[0m, in \u001b[0;36mSignature._bind\u001b[1;34m(self, args, kwargs, partial)\u001b[0m\n\u001b[0;32m   2926\u001b[0m \u001b[39mtry\u001b[39;00m:\n\u001b[0;32m   2927\u001b[0m     arg_val \u001b[39m=\u001b[39m \u001b[39mnext\u001b[39m(arg_vals)\n\u001b[1;32m-> 2928\u001b[0m \u001b[39mexcept\u001b[39;00m \u001b[39mStopIteration\u001b[39;49;00m:\n\u001b[0;32m   2929\u001b[0m     \u001b[39m# No more positional arguments\u001b[39;00m\n\u001b[0;32m   2930\u001b[0m     \u001b[39mtry\u001b[39;00m:\n\u001b[0;32m   2931\u001b[0m         param \u001b[39m=\u001b[39m \u001b[39mnext\u001b[39m(parameters)\n",
      "\u001b[1;31mKeyboardInterrupt\u001b[0m: "
     ]
    }
   ],
   "source": [
    "list(ncbi['NCBITaxon:1'].subclasses())"
   ]
  },
  {
   "cell_type": "code",
   "execution_count": 7,
   "metadata": {},
   "outputs": [
    {
     "ename": "TypeError",
     "evalue": "object of type 'SubclassesHandler' has no len()",
     "output_type": "error",
     "traceback": [
      "\u001b[1;31m---------------------------------------------------------------------------\u001b[0m",
      "\u001b[1;31mTypeError\u001b[0m                                 Traceback (most recent call last)",
      "Cell \u001b[1;32mIn[7], line 1\u001b[0m\n\u001b[1;32m----> 1\u001b[0m leafs_list \u001b[39m=\u001b[39m get_obo_leafs(ncbi, \u001b[39m'\u001b[39;49m\u001b[39mNCBITaxon:1\u001b[39;49m\u001b[39m'\u001b[39;49m, \u001b[39m'\u001b[39;49m\u001b[39mroot\u001b[39;49m\u001b[39m'\u001b[39;49m)\n",
      "Cell \u001b[1;32mIn[6], line 6\u001b[0m, in \u001b[0;36mget_obo_leafs\u001b[1;34m(obo, root, root_name)\u001b[0m\n\u001b[0;32m      4\u001b[0m i \u001b[39m=\u001b[39m \u001b[39mlist\u001b[39m(obo[root]\u001b[39m.\u001b[39msubclasses())\n\u001b[0;32m      5\u001b[0m \u001b[39mfor\u001b[39;00m _ \u001b[39min\u001b[39;00m i:\n\u001b[1;32m----> 6\u001b[0m     \u001b[39mif\u001b[39;00m \u001b[39mlen\u001b[39;49m(_\u001b[39m.\u001b[39;49msubclasses()) \u001b[39m==\u001b[39m \u001b[39m0\u001b[39m:\n\u001b[0;32m      7\u001b[0m         leafs\u001b[39m.\u001b[39mappend(_\u001b[39m.\u001b[39mname)\n\u001b[0;32m      8\u001b[0m     \u001b[39melse\u001b[39;00m:\n",
      "\u001b[1;31mTypeError\u001b[0m: object of type 'SubclassesHandler' has no len()"
     ]
    }
   ],
   "source": [
    "leafs_list = get_obo_leafs(ncbi, 'NCBITaxon:1', 'root')"
   ]
  },
  {
   "cell_type": "code",
   "execution_count": null,
   "metadata": {},
   "outputs": [],
   "source": [
    "root_dict = get_obo_subclasses(ncbi, 'NCBITaxon:1', 'root', distance=1)"
   ]
  },
  {
   "cell_type": "code",
   "execution_count": null,
   "metadata": {},
   "outputs": [],
   "source": [
    "taxonomy_nodes = transform_nested_dict_to_tree(root_dict)\n",
    "all_taxonomy_elements = flatten(root_dict)\n",
    "store_as_gzipped_json(root_dict, \"taxonomy_dict\")\n",
    "store_as_gzipped_json(taxonomy_nodes, \"taxonomy_nodes\")\n",
    "store_as_gzipped_json(all_taxonomy_elements, \"all_taxonomy_elements\")"
   ]
  },
  {
   "attachments": {},
   "cell_type": "markdown",
   "metadata": {},
   "source": [
    "Very large dict, causes too long waiting times ==> split in different taxa?"
   ]
  },
  {
   "cell_type": "code",
   "execution_count": 8,
   "metadata": {},
   "outputs": [],
   "source": [
    "virus_dict = get_obo_subclasses(ncbi, 'NCBITaxon:10239', 'Viruses', distance=1)"
   ]
  },
  {
   "cell_type": "code",
   "execution_count": 9,
   "metadata": {},
   "outputs": [],
   "source": [
    "archaea_dict = get_obo_subclasses(ncbi, 'NCBITaxon:2157', 'Archaea', distance=1)\n",
    "bacteria_dict = get_obo_subclasses(ncbi, 'NCBITaxon:2', 'Bacteria', distance=1)\n",
    "other_sequences_dict = get_obo_subclasses(ncbi, 'NCBITaxon:28384', 'other sequences', distance=1)\n",
    "unclassified_dict = get_obo_subclasses(ncbi, 'NCBITaxon:12908', 'unclassified entries', distance=1)"
   ]
  },
  {
   "cell_type": "code",
   "execution_count": 6,
   "metadata": {},
   "outputs": [],
   "source": [
    "eukaryota_dict = get_obo_subclasses(ncbi, 'NCBITaxon:2759', 'Eukaryota', distance=1)"
   ]
  },
  {
   "cell_type": "code",
   "execution_count": 42,
   "metadata": {},
   "outputs": [],
   "source": [
    "sp = get_obo_subclasses(ncbi, \"NCBITaxon:88918\", \"Trimeniaceae\", distance=1 )"
   ]
  },
  {
   "cell_type": "code",
   "execution_count": 43,
   "metadata": {},
   "outputs": [],
   "source": [
    "sp\n",
    "# count unique elements in nested dictionary\n",
    "def count_unique_elements(nested_dict):\n",
    "    unique_elements = []\n",
    "    for key, value in nested_dict.items():\n",
    "        if isinstance(value, dict):\n",
    "            unique_elements.append(key)\n",
    "            unique_elements.extend(count_unique_elements(value))\n",
    "        else:\n",
    "            unique_elements.append(key)\n",
    "    return list(set(unique_elements))\n",
    "sp_elem = count_unique_elements(sp)"
   ]
  },
  {
   "cell_type": "code",
   "execution_count": 57,
   "metadata": {},
   "outputs": [
    {
     "data": {
      "text/plain": [
       "dict_keys(['Eukaryota', 'Breviatea', 'Hemimastigophora', 'Rhodelphea', 'Haptista', 'CRuMs', 'Metamonada', 'Discoba', 'Eukaryota incertae sedis', 'Ancyromonadida', 'Sar', 'Rhodophyta', 'Malawimonadida', 'Provora', 'Cryptophyceae', 'Viridiplantae', 'Opisthokonta', 'Glaucocystophyceae', 'unclassified eukaryotes', 'Apusozoa', 'Amoebozoa', 'environmental samples <eukaryotes,superkingdom Eukaryota>', ('environmental samples <eukaryotes,superkingdom Eukaryota>',), 'environmental samples'])"
      ]
     },
     "execution_count": 57,
     "metadata": {},
     "output_type": "execute_result"
    }
   ],
   "source": [
    "eukaryota_dict.keys()"
   ]
  },
  {
   "cell_type": "code",
   "execution_count": 7,
   "metadata": {},
   "outputs": [
    {
     "name": "stdout",
     "output_type": "stream",
     "text": [
      "1679405\n"
     ]
    }
   ],
   "source": [
    "print(len(euk_elem))"
   ]
  },
  {
   "cell_type": "code",
   "execution_count": 10,
   "metadata": {},
   "outputs": [
    {
     "ename": "NameError",
     "evalue": "name 'eukaryota_dict' is not defined",
     "output_type": "error",
     "traceback": [
      "\u001b[1;31m---------------------------------------------------------------------------\u001b[0m",
      "\u001b[1;31mNameError\u001b[0m                                 Traceback (most recent call last)",
      "Cell \u001b[1;32mIn[10], line 3\u001b[0m\n\u001b[0;32m      1\u001b[0m archaea_dict\u001b[39m.\u001b[39mpop(\u001b[39m'\u001b[39m\u001b[39mArchaea\u001b[39m\u001b[39m'\u001b[39m)\n\u001b[0;32m      2\u001b[0m bacteria_dict\u001b[39m.\u001b[39mpop(\u001b[39m'\u001b[39m\u001b[39mBacteria\u001b[39m\u001b[39m'\u001b[39m)\n\u001b[1;32m----> 3\u001b[0m eukaryota_dict\u001b[39m.\u001b[39mpop(\u001b[39m'\u001b[39m\u001b[39mEukaryota\u001b[39m\u001b[39m'\u001b[39m)\n\u001b[0;32m      4\u001b[0m other_sequences_dict\u001b[39m.\u001b[39mpop(\u001b[39m'\u001b[39m\u001b[39mother sequences\u001b[39m\u001b[39m'\u001b[39m)\n\u001b[0;32m      5\u001b[0m unclassified_dict\u001b[39m.\u001b[39mpop(\u001b[39m'\u001b[39m\u001b[39munclassified entries\u001b[39m\u001b[39m'\u001b[39m)\n",
      "\u001b[1;31mNameError\u001b[0m: name 'eukaryota_dict' is not defined"
     ]
    }
   ],
   "source": [
    "archaea_dict.pop('Archaea')\n",
    "bacteria_dict.pop('Bacteria')\n",
    "eukaryota_dict.pop('Eukaryota')\n",
    "other_sequences_dict.pop('other sequences')\n",
    "unclassified_dict.pop('unclassified entries')\n",
    "virus_dict.pop('Viruses')"
   ]
  },
  {
   "cell_type": "code",
   "execution_count": 1,
   "metadata": {},
   "outputs": [
    {
     "ename": "NameError",
     "evalue": "name 'virus_dict' is not defined",
     "output_type": "error",
     "traceback": [
      "\u001b[1;31m---------------------------------------------------------------------------\u001b[0m",
      "\u001b[1;31mNameError\u001b[0m                                 Traceback (most recent call last)",
      "Cell \u001b[1;32mIn[1], line 1\u001b[0m\n\u001b[1;32m----> 1\u001b[0m taxonomies \u001b[39m=\u001b[39m [virus_dict, archaea_dict, bacteria_dict, eukaryota_dict, other_sequences_dict, unclassified_dict]\t\n\u001b[0;32m      2\u001b[0m names \u001b[39m=\u001b[39m [\u001b[39m\"\u001b[39m\u001b[39mvirus\u001b[39m\u001b[39m\"\u001b[39m, \u001b[39m\"\u001b[39m\u001b[39marchaea\u001b[39m\u001b[39m\"\u001b[39m, \u001b[39m\"\u001b[39m\u001b[39mbacteria\u001b[39m\u001b[39m\"\u001b[39m, \u001b[39m\"\u001b[39m\u001b[39meukaryota\u001b[39m\u001b[39m\"\u001b[39m, \u001b[39m\"\u001b[39m\u001b[39mother_sequences\u001b[39m\u001b[39m\"\u001b[39m, \u001b[39m\"\u001b[39m\u001b[39munclassified\u001b[39m\u001b[39m\"\u001b[39m]\n\u001b[0;32m      3\u001b[0m \u001b[39mfor\u001b[39;00m i, name \u001b[39min\u001b[39;00m \u001b[39mzip\u001b[39m(taxonomies, names):\n",
      "\u001b[1;31mNameError\u001b[0m: name 'virus_dict' is not defined"
     ]
    }
   ],
   "source": [
    "taxonomies = [virus_dict, archaea_dict, bacteria_dict, eukaryota_dict, other_sequences_dict, unclassified_dict]\t\n",
    "names = [\"virus\", \"archaea\", \"bacteria\", \"eukaryota\", \"other_sequences\", \"unclassified\"]\n",
    "for i, name in zip(taxonomies, names):\n",
    "    nodes = transform_nested_dict_to_tree(i)\n",
    "    elements = flatten(i)\n",
    "    store_as_gzipped_json(i, f\"{name}_dict\")\n",
    "    store_as_gzipped_json(nodes, f\"{name}_nodes\")\n",
    "    store_as_gzipped_json(set(elements), f\"all_{name}_elements\")\n",
    "    print(f\"{name} done\")"
   ]
  },
  {
   "cell_type": "code",
   "execution_count": 8,
   "metadata": {},
   "outputs": [
    {
     "ename": "TypeError",
     "evalue": "unhashable type: 'collections.defaultdict'",
     "output_type": "error",
     "traceback": [
      "\u001b[1;31m---------------------------------------------------------------------------\u001b[0m",
      "\u001b[1;31mTypeError\u001b[0m                                 Traceback (most recent call last)",
      "Cell \u001b[1;32mIn[8], line 1\u001b[0m\n\u001b[1;32m----> 1\u001b[0m eu_elem \u001b[39m=\u001b[39m flatten(eukaryota_dict)\n",
      "File \u001b[1;32mc:\\Users\\tinec\\OneDrive - UGent\\git\\SDRF_GUI\\ParsingModule.py:122\u001b[0m, in \u001b[0;36mflatten\u001b[1;34m(d)\u001b[0m\n\u001b[0;32m    120\u001b[0m     \u001b[39melse\u001b[39;00m:\n\u001b[0;32m    121\u001b[0m         items\u001b[39m.\u001b[39mappend(v)\n\u001b[1;32m--> 122\u001b[0m items \u001b[39m=\u001b[39m \u001b[39mlist\u001b[39m(\u001b[39mset\u001b[39;49m(items))\n\u001b[0;32m    123\u001b[0m \u001b[39mreturn\u001b[39;00m items\n",
      "\u001b[1;31mTypeError\u001b[0m: unhashable type: 'collections.defaultdict'"
     ]
    }
   ],
   "source": [
    "eu_elem = flatten(eukaryota_dict)"
   ]
  },
  {
   "cell_type": "code",
   "execution_count": 78,
   "metadata": {},
   "outputs": [],
   "source": [
    "from sys import getsizeof"
   ]
  },
  {
   "cell_type": "code",
   "execution_count": 10,
   "metadata": {},
   "outputs": [
    {
     "data": {
      "text/plain": [
       "67109080"
      ]
     },
     "execution_count": 10,
     "metadata": {},
     "output_type": "execute_result"
    }
   ],
   "source": [
    "getsizeof(euk_elem)"
   ]
  },
  {
   "cell_type": "code",
   "execution_count": 80,
   "metadata": {},
   "outputs": [
    {
     "data": {
      "text/plain": [
       "13533400"
      ]
     },
     "execution_count": 80,
     "metadata": {},
     "output_type": "execute_result"
    }
   ],
   "source": [
    "getsizeof(species_list)"
   ]
  },
  {
   "cell_type": "code",
   "execution_count": 51,
   "metadata": {},
   "outputs": [
    {
     "data": {
      "text/plain": [
       "1184"
      ]
     },
     "execution_count": 51,
     "metadata": {},
     "output_type": "execute_result"
    }
   ],
   "source": [
    "getsizeof(eukaryota_dict)"
   ]
  },
  {
   "cell_type": "code",
   "execution_count": 20,
   "metadata": {},
   "outputs": [
    {
     "data": {
      "text/plain": [
       "-53673784"
      ]
     },
     "execution_count": 20,
     "metadata": {},
     "output_type": "execute_result"
    }
   ],
   "source": [
    "getsizeof(eu_elem) - getsizeof(set(eu_elem))"
   ]
  },
  {
   "cell_type": "code",
   "execution_count": 21,
   "metadata": {},
   "outputs": [
    {
     "data": {
      "text/plain": [
       "13434112"
      ]
     },
     "execution_count": 21,
     "metadata": {},
     "output_type": "execute_result"
    }
   ],
   "source": [
    "getsizeof(eu_elem) - getsizeof(eukaryota_dict)"
   ]
  },
  {
   "cell_type": "code",
   "execution_count": 65,
   "metadata": {},
   "outputs": [],
   "source": [
    "import networkx\n",
    "import obonet\n",
    "\n",
    "graph = obonet.read_obo(\"C:\\\\Users\\\\tinec\\\\OneDrive - UGent\\\\git\\\\SDRF_GUI\\\\ontology\\\\ncbitaxon.obo\")"
   ]
  },
  {
   "cell_type": "code",
   "execution_count": 67,
   "metadata": {},
   "outputs": [
    {
     "name": "stdout",
     "output_type": "stream",
     "text": [
      "There are 2490774 nodes\n",
      "There are 2490772 edges\n"
     ]
    }
   ],
   "source": [
    "print(f\"There are {len(graph)} nodes\") #number of nodes\n",
    "print(f\"There are {graph.number_of_edges()} edges\") #number of edges"
   ]
  },
  {
   "cell_type": "code",
   "execution_count": 68,
   "metadata": {},
   "outputs": [
    {
     "data": {
      "text/plain": [
       "True"
      ]
     },
     "execution_count": 68,
     "metadata": {},
     "output_type": "execute_result"
    }
   ],
   "source": [
    "networkx.is_directed_acyclic_graph(graph)"
   ]
  },
  {
   "cell_type": "code",
   "execution_count": 70,
   "metadata": {},
   "outputs": [
    {
     "data": {
      "text/plain": [
       "{'name': 'Haemoproteidae',\n",
       " 'namespace': 'ncbi_taxonomy',\n",
       " 'xref': ['GC_ID:1'],\n",
       " 'is_a': ['NCBITaxon:5819'],\n",
       " 'property_value': ['has_rank NCBITaxon:family']}"
      ]
     },
     "execution_count": 70,
     "metadata": {},
     "output_type": "execute_result"
    }
   ],
   "source": [
    "graph.nodes[\"NCBITaxon:1639121\"]"
   ]
  },
  {
   "cell_type": "code",
   "execution_count": null,
   "metadata": {},
   "outputs": [],
   "source": []
  },
  {
   "cell_type": "code",
   "execution_count": 82,
   "metadata": {},
   "outputs": [],
   "source": [
    "eukaryota_list = []\n",
    "for i in networkx.ancestors(graph,\"NCBITaxon:2759\"):\n",
    "   eukaryota_list.append(graph.nodes[i][\"name\"])\n",
    "\n",
    "virus_list = []\n",
    "for i in networkx.ancestors(graph,\"NCBITaxon:10239\"):\n",
    "   virus_list.append(graph.nodes[i][\"name\"])\n",
    "\n",
    "bacteria_list = []\n",
    "for i in networkx.ancestors(graph,\"NCBITaxon:2\"):\n",
    "   bacteria_list.append(graph.nodes[i][\"name\"])"
   ]
  },
  {
   "cell_type": "code",
   "execution_count": 83,
   "metadata": {},
   "outputs": [
    {
     "name": "stdout",
     "output_type": "stream",
     "text": [
      "236153 541922 1679404\n"
     ]
    }
   ],
   "source": [
    "print(len(virus_list), len(bacteria_list), len(eukaryota_list))"
   ]
  },
  {
   "cell_type": "code",
   "execution_count": 79,
   "metadata": {},
   "outputs": [
    {
     "data": {
      "text/plain": [
       "13533400"
      ]
     },
     "execution_count": 79,
     "metadata": {},
     "output_type": "execute_result"
    }
   ],
   "source": [
    "getsizeof(species_list)"
   ]
  },
  {
   "cell_type": "code",
   "execution_count": 81,
   "metadata": {},
   "outputs": [
    {
     "data": {
      "text/plain": [
       "1679405"
      ]
     },
     "execution_count": 81,
     "metadata": {},
     "output_type": "execute_result"
    }
   ],
   "source": [
    "len(euk_elem)"
   ]
  },
  {
   "cell_type": "code",
   "execution_count": null,
   "metadata": {},
   "outputs": [],
   "source": []
  }
 ],
 "metadata": {
  "kernelspec": {
   "display_name": "sdrf",
   "language": "python",
   "name": "python3"
  },
  "language_info": {
   "codemirror_mode": {
    "name": "ipython",
    "version": 3
   },
   "file_extension": ".py",
   "mimetype": "text/x-python",
   "name": "python",
   "nbconvert_exporter": "python",
   "pygments_lexer": "ipython3",
   "version": "3.9.13"
  },
  "orig_nbformat": 4,
  "vscode": {
   "interpreter": {
    "hash": "22ea4e8e4bc62f1f2c468860a17a62e47bb896f26c043965a0be0ae51df573cc"
   }
  }
 },
 "nbformat": 4,
 "nbformat_minor": 2
}
