{
 "cells": [
  {
   "cell_type": "code",
   "execution_count": 1,
   "metadata": {},
   "outputs": [
    {
     "name": "stderr",
     "output_type": "stream",
     "text": [
      "* Owlready2 * Warning: optimized Cython parser module 'owlready2_optimized' is not available, defaulting to slower Python implementation\n"
     ]
    }
   ],
   "source": [
    "import requests\n",
    "import rdflib\n",
    "import warnings\n",
    "warnings.filterwarnings(\"ignore\")\n",
    "from rdflib import Graph, Namespace, RDFS\n",
    "from owlready2 import get_ontology\n",
    "from owlready2 import *\n",
    "from rdflib import Graph, Namespace, RDFS"
   ]
  },
  {
   "cell_type": "code",
   "execution_count": 2,
   "metadata": {},
   "outputs": [
    {
     "ename": "KeyboardInterrupt",
     "evalue": "",
     "output_type": "error",
     "traceback": [
      "\u001b[1;31m---------------------------------------------------------------------------\u001b[0m",
      "\u001b[1;31mKeyboardInterrupt\u001b[0m                         Traceback (most recent call last)",
      "Cell \u001b[1;32mIn[2], line 5\u001b[0m\n\u001b[0;32m      2\u001b[0m \u001b[39mfrom\u001b[39;00m \u001b[39mcollections\u001b[39;00m \u001b[39mimport\u001b[39;00m defaultdict\n\u001b[0;32m      4\u001b[0m g \u001b[39m=\u001b[39m Graph()\n\u001b[1;32m----> 5\u001b[0m g\u001b[39m.\u001b[39;49mparse(\u001b[39m\"\u001b[39;49m\u001b[39mSDRF_GUI/ontology/ncbitaxon.owl\u001b[39;49m\u001b[39m\"\u001b[39;49m, \u001b[39mformat\u001b[39;49m\u001b[39m=\u001b[39;49m\u001b[39m\"\u001b[39;49m\u001b[39mxml\u001b[39;49m\u001b[39m\"\u001b[39;49m)\n\u001b[0;32m      7\u001b[0m HANCESTRO \u001b[39m=\u001b[39m Namespace(\u001b[39m\"\u001b[39m\u001b[39mhttp://www.hancestro.org/ontologies/hancestro#\u001b[39m\u001b[39m\"\u001b[39m)\n\u001b[0;32m      9\u001b[0m class_labels \u001b[39m=\u001b[39m defaultdict(\u001b[39mdict\u001b[39m)\n",
      "File \u001b[1;32mc:\\Users\\tinec\\anaconda3\\envs\\sdrf\\lib\\site-packages\\rdflib\\graph.py:1330\u001b[0m, in \u001b[0;36mGraph.parse\u001b[1;34m(self, source, publicID, format, location, file, data, **args)\u001b[0m\n\u001b[0;32m   1327\u001b[0m parser \u001b[39m=\u001b[39m plugin\u001b[39m.\u001b[39mget(\u001b[39mformat\u001b[39m, Parser)()\n\u001b[0;32m   1328\u001b[0m \u001b[39mtry\u001b[39;00m:\n\u001b[0;32m   1329\u001b[0m     \u001b[39m# TODO FIXME: Parser.parse should have **kwargs argument.\u001b[39;00m\n\u001b[1;32m-> 1330\u001b[0m     parser\u001b[39m.\u001b[39mparse(source, \u001b[39mself\u001b[39m, \u001b[39m*\u001b[39m\u001b[39m*\u001b[39margs)\n\u001b[0;32m   1331\u001b[0m \u001b[39mexcept\u001b[39;00m \u001b[39mSyntaxError\u001b[39;00m \u001b[39mas\u001b[39;00m se:\n\u001b[0;32m   1332\u001b[0m     \u001b[39mif\u001b[39;00m could_not_guess_format:\n",
      "File \u001b[1;32mc:\\Users\\tinec\\anaconda3\\envs\\sdrf\\lib\\site-packages\\rdflib\\plugins\\parsers\\rdfxml.py:604\u001b[0m, in \u001b[0;36mRDFXMLParser.parse\u001b[1;34m(self, source, sink, **args)\u001b[0m\n\u001b[0;32m    600\u001b[0m     content_handler\u001b[39m.\u001b[39mpreserve_bnode_ids \u001b[39m=\u001b[39m preserve_bnode_ids\n\u001b[0;32m    601\u001b[0m \u001b[39m# # We're only using it once now\u001b[39;00m\n\u001b[0;32m    602\u001b[0m \u001b[39m# content_handler.reset()\u001b[39;00m\n\u001b[0;32m    603\u001b[0m \u001b[39m# self._parser.reset()\u001b[39;00m\n\u001b[1;32m--> 604\u001b[0m \u001b[39mself\u001b[39;49m\u001b[39m.\u001b[39;49m_parser\u001b[39m.\u001b[39;49mparse(source)\n",
      "File \u001b[1;32mC:\\Python39\\Lib\\xml\\sax\\expatreader.py:111\u001b[0m, in \u001b[0;36mExpatParser.parse\u001b[1;34m(self, source)\u001b[0m\n\u001b[0;32m    109\u001b[0m     \u001b[39mself\u001b[39m\u001b[39m.\u001b[39mreset()\n\u001b[0;32m    110\u001b[0m     \u001b[39mself\u001b[39m\u001b[39m.\u001b[39m_cont_handler\u001b[39m.\u001b[39msetDocumentLocator(ExpatLocator(\u001b[39mself\u001b[39m))\n\u001b[1;32m--> 111\u001b[0m     xmlreader\u001b[39m.\u001b[39;49mIncrementalParser\u001b[39m.\u001b[39;49mparse(\u001b[39mself\u001b[39;49m, source)\n\u001b[0;32m    112\u001b[0m \u001b[39mexcept\u001b[39;00m:\n\u001b[0;32m    113\u001b[0m     \u001b[39m# bpo-30264: Close the source on error to not leak resources:\u001b[39;00m\n\u001b[0;32m    114\u001b[0m     \u001b[39m# xml.sax.parse() doesn't give access to the underlying parser\u001b[39;00m\n\u001b[0;32m    115\u001b[0m     \u001b[39m# to the caller\u001b[39;00m\n\u001b[0;32m    116\u001b[0m     \u001b[39mself\u001b[39m\u001b[39m.\u001b[39m_close_source()\n",
      "File \u001b[1;32mC:\\Python39\\Lib\\xml\\sax\\xmlreader.py:125\u001b[0m, in \u001b[0;36mIncrementalParser.parse\u001b[1;34m(self, source)\u001b[0m\n\u001b[0;32m    123\u001b[0m buffer \u001b[39m=\u001b[39m file\u001b[39m.\u001b[39mread(\u001b[39mself\u001b[39m\u001b[39m.\u001b[39m_bufsize)\n\u001b[0;32m    124\u001b[0m \u001b[39mwhile\u001b[39;00m buffer:\n\u001b[1;32m--> 125\u001b[0m     \u001b[39mself\u001b[39;49m\u001b[39m.\u001b[39;49mfeed(buffer)\n\u001b[0;32m    126\u001b[0m     buffer \u001b[39m=\u001b[39m file\u001b[39m.\u001b[39mread(\u001b[39mself\u001b[39m\u001b[39m.\u001b[39m_bufsize)\n\u001b[0;32m    127\u001b[0m \u001b[39mself\u001b[39m\u001b[39m.\u001b[39mclose()\n",
      "File \u001b[1;32mC:\\Python39\\Lib\\xml\\sax\\expatreader.py:217\u001b[0m, in \u001b[0;36mExpatParser.feed\u001b[1;34m(self, data, isFinal)\u001b[0m\n\u001b[0;32m    210\u001b[0m     \u001b[39mself\u001b[39m\u001b[39m.\u001b[39m_cont_handler\u001b[39m.\u001b[39mstartDocument()\n\u001b[0;32m    212\u001b[0m \u001b[39mtry\u001b[39;00m:\n\u001b[0;32m    213\u001b[0m     \u001b[39m# The isFinal parameter is internal to the expat reader.\u001b[39;00m\n\u001b[0;32m    214\u001b[0m     \u001b[39m# If it is set to true, expat will check validity of the entire\u001b[39;00m\n\u001b[0;32m    215\u001b[0m     \u001b[39m# document. When feeding chunks, they are not normally final -\u001b[39;00m\n\u001b[0;32m    216\u001b[0m     \u001b[39m# except when invoked from close.\u001b[39;00m\n\u001b[1;32m--> 217\u001b[0m     \u001b[39mself\u001b[39;49m\u001b[39m.\u001b[39;49m_parser\u001b[39m.\u001b[39;49mParse(data, isFinal)\n\u001b[0;32m    218\u001b[0m \u001b[39mexcept\u001b[39;00m expat\u001b[39m.\u001b[39merror \u001b[39mas\u001b[39;00m e:\n\u001b[0;32m    219\u001b[0m     exc \u001b[39m=\u001b[39m SAXParseException(expat\u001b[39m.\u001b[39mErrorString(e\u001b[39m.\u001b[39mcode), e, \u001b[39mself\u001b[39m)\n",
      "File \u001b[1;32mC:\\A\\31\\s\\Modules\\pyexpat.c:407\u001b[0m, in \u001b[0;36mStartElement\u001b[1;34m()\u001b[0m\n",
      "File \u001b[1;32mC:\\Python39\\Lib\\xml\\sax\\expatreader.py:369\u001b[0m, in \u001b[0;36mExpatParser.start_element_ns\u001b[1;34m(self, name, attrs)\u001b[0m\n\u001b[0;32m    366\u001b[0m     newattrs[apair] \u001b[39m=\u001b[39m value\n\u001b[0;32m    367\u001b[0m     qnames[apair] \u001b[39m=\u001b[39m qname\n\u001b[1;32m--> 369\u001b[0m \u001b[39mself\u001b[39;49m\u001b[39m.\u001b[39;49m_cont_handler\u001b[39m.\u001b[39;49mstartElementNS(pair, \u001b[39mNone\u001b[39;49;00m,\n\u001b[0;32m    370\u001b[0m                                   AttributesNSImpl(newattrs, qnames))\n",
      "File \u001b[1;32mc:\\Users\\tinec\\anaconda3\\envs\\sdrf\\lib\\site-packages\\rdflib\\plugins\\parsers\\rdfxml.py:190\u001b[0m, in \u001b[0;36mRDFXMLHandler.startElementNS\u001b[1;34m(self, name, qname, attrs)\u001b[0m\n\u001b[0;32m    188\u001b[0m         language \u001b[39m=\u001b[39m parent\u001b[39m.\u001b[39mlanguage\n\u001b[0;32m    189\u001b[0m current\u001b[39m.\u001b[39mlanguage \u001b[39m=\u001b[39m language\n\u001b[1;32m--> 190\u001b[0m current\u001b[39m.\u001b[39;49mstart(name, qname, attrs)\n",
      "File \u001b[1;32mc:\\Users\\tinec\\anaconda3\\envs\\sdrf\\lib\\site-packages\\rdflib\\plugins\\parsers\\rdfxml.py:388\u001b[0m, in \u001b[0;36mRDFXMLHandler.property_element_start\u001b[1;34m(self, name, qname, attrs)\u001b[0m\n\u001b[0;32m    385\u001b[0m \u001b[39melse\u001b[39;00m:\n\u001b[0;32m    386\u001b[0m     current\u001b[39m.\u001b[39mpredicate \u001b[39m=\u001b[39m absolutize(name)\n\u001b[1;32m--> 388\u001b[0m \u001b[39mid\u001b[39m \u001b[39m=\u001b[39m atts\u001b[39m.\u001b[39mget(RDFVOC\u001b[39m.\u001b[39;49mID, \u001b[39mNone\u001b[39;00m)\n\u001b[0;32m    389\u001b[0m \u001b[39mif\u001b[39;00m \u001b[39mid\u001b[39m \u001b[39mis\u001b[39;00m \u001b[39mnot\u001b[39;00m \u001b[39mNone\u001b[39;00m:\n\u001b[0;32m    390\u001b[0m     \u001b[39mif\u001b[39;00m \u001b[39mnot\u001b[39;00m is_ncname(\u001b[39mid\u001b[39m):\n",
      "File \u001b[1;32mc:\\Users\\tinec\\anaconda3\\envs\\sdrf\\lib\\site-packages\\rdflib\\namespace\\__init__.py:238\u001b[0m, in \u001b[0;36mDefinedNamespaceMeta.__getattr__\u001b[1;34m(cls, name)\u001b[0m\n\u001b[0;32m    237\u001b[0m \u001b[39mdef\u001b[39;00m \u001b[39m__getattr__\u001b[39m(\u001b[39mcls\u001b[39m, name: \u001b[39mstr\u001b[39m):\n\u001b[1;32m--> 238\u001b[0m     \u001b[39mreturn\u001b[39;00m \u001b[39mcls\u001b[39;49m\u001b[39m.\u001b[39;49m\u001b[39m__getitem__\u001b[39;49m(name)\n",
      "\u001b[1;31mKeyboardInterrupt\u001b[0m: "
     ]
    }
   ],
   "source": [
    "#nested dict\n",
    "from collections import defaultdict\n",
    "\n",
    "g = Graph()\n",
    "g.parse(\"SDRF_GUI/ontology/hancestro.owl\", format=\"xml\")\n",
    "\n",
    "HANCESTRO = Namespace(\"http://www.hancestro.org/ontologies/hancestro#\")\n",
    "\n",
    "class_labels = defaultdict(dict)\n",
    "pairs = []\n",
    "all_elements = set()\n",
    "for s, p, o in g.triples((None, RDFS.subClassOf, None)):\n",
    "    sub_class = g.value(s, RDFS.label).toPython()\n",
    "    super_class = g.value(o, RDFS.label)\n",
    "    all_elements.add(sub_class)\n",
    "    all_elements.add(super_class)\n",
    "    if super_class:\n",
    "        super_class = super_class.toPython()\n",
    "    else:\n",
    "        super_class = \"Thing\"\n",
    "    pairs.append((super_class, sub_class))\n",
    "    class_labels[super_class][sub_class] = class_labels[sub_class]\n",
    "    if sub_class in class_labels:\n",
    "        del class_labels[sub_class]"
   ]
  },
  {
   "cell_type": "code",
   "execution_count": 12,
   "metadata": {},
   "outputs": [],
   "source": [
    "d = defaultdict(dict)\n",
    "root = 'ancestry category'  # first parent value\n",
    "for parent, child in pairs:\n",
    "    d[parent][child] = d[child]\n",
    "    if root == child:\n",
    "        root = parent\n",
    "result = {root: d[root]}"
   ]
  },
  {
   "cell_type": "code",
   "execution_count": 13,
   "metadata": {},
   "outputs": [],
   "source": [
    "def flatten(d):    \n",
    "    res = []  # Result list\n",
    "    if isinstance(d, dict):\n",
    "        for key, val in d.items():\n",
    "            res.extend(flatten(val))\n",
    "    elif isinstance(d, list):\n",
    "        res = d        \n",
    "    else:\n",
    "        raise TypeError(\"Undefined type for flatten: %s\"%type(d))\n",
    "\n",
    "    return res"
   ]
  },
  {
   "cell_type": "code",
   "execution_count": 15,
   "metadata": {},
   "outputs": [
    {
     "data": {
      "text/plain": [
       "dict_keys(['European', 'Asian', 'African', 'Native American', 'Hispanic or Latin American', 'Greater Middle Eastern  (Middle Eastern, North African or Persian)', 'African American or Afro-Caribbean', 'Oceanian', 'uncategorised population', 'genetically isolated population', 'Aboriginal Australian', 'undefined ancestry population', 'Not available'])"
      ]
     },
     "execution_count": 15,
     "metadata": {},
     "output_type": "execute_result"
    }
   ],
   "source": [
    "ancestry_dict = result['Thing']['ancestry category']\n",
    "ancestry_dict['Not available'] = {}\n",
    "ancestry_dict.keys()"
   ]
  },
  {
   "cell_type": "code",
   "execution_count": 16,
   "metadata": {},
   "outputs": [
    {
     "data": {
      "text/plain": [
       "'Stored all_ancestry_category_elements as gzipped json'"
      ]
     },
     "execution_count": 16,
     "metadata": {},
     "output_type": "execute_result"
    }
   ],
   "source": [
    "from ParsingModule import * \n",
    "ancestry_nodes = transform_nested_dict_to_tree(ancestry_dict)\n",
    "all_ancestry_elements = flatten(ancestry_dict)\n",
    "store_as_gzipped_json(ancestry_dict, \"ancestry_category_dict\")\n",
    "store_as_gzipped_json(ancestry_nodes, \"ancestry_category_nodes\")\n",
    "store_as_gzipped_json(all_ancestry_elements, \"all_ancestry_category_elements\")"
   ]
  },
  {
   "cell_type": "code",
   "execution_count": 8,
   "metadata": {},
   "outputs": [],
   "source": [
    "def depth(d):\n",
    "    if isinstance(d, dict):\n",
    "        return 1 + (max(map(depth, d.values())) if d else 0)\n",
    "    return 0"
   ]
  },
  {
   "cell_type": "code",
   "execution_count": 9,
   "metadata": {},
   "outputs": [],
   "source": [
    "def transform_nested_dict_to_tree(d, parent_label=None, parent_value=None):\n",
    "    result = []\n",
    "    for key, value in d.items():\n",
    "        label = key\n",
    "        if parent_label:\n",
    "            label = f\"{key}\"\n",
    "        children = []\n",
    "        if value:\n",
    "            children = transform_nested_dict_to_tree(value, label, key)\n",
    "        if children:\n",
    "            result.append({\"label\": label, \"value\": key, \"children\": children})\n",
    "        else:\n",
    "            result.append({\"label\": label, \"value\": key})\n",
    "    return result"
   ]
  },
  {
   "cell_type": "code",
   "execution_count": 10,
   "metadata": {},
   "outputs": [
    {
     "data": {
      "text/plain": [
       "1"
      ]
     },
     "execution_count": 10,
     "metadata": {},
     "output_type": "execute_result"
    }
   ],
   "source": [
    "depth(ancestry_dict['European']['Spanish'])"
   ]
  },
  {
   "cell_type": "code",
   "execution_count": 30,
   "metadata": {},
   "outputs": [
    {
     "data": {
      "text/plain": [
       "dict_keys(['European', 'Asian', 'African', 'Native American', 'Hispanic or Latin American', 'Greater Middle Eastern  (Middle Eastern, North African or Persian)', 'African American or Afro-Caribbean', 'Oceanian', 'uncategorised population', 'genetically isolated population', 'Aboriginal Australian', 'undefined ancestry population'])"
      ]
     },
     "execution_count": 30,
     "metadata": {},
     "output_type": "execute_result"
    }
   ],
   "source": [
    "ancestry_dict.keys()"
   ]
  },
  {
   "cell_type": "code",
   "execution_count": 34,
   "metadata": {},
   "outputs": [],
   "source": [
    "ancestry_nodes = transform_nested_dict_to_tree(ancestry_dict)"
   ]
  },
  {
   "cell_type": "code",
   "execution_count": 36,
   "metadata": {},
   "outputs": [],
   "source": [
    "all_ancestry_elements = flatten(ancestry_dict)"
   ]
  },
  {
   "cell_type": "code",
   "execution_count": 37,
   "metadata": {},
   "outputs": [],
   "source": [
    "#save dict as pickle\n",
    "import pickle\n",
    "with open('C:\\\\Users\\\\tinec\\\\OneDrive - UGent\\\\git\\\\SDRF_StreamlitApp\\\\onto_dicts\\\\ancestry_dict.pickle', 'wb') as handle:\n",
    "    pickle.dump(ancestry_dict, handle, protocol=pickle.HIGHEST_PROTOCOL)\n",
    "# make streamlit tree\n",
    "with open('C:\\\\Users\\\\tinec\\\\OneDrive - UGent\\\\git\\\\SDRF_StreamlitApp\\\\onto_dicts\\\\ancestry_nodes.pickle', 'wb') as handle:\n",
    "    pickle.dump(ancestry_nodes, handle, protocol=pickle.HIGHEST_PROTOCOL)\n",
    "# flatten into a list of elements\n",
    "with open('C:\\\\Users\\\\tinec\\\\OneDrive - UGent\\\\git\\\\SDRF_StreamlitApp\\\\onto_dicts\\\\all_ancestry_elements.pickle', 'wb') as handle:\n",
    "    pickle.dump(all_ancestry_elements, handle, protocol=pickle.HIGHEST_PROTOCOL)"
   ]
  },
  {
   "attachments": {},
   "cell_type": "markdown",
   "metadata": {},
   "source": [
    "# NCBITaxon\n"
   ]
  },
  {
   "cell_type": "code",
   "execution_count": 4,
   "metadata": {},
   "outputs": [
    {
     "name": "stdout",
     "output_type": "stream",
     "text": [
      "<?xml version=\"1.0\"?>\n",
      "\n",
      "<rdf:RDF xmlns=\"http://purl.obolibrary.org/obo/ncbitaxon.owl#\"\n",
      "\n",
      "     xml:base=\"http://purl.obolibrary.org/obo/ncbitaxon.owl\"\n",
      "\n",
      "     xmlns:obo=\"http://purl.obolibrary.org/obo/\"\n",
      "\n",
      "     xmlns:owl=\"http://www.w3.org/2002/07/owl#\"\n",
      "\n",
      "     xmlns:rdf=\"http://www.w3.org/1999/02/22-rdf-syntax-ns#\"\n",
      "\n",
      "     xmlns:xml=\"http://www.w3.org/XML/1998/namespace\"\n",
      "\n",
      "     xmlns:xsd=\"http://www.w3.org/2001/XMLSchema#\"\n",
      "\n",
      "     xmlns:rdfs=\"http://www.w3.org/2000/01/rdf-schema#\"\n",
      "\n",
      "     xmlns:terms=\"http://purl.org/dc/terms/\"\n",
      "\n",
      "     xmlns:oboInOwl=\"http://www.geneontology.org/formats/oboInOwl#\"\n",
      "\n",
      "     xmlns:ncbitaxon=\"http://purl.obolibrary.org/obo/ncbitaxon#\">\n",
      "\n",
      "    <owl:Ontology rdf:about=\"http://purl.obolibrary.org/obo/ncbitaxon.owl\">\n",
      "\n",
      "        <owl:versionIRI rdf:resource=\"http://purl.obolibrary.org/obo/ncbitaxon/2023-02-24/ncbitaxon.owl\"/>\n",
      "\n",
      "        <terms:description>An ontology representation of the NCBI organismal taxonomy</terms:description>\n",
      "\n",
      "        <terms:license rdf:resource=\"https://creativecommons.org/publicdomain/zero/1.0/\"/>\n",
      "\n",
      "        <terms:title>NCBI organismal classification</terms:title>\n",
      "\n",
      "        <rdfs:comment>Built by https://github.com/obophenotype/ncbitaxon</rdfs:comment>\n",
      "\n",
      "    </owl:Ontology>\n",
      "\n",
      "    \n",
      "\n",
      "\n",
      "\n",
      "\n",
      "\n",
      "    <!-- \n",
      "\n",
      "    ///////////////////////////////////////////////////////////////////////////////////////\n",
      "\n",
      "    //\n",
      "\n",
      "    // Annotation properties\n",
      "\n",
      "    //\n",
      "\n",
      "    ///////////////////////////////////////////////////////////////////////////////////////\n",
      "\n",
      "     -->\n",
      "\n",
      "\n",
      "\n",
      "    \n",
      "\n",
      "\n",
      "\n",
      "\n",
      "\n",
      "    <!-- http://purl.obolibrary.org/obo/IAO_0000115 -->\n",
      "\n",
      "\n",
      "\n",
      "    <owl:AnnotationProperty rdf:about=\"http://purl.obolibrary.org/obo/IAO_0000115\">\n",
      "\n",
      "        <rdfs:label>definition</rdfs:label>\n",
      "\n",
      "    </owl:AnnotationProperty>\n",
      "\n",
      "    \n",
      "\n",
      "\n",
      "\n",
      "\n",
      "\n",
      "    <!-- http://purl.obolibrary.org/obo/ncbitaxon#acronym -->\n",
      "\n",
      "\n",
      "\n",
      "    <owl:AnnotationProperty rdf:about=\"http://purl.obolibrary.org/obo/ncbitaxon#acronym\">\n",
      "\n",
      "        <oboInOwl:hasScope>oio:hasBroadSynonym</oboInOwl:hasScope>\n",
      "\n",
      "        <rdfs:label>acronym</rdfs:label>\n",
      "\n",
      "        <rdfs:subPropertyOf rdf:resource=\"http://www.geneontology.org/formats/oboInOwl#SynonymTypeProperty\"/>\n",
      "\n",
      "    </owl:AnnotationProperty>\n",
      "\n",
      "    \n",
      "\n",
      "\n",
      "\n"
     ]
    }
   ],
   "source": [
    "# read first 20 lines of ncbitaxon owl file as txt file to determine the namespace\n",
    "with open('C:\\\\Users\\\\tinec\\\\OneDrive - UGent\\\\git\\\\SDRF_GUI\\\\ontology\\\\ncbitaxon.owl', 'r') as f:\n",
    "    for i in range(50):\n",
    "        print(f.readline())"
   ]
  },
  {
   "cell_type": "code",
   "execution_count": 5,
   "metadata": {},
   "outputs": [
    {
     "ename": "KeyboardInterrupt",
     "evalue": "",
     "output_type": "error",
     "traceback": [
      "\u001b[1;31m---------------------------------------------------------------------------\u001b[0m",
      "\u001b[1;31mKeyError\u001b[0m                                  Traceback (most recent call last)",
      "File \u001b[1;32mc:\\Users\\tinec\\anaconda3\\envs\\sdrf\\lib\\site-packages\\rdflib\\plugins\\stores\\memory.py:247\u001b[0m, in \u001b[0;36mMemory.add\u001b[1;34m(self, triple, context, quoted)\u001b[0m\n\u001b[0;32m    246\u001b[0m \u001b[39mtry\u001b[39;00m:\n\u001b[1;32m--> 247\u001b[0m     po \u001b[39m=\u001b[39m spo[subject]\n\u001b[0;32m    248\u001b[0m \u001b[39mexcept\u001b[39;00m \u001b[39mLookupError\u001b[39;00m:\n",
      "\u001b[1;31mKeyError\u001b[0m: rdflib.term.URIRef('http://purl.obolibrary.org/obo/NCBITaxon_2781590')",
      "\nDuring handling of the above exception, another exception occurred:\n",
      "\u001b[1;31mKeyboardInterrupt\u001b[0m                         Traceback (most recent call last)",
      "Cell \u001b[1;32mIn[5], line 5\u001b[0m\n\u001b[0;32m      2\u001b[0m \u001b[39mfrom\u001b[39;00m \u001b[39mcollections\u001b[39;00m \u001b[39mimport\u001b[39;00m defaultdict\n\u001b[0;32m      4\u001b[0m g \u001b[39m=\u001b[39m Graph()\n\u001b[1;32m----> 5\u001b[0m g\u001b[39m.\u001b[39;49mparse(\u001b[39m\"\u001b[39;49m\u001b[39mSDRF_GUI/ontology/ncbitaxon.owl\u001b[39;49m\u001b[39m\"\u001b[39;49m, \u001b[39mformat\u001b[39;49m\u001b[39m=\u001b[39;49m\u001b[39m\"\u001b[39;49m\u001b[39mxml\u001b[39;49m\u001b[39m\"\u001b[39;49m)\n\u001b[0;32m      7\u001b[0m class_labels \u001b[39m=\u001b[39m defaultdict(\u001b[39mdict\u001b[39m)\n\u001b[0;32m      8\u001b[0m pairs \u001b[39m=\u001b[39m []\n",
      "File \u001b[1;32mc:\\Users\\tinec\\anaconda3\\envs\\sdrf\\lib\\site-packages\\rdflib\\graph.py:1330\u001b[0m, in \u001b[0;36mGraph.parse\u001b[1;34m(self, source, publicID, format, location, file, data, **args)\u001b[0m\n\u001b[0;32m   1327\u001b[0m parser \u001b[39m=\u001b[39m plugin\u001b[39m.\u001b[39mget(\u001b[39mformat\u001b[39m, Parser)()\n\u001b[0;32m   1328\u001b[0m \u001b[39mtry\u001b[39;00m:\n\u001b[0;32m   1329\u001b[0m     \u001b[39m# TODO FIXME: Parser.parse should have **kwargs argument.\u001b[39;00m\n\u001b[1;32m-> 1330\u001b[0m     parser\u001b[39m.\u001b[39mparse(source, \u001b[39mself\u001b[39m, \u001b[39m*\u001b[39m\u001b[39m*\u001b[39margs)\n\u001b[0;32m   1331\u001b[0m \u001b[39mexcept\u001b[39;00m \u001b[39mSyntaxError\u001b[39;00m \u001b[39mas\u001b[39;00m se:\n\u001b[0;32m   1332\u001b[0m     \u001b[39mif\u001b[39;00m could_not_guess_format:\n",
      "File \u001b[1;32mc:\\Users\\tinec\\anaconda3\\envs\\sdrf\\lib\\site-packages\\rdflib\\plugins\\parsers\\rdfxml.py:604\u001b[0m, in \u001b[0;36mRDFXMLParser.parse\u001b[1;34m(self, source, sink, **args)\u001b[0m\n\u001b[0;32m    600\u001b[0m     content_handler\u001b[39m.\u001b[39mpreserve_bnode_ids \u001b[39m=\u001b[39m preserve_bnode_ids\n\u001b[0;32m    601\u001b[0m \u001b[39m# # We're only using it once now\u001b[39;00m\n\u001b[0;32m    602\u001b[0m \u001b[39m# content_handler.reset()\u001b[39;00m\n\u001b[0;32m    603\u001b[0m \u001b[39m# self._parser.reset()\u001b[39;00m\n\u001b[1;32m--> 604\u001b[0m \u001b[39mself\u001b[39;49m\u001b[39m.\u001b[39;49m_parser\u001b[39m.\u001b[39;49mparse(source)\n",
      "File \u001b[1;32mC:\\Python39\\Lib\\xml\\sax\\expatreader.py:111\u001b[0m, in \u001b[0;36mExpatParser.parse\u001b[1;34m(self, source)\u001b[0m\n\u001b[0;32m    109\u001b[0m     \u001b[39mself\u001b[39m\u001b[39m.\u001b[39mreset()\n\u001b[0;32m    110\u001b[0m     \u001b[39mself\u001b[39m\u001b[39m.\u001b[39m_cont_handler\u001b[39m.\u001b[39msetDocumentLocator(ExpatLocator(\u001b[39mself\u001b[39m))\n\u001b[1;32m--> 111\u001b[0m     xmlreader\u001b[39m.\u001b[39;49mIncrementalParser\u001b[39m.\u001b[39;49mparse(\u001b[39mself\u001b[39;49m, source)\n\u001b[0;32m    112\u001b[0m \u001b[39mexcept\u001b[39;00m:\n\u001b[0;32m    113\u001b[0m     \u001b[39m# bpo-30264: Close the source on error to not leak resources:\u001b[39;00m\n\u001b[0;32m    114\u001b[0m     \u001b[39m# xml.sax.parse() doesn't give access to the underlying parser\u001b[39;00m\n\u001b[0;32m    115\u001b[0m     \u001b[39m# to the caller\u001b[39;00m\n\u001b[0;32m    116\u001b[0m     \u001b[39mself\u001b[39m\u001b[39m.\u001b[39m_close_source()\n",
      "File \u001b[1;32mC:\\Python39\\Lib\\xml\\sax\\xmlreader.py:125\u001b[0m, in \u001b[0;36mIncrementalParser.parse\u001b[1;34m(self, source)\u001b[0m\n\u001b[0;32m    123\u001b[0m buffer \u001b[39m=\u001b[39m file\u001b[39m.\u001b[39mread(\u001b[39mself\u001b[39m\u001b[39m.\u001b[39m_bufsize)\n\u001b[0;32m    124\u001b[0m \u001b[39mwhile\u001b[39;00m buffer:\n\u001b[1;32m--> 125\u001b[0m     \u001b[39mself\u001b[39;49m\u001b[39m.\u001b[39;49mfeed(buffer)\n\u001b[0;32m    126\u001b[0m     buffer \u001b[39m=\u001b[39m file\u001b[39m.\u001b[39mread(\u001b[39mself\u001b[39m\u001b[39m.\u001b[39m_bufsize)\n\u001b[0;32m    127\u001b[0m \u001b[39mself\u001b[39m\u001b[39m.\u001b[39mclose()\n",
      "File \u001b[1;32mC:\\Python39\\Lib\\xml\\sax\\expatreader.py:217\u001b[0m, in \u001b[0;36mExpatParser.feed\u001b[1;34m(self, data, isFinal)\u001b[0m\n\u001b[0;32m    210\u001b[0m     \u001b[39mself\u001b[39m\u001b[39m.\u001b[39m_cont_handler\u001b[39m.\u001b[39mstartDocument()\n\u001b[0;32m    212\u001b[0m \u001b[39mtry\u001b[39;00m:\n\u001b[0;32m    213\u001b[0m     \u001b[39m# The isFinal parameter is internal to the expat reader.\u001b[39;00m\n\u001b[0;32m    214\u001b[0m     \u001b[39m# If it is set to true, expat will check validity of the entire\u001b[39;00m\n\u001b[0;32m    215\u001b[0m     \u001b[39m# document. When feeding chunks, they are not normally final -\u001b[39;00m\n\u001b[0;32m    216\u001b[0m     \u001b[39m# except when invoked from close.\u001b[39;00m\n\u001b[1;32m--> 217\u001b[0m     \u001b[39mself\u001b[39;49m\u001b[39m.\u001b[39;49m_parser\u001b[39m.\u001b[39;49mParse(data, isFinal)\n\u001b[0;32m    218\u001b[0m \u001b[39mexcept\u001b[39;00m expat\u001b[39m.\u001b[39merror \u001b[39mas\u001b[39;00m e:\n\u001b[0;32m    219\u001b[0m     exc \u001b[39m=\u001b[39m SAXParseException(expat\u001b[39m.\u001b[39mErrorString(e\u001b[39m.\u001b[39mcode), e, \u001b[39mself\u001b[39m)\n",
      "File \u001b[1;32mC:\\A\\31\\s\\Modules\\pyexpat.c:407\u001b[0m, in \u001b[0;36mStartElement\u001b[1;34m()\u001b[0m\n",
      "File \u001b[1;32mC:\\Python39\\Lib\\xml\\sax\\expatreader.py:369\u001b[0m, in \u001b[0;36mExpatParser.start_element_ns\u001b[1;34m(self, name, attrs)\u001b[0m\n\u001b[0;32m    366\u001b[0m     newattrs[apair] \u001b[39m=\u001b[39m value\n\u001b[0;32m    367\u001b[0m     qnames[apair] \u001b[39m=\u001b[39m qname\n\u001b[1;32m--> 369\u001b[0m \u001b[39mself\u001b[39;49m\u001b[39m.\u001b[39;49m_cont_handler\u001b[39m.\u001b[39;49mstartElementNS(pair, \u001b[39mNone\u001b[39;49;00m,\n\u001b[0;32m    370\u001b[0m                                   AttributesNSImpl(newattrs, qnames))\n",
      "File \u001b[1;32mc:\\Users\\tinec\\anaconda3\\envs\\sdrf\\lib\\site-packages\\rdflib\\plugins\\parsers\\rdfxml.py:190\u001b[0m, in \u001b[0;36mRDFXMLHandler.startElementNS\u001b[1;34m(self, name, qname, attrs)\u001b[0m\n\u001b[0;32m    188\u001b[0m         language \u001b[39m=\u001b[39m parent\u001b[39m.\u001b[39mlanguage\n\u001b[0;32m    189\u001b[0m current\u001b[39m.\u001b[39mlanguage \u001b[39m=\u001b[39m language\n\u001b[1;32m--> 190\u001b[0m current\u001b[39m.\u001b[39;49mstart(name, qname, attrs)\n",
      "File \u001b[1;32mc:\\Users\\tinec\\anaconda3\\envs\\sdrf\\lib\\site-packages\\rdflib\\plugins\\parsers\\rdfxml.py:328\u001b[0m, in \u001b[0;36mRDFXMLHandler.node_element_start\u001b[1;34m(self, name, qname, attrs)\u001b[0m\n\u001b[0;32m    325\u001b[0m     subject \u001b[39m=\u001b[39m BNode()\n\u001b[0;32m    327\u001b[0m \u001b[39mif\u001b[39;00m name \u001b[39m!=\u001b[39m RDFVOC\u001b[39m.\u001b[39mDescription:  \u001b[39m# S1\u001b[39;00m\n\u001b[1;32m--> 328\u001b[0m     \u001b[39mself\u001b[39;49m\u001b[39m.\u001b[39;49mstore\u001b[39m.\u001b[39;49madd((subject, RDF\u001b[39m.\u001b[39;49mtype, absolutize(name)))\n\u001b[0;32m    330\u001b[0m language \u001b[39m=\u001b[39m current\u001b[39m.\u001b[39mlanguage\n\u001b[0;32m    331\u001b[0m \u001b[39mfor\u001b[39;00m att \u001b[39min\u001b[39;00m atts:\n",
      "File \u001b[1;32mc:\\Users\\tinec\\anaconda3\\envs\\sdrf\\lib\\site-packages\\rdflib\\graph.py:457\u001b[0m, in \u001b[0;36mGraph.add\u001b[1;34m(self, triple)\u001b[0m\n\u001b[0;32m    455\u001b[0m \u001b[39massert\u001b[39;00m \u001b[39misinstance\u001b[39m(p, Node), \u001b[39m\"\u001b[39m\u001b[39mPredicate \u001b[39m\u001b[39m%s\u001b[39;00m\u001b[39m must be an rdflib term\u001b[39m\u001b[39m\"\u001b[39m \u001b[39m%\u001b[39m (p,)\n\u001b[0;32m    456\u001b[0m \u001b[39massert\u001b[39;00m \u001b[39misinstance\u001b[39m(o, Node), \u001b[39m\"\u001b[39m\u001b[39mObject \u001b[39m\u001b[39m%s\u001b[39;00m\u001b[39m must be an rdflib term\u001b[39m\u001b[39m\"\u001b[39m \u001b[39m%\u001b[39m (o,)\n\u001b[1;32m--> 457\u001b[0m \u001b[39mself\u001b[39;49m\u001b[39m.\u001b[39;49m__store\u001b[39m.\u001b[39;49madd((s, p, o), \u001b[39mself\u001b[39;49m, quoted\u001b[39m=\u001b[39;49m\u001b[39mFalse\u001b[39;49;00m)\n\u001b[0;32m    458\u001b[0m \u001b[39mreturn\u001b[39;00m \u001b[39mself\u001b[39m\n",
      "File \u001b[1;32mc:\\Users\\tinec\\anaconda3\\envs\\sdrf\\lib\\site-packages\\rdflib\\plugins\\stores\\memory.py:248\u001b[0m, in \u001b[0;36mMemory.add\u001b[1;34m(self, triple, context, quoted)\u001b[0m\n\u001b[0;32m    246\u001b[0m \u001b[39mtry\u001b[39;00m:\n\u001b[0;32m    247\u001b[0m     po \u001b[39m=\u001b[39m spo[subject]\n\u001b[1;32m--> 248\u001b[0m \u001b[39mexcept\u001b[39;00m \u001b[39mLookupError\u001b[39;49;00m:\n\u001b[0;32m    249\u001b[0m     po \u001b[39m=\u001b[39m spo[subject] \u001b[39m=\u001b[39m {}\n\u001b[0;32m    250\u001b[0m \u001b[39mtry\u001b[39;00m:\n",
      "\u001b[1;31mKeyboardInterrupt\u001b[0m: "
     ]
    }
   ],
   "source": [
    "#nested dict\n",
    "from collections import defaultdict\n",
    "\n",
    "g = Graph()\n",
    "g.parse(\"SDRF_GUI/ontology/ncbitaxon.owl\", format=\"xml\")\n",
    "\n",
    "class_labels = defaultdict(dict)\n",
    "pairs = []\n",
    "all_elements = set()\n",
    "for s, p, o in g.triples((None, RDFS.subClassOf, None)):\n",
    "    sub_class = g.value(s, RDFS.label).toPython()\n",
    "    super_class = g.value(o, RDFS.label)\n",
    "    all_elements.add(sub_class)\n",
    "    all_elements.add(super_class)\n",
    "    if super_class:\n",
    "        super_class = super_class.toPython()\n",
    "    else:\n",
    "        super_class = \"Thing\"\n",
    "    pairs.append((super_class, sub_class))\n",
    "    class_labels[super_class][sub_class] = class_labels[sub_class]\n",
    "    if sub_class in class_labels:\n",
    "        del class_labels[sub_class]"
   ]
  },
  {
   "cell_type": "code",
   "execution_count": null,
   "metadata": {},
   "outputs": [],
   "source": []
  }
 ],
 "metadata": {
  "kernelspec": {
   "display_name": "sdrf",
   "language": "python",
   "name": "python3"
  },
  "language_info": {
   "codemirror_mode": {
    "name": "ipython",
    "version": 3
   },
   "file_extension": ".py",
   "mimetype": "text/x-python",
   "name": "python",
   "nbconvert_exporter": "python",
   "pygments_lexer": "ipython3",
   "version": "3.9.13"
  },
  "orig_nbformat": 4,
  "vscode": {
   "interpreter": {
    "hash": "22ea4e8e4bc62f1f2c468860a17a62e47bb896f26c043965a0be0ae51df573cc"
   }
  }
 },
 "nbformat": 4,
 "nbformat_minor": 2
}
