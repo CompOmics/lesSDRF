{
 "cells": [
  {
   "cell_type": "code",
   "execution_count": 1,
   "metadata": {},
   "outputs": [
    {
     "name": "stderr",
     "output_type": "stream",
     "text": [
      "* Owlready2 * Warning: optimized Cython parser module 'owlready2_optimized' is not available, defaulting to slower Python implementation\n"
     ]
    }
   ],
   "source": [
    "import requests\n",
    "import rdflib\n",
    "import warnings\n",
    "warnings.filterwarnings(\"ignore\")\n",
    "from rdflib import Graph, Namespace, RDFS, RDF, OWL\n",
    "from owlready2 import get_ontology\n",
    "from owlready2 import *\n",
    "from rdflib import Graph, Namespace, RDFS\n",
    "from tqdm import tqdm\n",
    "import json\n",
    "import pickle\n",
    "import ParsingModule\n",
    "from ParsingModule import store_as_gzipped_json"
   ]
  },
  {
   "cell_type": "code",
   "execution_count": 2,
   "metadata": {},
   "outputs": [],
   "source": [
    "def get_children(ontology, term_id, term_label, d, nodes_dict=None, data=None):\n",
    "    if nodes_dict is None:  # load the json file only once\n",
    "        with open(ontology) as f:\n",
    "            data = json.load(f)\n",
    "        nodes_dict = {node[\"id\"]: node[\"lbl\"] for node in data[\"graphs\"][0][\"nodes\"] if all(key in node for key in ['id', 'lbl'])}\n",
    "\n",
    "    if term_id not in nodes_dict:\n",
    "        return f\"{term_id} node not in ontology\" # node not found in ontology, return early\n",
    "\n",
    "    if term_label not in d: \n",
    "        d[term_label] = {}  # add the parent to the dictionary\n",
    "\n",
    "    for term in data[\"graphs\"][0][\"edges\"]: # iterate through the edges\n",
    "        if (term[\"obj\"] == term_id) and (term[\"pred\"] in [\"http://purl.obolibrary.org/obo/BFO_0000050\", 'is_a']):\n",
    "            parent = term[\"sub\"]\n",
    "            if parent == \"http://purl.obolibrary.org/obo/MONDO_0011876\":\n",
    "                continue    # skip MONDO_0011876\n",
    "            parent_label = nodes_dict.get(parent)\n",
    "            if parent_label is not None:\n",
    "                if parent_label in d:\n",
    "                    d[term_label][parent_label] = d[parent_label]\n",
    "                    del d[parent_label]\n",
    "                else:\n",
    "                    d[term_label][parent_label] = {}\n",
    "                get_children(ontology, parent, parent_label, d[term_label], nodes_dict, data)\n",
    "\n",
    "    return d"
   ]
  },
  {
   "cell_type": "code",
   "execution_count": 3,
   "metadata": {},
   "outputs": [],
   "source": [
    "def flatten(d):\n",
    "    items = []\n",
    "    for k, v in d.items(): # iterate through the dictionary\n",
    "        items.append(k) # add the key to the list\n",
    "        if isinstance(v, dict):# if the value is a dictionary, call the function recursively\n",
    "            items.extend(flatten(v))\n",
    "        else:\n",
    "            items.append(v)\n",
    "    return items"
   ]
  },
  {
   "cell_type": "code",
   "execution_count": 4,
   "metadata": {},
   "outputs": [],
   "source": [
    "def transform_nested_dict_to_tree(d, parent_label=None, parent_value=None):\n",
    "    result = []\n",
    "    for key, value in d.items():\n",
    "        label = key\n",
    "        if parent_label:\n",
    "            label = f\"{parent_label} , {key}\"\n",
    "        children = []\n",
    "        if value:\n",
    "            children = transform_nested_dict_to_tree(value, label, key)\n",
    "        if children:\n",
    "            result.append({\"label\": key, \"value\": label, \"children\": children})\n",
    "        else:\n",
    "            result.append({\"label\": key, \"value\": label})\n",
    "    return result"
   ]
  },
  {
   "attachments": {},
   "cell_type": "markdown",
   "metadata": {},
   "source": [
    "# JSON file EFO"
   ]
  },
  {
   "attachments": {},
   "cell_type": "markdown",
   "metadata": {},
   "source": [
    "### organism part"
   ]
  },
  {
   "cell_type": "code",
   "execution_count": 7,
   "metadata": {},
   "outputs": [],
   "source": [
    "d=dict()\n",
    "orgpart_dict = get_children('C:\\\\Users\\\\tinec\\\\OneDrive - UGent\\\\git\\\\SDRF_GUI\\\\ontology\\\\efo.json', \"http://www.ebi.ac.uk/efo/EFO_0000635\",'organism part', d)"
   ]
  },
  {
   "cell_type": "code",
   "execution_count": 8,
   "metadata": {},
   "outputs": [],
   "source": [
    "orgpart_dict = orgpart_dict['organism part']"
   ]
  },
  {
   "cell_type": "code",
   "execution_count": 8,
   "metadata": {},
   "outputs": [],
   "source": [
    "orgpart_dict['Not available'] = {}"
   ]
  },
  {
   "cell_type": "code",
   "execution_count": 17,
   "metadata": {},
   "outputs": [
    {
     "data": {
      "text/plain": [
       "dict_keys(['umbilical cord', 'seminal fluid', 'primordium', 'abdominal cavity', 'peritoneal cavity', 'sensory system', 'bodily fluid', 'nasal cavity', 'retroperitoneal space', 'mushroom body', 'saliva', 'decidua basalis', 'meningeal cluster', 'vasculature', 'upper urinary tract', 'embryonic structure', 'head capsule', 'endocrine system', 'renal pelvis/ureter', 'tegmentum', 'venom', 'excreta', 'anatomical structure', 'immune system', 'mediastinum', 'early telencephalic vesicle'])"
      ]
     },
     "execution_count": 17,
     "metadata": {},
     "output_type": "execute_result"
    }
   ],
   "source": [
    "orgpart_dict['organism part']['anatomical entity'].keys()"
   ]
  },
  {
   "cell_type": "code",
   "execution_count": 67,
   "metadata": {},
   "outputs": [],
   "source": [
    "# save the dictionary as a pickle\n",
    "with open('orgpart_dict.pickle', 'wb') as handle:\n",
    "    pickle.dump(orgpart_dict, handle, protocol=pickle.HIGHEST_PROTOCOL)"
   ]
  },
  {
   "cell_type": "code",
   "execution_count": 63,
   "metadata": {},
   "outputs": [],
   "source": [
    "#load pickle into dict\n",
    "with open('C:\\\\Users\\\\tinec\\\\OneDrive - UGent\\\\git\\\\SDRF_GUI\\\\onto_dicts\\\\organismpart_dict.pickle', 'rb') as handle:\n",
    "    orgpart_dict = pickle.load(handle)\n",
    "# make streamlit tree\n",
    "organismpart_nodes = transform_nested_dict_to_tree(orgpart_dict['organism part'])\n",
    "with open('C:\\\\Users\\\\tinec\\\\OneDrive - UGent\\\\git\\\\SDRF_GUI\\\\onto_dicts\\\\organismpart_nodes.pickle', 'wb') as handle:\n",
    "    pickle.dump(organismpart_nodes, handle, protocol=pickle.HIGHEST_PROTOCOL)\n",
    "# flatten into a list of elements\n",
    "all_organismpart_elements = flatten(orgpart_dict['organism part'])\n",
    "with open('C:\\\\Users\\\\tinec\\\\OneDrive - UGent\\\\git\\\\SDRF_GUI\\\\onto_dicts\\\\all_organismpart_elements.pickle', 'wb') as handle:\n",
    "    pickle.dump(all_organismpart_elements, handle, protocol=pickle.HIGHEST_PROTOCOL)"
   ]
  },
  {
   "cell_type": "code",
   "execution_count": 64,
   "metadata": {},
   "outputs": [],
   "source": [
    "with open('C:\\\\Users\\\\tinec\\\\OneDrive - UGent\\\\git\\\\SDRF_GUI\\\\onto_dicts\\\\all_organismpart_elements.pickle', 'rb') as handle:\n",
    "    x = pickle.load(handle)"
   ]
  },
  {
   "cell_type": "code",
   "execution_count": 10,
   "metadata": {},
   "outputs": [
    {
     "data": {
      "text/plain": [
       "'Stored all_organism_part_dict_elements as gzipped json'"
      ]
     },
     "execution_count": 10,
     "metadata": {},
     "output_type": "execute_result"
    }
   ],
   "source": [
    "# make streamlit tree\n",
    "orgpart_nodes = transform_nested_dict_to_tree(orgpart_dict)\n",
    "all_orgpart_elements = flatten(orgpart_dict)\n",
    "store_as_gzipped_json(orgpart_dict, \"organism_part_dict\")\n",
    "store_as_gzipped_json(orgpart_nodes, \"organism_part_dict_nodes\")\n",
    "store_as_gzipped_json(all_orgpart_elements, \"all_organism_part_dict_elements\")"
   ]
  },
  {
   "cell_type": "code",
   "execution_count": 50,
   "metadata": {},
   "outputs": [
    {
     "data": {
      "text/plain": [
       "26865"
      ]
     },
     "execution_count": 50,
     "metadata": {},
     "output_type": "execute_result"
    }
   ],
   "source": [
    "len(all_organismpart_elements)"
   ]
  },
  {
   "attachments": {},
   "cell_type": "markdown",
   "metadata": {},
   "source": [
    "### for cell types"
   ]
  },
  {
   "cell_type": "code",
   "execution_count": 11,
   "metadata": {},
   "outputs": [],
   "source": [
    "d=dict()\n",
    "celltype_dict = get_children('C:\\\\Users\\\\tinec\\\\OneDrive - UGent\\\\git\\\\SDRF_GUI\\\\ontology\\\\efo.json', \"http://www.ebi.ac.uk/efo/EFO_0000324\",'cell type', d)"
   ]
  },
  {
   "cell_type": "code",
   "execution_count": 12,
   "metadata": {},
   "outputs": [],
   "source": [
    "celltype_dict = celltype_dict['cell type']"
   ]
  },
  {
   "cell_type": "code",
   "execution_count": 13,
   "metadata": {},
   "outputs": [],
   "source": [
    "celltype_dict['Not available'] = {}"
   ]
  },
  {
   "cell_type": "code",
   "execution_count": 36,
   "metadata": {},
   "outputs": [
    {
     "data": {
      "text/plain": [
       "dict_keys(['epithelial cell', 'embryonic cell (metazoa)', 'photosynthetic cell', 'mouse erythroleukemia cell', 'clear cell', 'somatic cell', 'fungal cell', 'prokaryotic cell', 'immortal cell line cell', 'neoplastic cell', 'integumental cell', 'diploid cell', 'lung cancer cell', 'follicular dendritic cell', 'mantle cell', 'glial brain cell', 'merkel cell', 'mouse neural progenitor cell', 'electrically active cell', 'ligament cell', 'bone marrow cell', 'disease cell type', 'inferred cell type', 'plant cell', 'secretory cell', 'stem cell', 'pancreatic cell', 'nervous system cell', 'infected cell', 'non-terminally differentiated cell', 'experimental cell', 'musculo-skeletal system cell', 'reproductive system cell', 'Not available'])"
      ]
     },
     "execution_count": 36,
     "metadata": {},
     "output_type": "execute_result"
    }
   ],
   "source": [
    "celltype_dict.keys()"
   ]
  },
  {
   "cell_type": "code",
   "execution_count": 14,
   "metadata": {},
   "outputs": [
    {
     "data": {
      "text/plain": [
       "'Stored all_celltype_elements as gzipped json'"
      ]
     },
     "execution_count": 14,
     "metadata": {},
     "output_type": "execute_result"
    }
   ],
   "source": [
    "celltype_nodes = transform_nested_dict_to_tree(celltype_dict)\n",
    "all_celltype_elements = flatten(celltype_dict)\n",
    "store_as_gzipped_json(celltype_dict, \"cell_type_dict\")\n",
    "store_as_gzipped_json(celltype_nodes, \"cell_type_nodes\")\n",
    "store_as_gzipped_json(all_celltype_elements, \"all_cell_type_elements\")"
   ]
  },
  {
   "attachments": {},
   "cell_type": "markdown",
   "metadata": {},
   "source": [
    "### for disease  'characteristics[disease]',==> ontology, EFO:0000408"
   ]
  },
  {
   "cell_type": "code",
   "execution_count": 15,
   "metadata": {},
   "outputs": [],
   "source": [
    "d=dict()\n",
    "disease_dict = get_children('C:\\\\Users\\\\tinec\\\\OneDrive - UGent\\\\git\\\\SDRF_GUI\\\\ontology\\\\efo.json', \"http://www.ebi.ac.uk/efo/EFO_0000408\",'disease', d)"
   ]
  },
  {
   "cell_type": "code",
   "execution_count": 16,
   "metadata": {},
   "outputs": [
    {
     "data": {
      "text/plain": [
       "43"
      ]
     },
     "execution_count": 16,
     "metadata": {},
     "output_type": "execute_result"
    }
   ],
   "source": [
    "len(disease_dict['disease'].keys())"
   ]
  },
  {
   "cell_type": "code",
   "execution_count": 17,
   "metadata": {},
   "outputs": [],
   "source": [
    "import gzip"
   ]
  },
  {
   "cell_type": "code",
   "execution_count": 18,
   "metadata": {},
   "outputs": [],
   "source": [
    "disease_dict['normal'] = {}\n",
    "disease_dict['Not available'] = {}"
   ]
  },
  {
   "cell_type": "code",
   "execution_count": 19,
   "metadata": {},
   "outputs": [
    {
     "data": {
      "text/plain": [
       "dict_keys(['disease', 'normal', 'Not available'])"
      ]
     },
     "execution_count": 19,
     "metadata": {},
     "output_type": "execute_result"
    }
   ],
   "source": [
    "disease_dict.keys()"
   ]
  },
  {
   "cell_type": "code",
   "execution_count": 20,
   "metadata": {},
   "outputs": [],
   "source": [
    "# make streamlit tree\n",
    "disease_nodes = transform_nested_dict_to_tree(disease_dict)\n",
    "all_disease_elements = flatten(disease_dict)"
   ]
  },
  {
   "cell_type": "code",
   "execution_count": 21,
   "metadata": {},
   "outputs": [
    {
     "data": {
      "text/plain": [
       "'Stored all_disease_elements as gzipped json'"
      ]
     },
     "execution_count": 21,
     "metadata": {},
     "output_type": "execute_result"
    }
   ],
   "source": [
    "store_as_gzipped_json(disease_dict, \"disease_dict\")\n",
    "store_as_gzipped_json(disease_nodes, \"disease_nodes\")\n",
    "store_as_gzipped_json(all_disease_elements, \"all_disease_elements\")"
   ]
  },
  {
   "attachments": {},
   "cell_type": "markdown",
   "metadata": {},
   "source": [
    "### for developmental stage"
   ]
  },
  {
   "cell_type": "code",
   "execution_count": 10,
   "metadata": {},
   "outputs": [],
   "source": [
    "d=dict()\n",
    "develop_dict = get_children('C:\\\\Users\\\\tinec\\\\OneDrive - UGent\\\\git\\\\SDRF_GUI\\\\ontology\\\\efo.json', \"http://www.ebi.ac.uk/efo/EFO_0000399\",'developmental stage', d)"
   ]
  },
  {
   "cell_type": "code",
   "execution_count": 11,
   "metadata": {},
   "outputs": [],
   "source": [
    "develop_dict = develop_dict['developmental stage']"
   ]
  },
  {
   "cell_type": "code",
   "execution_count": 7,
   "metadata": {},
   "outputs": [],
   "source": [
    "develop_dict['Not available'] = {}"
   ]
  },
  {
   "cell_type": "code",
   "execution_count": 12,
   "metadata": {},
   "outputs": [
    {
     "data": {
      "text/plain": [
       "'Stored all_developmental_stage_elements as gzipped json'"
      ]
     },
     "execution_count": 12,
     "metadata": {},
     "output_type": "execute_result"
    }
   ],
   "source": [
    "developmental_stage_nodes = transform_nested_dict_to_tree(develop_dict)\n",
    "all_developmental_stage_elements = flatten(develop_dict)\n",
    "store_as_gzipped_json(develop_dict, \"developmental_stage_dict\")\n",
    "store_as_gzipped_json(developmental_stage_nodes, \"developmental_stage_nodes\")\n",
    "store_as_gzipped_json(all_developmental_stage_elements, \"all_developmental_stage_elements\")"
   ]
  },
  {
   "attachments": {},
   "cell_type": "markdown",
   "metadata": {},
   "source": [
    "## for organism"
   ]
  },
  {
   "cell_type": "code",
   "execution_count": 27,
   "metadata": {},
   "outputs": [],
   "source": [
    "d=dict()\n",
    "org_dict = get_children('C:\\\\Users\\\\tinec\\\\OneDrive - UGent\\\\git\\\\SDRF_GUI\\\\ontology\\\\efo.json', \"http://purl.obolibrary.org/obo/OBI_0100026\",'organism', d)\n",
    "org_dict = org_dict['organism']\n",
    "org_dict['Not available'] = {}\n"
   ]
  },
  {
   "cell_type": "code",
   "execution_count": 28,
   "metadata": {},
   "outputs": [
    {
     "data": {
      "text/plain": [
       "'Stored all_organism_elements as gzipped json'"
      ]
     },
     "execution_count": 28,
     "metadata": {},
     "output_type": "execute_result"
    }
   ],
   "source": [
    "# make streamlit tree\n",
    "org_nodes = transform_nested_dict_to_tree(org_dict)\n",
    "all_org_elements = flatten(org_dict)\n",
    "store_as_gzipped_json(org_dict, \"organism_dict\")\n",
    "store_as_gzipped_json(org_nodes, \"organism_nodes\")\n",
    "store_as_gzipped_json(all_org_elements, \"all_organism_elements\")"
   ]
  },
  {
   "cell_type": "code",
   "execution_count": 18,
   "metadata": {},
   "outputs": [],
   "source": [
    "# save the dictionary as a pickle\n",
    "\n",
    "with open('org_dict.pickle', 'wb') as handle:\n",
    "    pickle.dump(org_dict, handle, protocol=pickle.HIGHEST_PROTOCOL)"
   ]
  },
  {
   "attachments": {},
   "cell_type": "markdown",
   "metadata": {},
   "source": [
    "## for ancestry"
   ]
  },
  {
   "cell_type": "code",
   "execution_count": 8,
   "metadata": {},
   "outputs": [
    {
     "data": {
      "text/plain": [
       "10"
      ]
     },
     "execution_count": 8,
     "metadata": {},
     "output_type": "execute_result"
    }
   ],
   "source": [
    "d=dict()\n",
    "ancestry_dict = get_children('C:\\\\Users\\\\tinec\\\\OneDrive - UGent\\\\git\\\\SDRF_GUI\\\\ontology\\\\efo.json', \"http://purl.obolibrary.org/obo/HANCESTRO_0004\",'ancestry category', d)\n",
    "len(ancestry_dict['ancestry category'].keys())\n"
   ]
  },
  {
   "cell_type": "code",
   "execution_count": 9,
   "metadata": {},
   "outputs": [],
   "source": [
    "# save the dictionary as a pickle\n",
    "\n",
    "with open('ancestry_dict.pickle', 'wb') as handle:\n",
    "    pickle.dump(ancestry_dict, handle, protocol=pickle.HIGHEST_PROTOCOL)"
   ]
  },
  {
   "cell_type": "code",
   "execution_count": 21,
   "metadata": {},
   "outputs": [],
   "source": [
    "ancestry_nodes = transform_nested_dict_to_tree(ancestry_dict['ancestry category'])"
   ]
  },
  {
   "cell_type": "code",
   "execution_count": 22,
   "metadata": {},
   "outputs": [],
   "source": [
    "with open('ancestry_nodes.pickle', 'wb') as handle:\n",
    "    pickle.dump(ancestry_nodes, handle, protocol=pickle.HIGHEST_PROTOCOL)"
   ]
  },
  {
   "cell_type": "code",
   "execution_count": 20,
   "metadata": {},
   "outputs": [],
   "source": [
    "all_ancestry_elements = flatten(ancestry_dict['ancestry category'])\n",
    "with open('all_ancestry_elements.pickle', 'wb') as handle:\n",
    "    pickle.dump(all_ancestry_elements, handle, protocol=pickle.HIGHEST_PROTOCOL)"
   ]
  },
  {
   "cell_type": "code",
   "execution_count": 48,
   "metadata": {},
   "outputs": [],
   "source": [
    "#load pickle into dict\n",
    "with open('C:\\\\Users\\\\tinec\\\\OneDrive - UGent\\\\git\\\\SDRF_GUI\\\\onto_dicts\\\\ancestry_dict.pickle', 'rb') as handle:\n",
    "    ancestry_dict = pickle.load(handle)\n",
    "# make streamlit tree\n",
    "develop_nodes = transform_nested_dict_to_tree(ancestry_dict)\n",
    "with open('C:\\\\Users\\\\tinec\\\\OneDrive - UGent\\\\git\\\\SDRF_GUI\\\\onto_dicts\\\\ancestry_nodes.pickle', 'wb') as handle:\n",
    "    pickle.dump(develop_nodes, handle, protocol=pickle.HIGHEST_PROTOCOL)\n",
    "# flatten into a list of elements\n",
    "all_develop_elements = flatten(ancestry_dict)\n",
    "with open('C:\\\\Users\\\\tinec\\\\OneDrive - UGent\\\\git\\\\SDRF_GUI\\\\onto_dicts\\\\all_ancestry_elements.pickle', 'wb') as handle:\n",
    "    pickle.dump(all_celltype_elements, handle, protocol=pickle.HIGHEST_PROTOCOL)"
   ]
  },
  {
   "attachments": {},
   "cell_type": "markdown",
   "metadata": {},
   "source": [
    "## for cell line"
   ]
  },
  {
   "cell_type": "code",
   "execution_count": 29,
   "metadata": {},
   "outputs": [],
   "source": [
    "d=dict()\n",
    "cell_dict = get_children('C:\\\\Users\\\\tinec\\\\OneDrive - UGent\\\\git\\\\SDRF_GUI\\\\ontology\\\\efo.json', \"http://purl.obolibrary.org/obo/CL_0000000\",'cell', d)"
   ]
  },
  {
   "cell_type": "code",
   "execution_count": 30,
   "metadata": {},
   "outputs": [],
   "source": [
    "cell_dict = cell_dict['cell']\n",
    "cell_dict['Not available'] = {}"
   ]
  },
  {
   "cell_type": "code",
   "execution_count": 31,
   "metadata": {},
   "outputs": [],
   "source": [
    "cell_nodes = transform_nested_dict_to_tree(cell_dict)\n",
    "all_cell_elements = flatten(cell_dict)"
   ]
  },
  {
   "cell_type": "code",
   "execution_count": 32,
   "metadata": {},
   "outputs": [
    {
     "data": {
      "text/plain": [
       "'Stored all_cell_line_elements as gzipped json'"
      ]
     },
     "execution_count": 32,
     "metadata": {},
     "output_type": "execute_result"
    }
   ],
   "source": [
    "# make streamlit tree\n",
    "cell_nodes = transform_nested_dict_to_tree(cell_dict)\n",
    "all_cell_elements = flatten(cell_dict)\n",
    "store_as_gzipped_json(cell_dict, \"cell_line_dict\")\n",
    "store_as_gzipped_json(cell_nodes, \"cell_line_nodes\")\n",
    "store_as_gzipped_json(all_cell_elements, \"all_cell_line_elements\")"
   ]
  },
  {
   "attachments": {},
   "cell_type": "markdown",
   "metadata": {},
   "source": [
    "## for enrichment"
   ]
  },
  {
   "cell_type": "code",
   "execution_count": 33,
   "metadata": {},
   "outputs": [],
   "source": [
    "d=dict()\n",
    "enrichment_dict = get_children('C:\\\\Users\\\\tinec\\\\OneDrive - UGent\\\\git\\\\SDRF_GUI\\\\ontology\\\\efo.json', \"http://www.ebi.ac.uk/efo/EFO_0009090\",'enrichment process', d)\n",
    "enrichment_dict['Not available'] = {}"
   ]
  },
  {
   "cell_type": "code",
   "execution_count": 34,
   "metadata": {},
   "outputs": [
    {
     "data": {
      "text/plain": [
       "'Stored all_enrichment_elements as gzipped json'"
      ]
     },
     "execution_count": 34,
     "metadata": {},
     "output_type": "execute_result"
    }
   ],
   "source": [
    "# make streamlit tree\n",
    "enrichment_nodes = transform_nested_dict_to_tree(enrichment_dict)\n",
    "all_enrichment_elements = flatten(enrichment_dict)\n",
    "store_as_gzipped_json(enrichment_dict, \"enrichment_dict\")\n",
    "store_as_gzipped_json(enrichment_nodes, \"enrichment_nodes\")\n",
    "store_as_gzipped_json(all_enrichment_elements, \"all_enrichment_elements\")"
   ]
  },
  {
   "cell_type": "code",
   "execution_count": 8,
   "metadata": {},
   "outputs": [
    {
     "data": {
      "text/plain": [
       "dict_keys(['isolation of cell population', 'cell size selection', 'density gradient centrifugation', 'magnetic affinity cell sorting'])"
      ]
     },
     "execution_count": 8,
     "metadata": {},
     "output_type": "execute_result"
    }
   ],
   "source": [
    "enrichment_dict['enrichment process']['sample enrichment'].keys()"
   ]
  },
  {
   "cell_type": "code",
   "execution_count": 9,
   "metadata": {},
   "outputs": [],
   "source": [
    "enrichment_nodes = transform_nested_dict_to_tree(enrichment_dict)\n",
    "all_enrichment_elements = flatten(enrichment_dict)"
   ]
  },
  {
   "cell_type": "code",
   "execution_count": 10,
   "metadata": {},
   "outputs": [],
   "source": [
    "#save dict as pickle\n",
    "with open('C:\\\\Users\\\\tinec\\\\OneDrive - UGent\\\\git\\\\SDRF_GUI\\\\onto_dicts\\\\enrichment_dict.pickle', 'wb') as handle:\n",
    "    pickle.dump(enrichment_dict, handle, protocol=pickle.HIGHEST_PROTOCOL)\n",
    "# make streamlit tree\n",
    "with open('C:\\\\Users\\\\tinec\\\\OneDrive - UGent\\\\git\\\\SDRF_GUI\\\\onto_dicts\\\\enrichment_nodes.pickle', 'wb') as handle:\n",
    "    pickle.dump(enrichment_nodes, handle, protocol=pickle.HIGHEST_PROTOCOL)\n",
    "# flatten into a list of elements\n",
    "with open('C:\\\\Users\\\\tinec\\\\OneDrive - UGent\\\\git\\\\SDRF_GUI\\\\onto_dicts\\\\all_enrichment_elements.pickle', 'wb') as handle:\n",
    "    pickle.dump(all_enrichment_elements, handle, protocol=pickle.HIGHEST_PROTOCOL)"
   ]
  },
  {
   "cell_type": "markdown",
   "metadata": {},
   "source": []
  }
 ],
 "metadata": {
  "kernelspec": {
   "display_name": "sdrf",
   "language": "python",
   "name": "python3"
  },
  "language_info": {
   "codemirror_mode": {
    "name": "ipython",
    "version": 3
   },
   "file_extension": ".py",
   "mimetype": "text/x-python",
   "name": "python",
   "nbconvert_exporter": "python",
   "pygments_lexer": "ipython3",
   "version": "3.9.13"
  },
  "orig_nbformat": 4,
  "vscode": {
   "interpreter": {
    "hash": "22ea4e8e4bc62f1f2c468860a17a62e47bb896f26c043965a0be0ae51df573cc"
   }
  }
 },
 "nbformat": 4,
 "nbformat_minor": 2
}
