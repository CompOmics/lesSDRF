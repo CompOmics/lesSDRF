{
 "cells": [
  {
   "cell_type": "code",
   "execution_count": 4,
   "metadata": {},
   "outputs": [],
   "source": [
    "import requests\n",
    "import rdflib\n",
    "import warnings\n",
    "warnings.filterwarnings(\"ignore\")\n",
    "from rdflib import Graph, Namespace, RDFS, RDF, OWL\n",
    "from owlready2 import get_ontology\n",
    "from owlready2 import *\n",
    "from rdflib import Graph, Namespace, RDFS\n",
    "from tqdm import tqdm\n",
    "import json\n",
    "import pickle\n",
    "import ParsingModule\n",
    "from ParsingModule import store_as_gzipped_json"
   ]
  },
  {
   "cell_type": "code",
   "execution_count": 5,
   "metadata": {},
   "outputs": [],
   "source": [
    "def get_children(ontology, term_id, term_label, d, nodes_dict=None, data=None):\n",
    "    if nodes_dict is None:  # load the json file only once\n",
    "        with open(ontology) as f:\n",
    "            data = json.load(f)\n",
    "        nodes_dict = {node[\"id\"]: node[\"lbl\"] for node in data[\"graphs\"][0][\"nodes\"] if all(key in node for key in ['id', 'lbl'])}\n",
    "\n",
    "    if term_id not in nodes_dict:\n",
    "        return f\"{term_id} node not in ontology\" # node not found in ontology, return early\n",
    "\n",
    "    if term_label not in d: \n",
    "        d[term_label] = {}  # add the parent to the dictionary\n",
    "\n",
    "    for term in data[\"graphs\"][0][\"edges\"]: # iterate through the edges\n",
    "        if (term[\"obj\"] == term_id) and (term[\"pred\"] in [\"http://purl.obolibrary.org/obo/BFO_0000050\", 'is_a']):\n",
    "            parent = term[\"sub\"]\n",
    "            if parent == \"http://purl.obolibrary.org/obo/MONDO_0011876\":\n",
    "                continue    # skip MONDO_0011876\n",
    "            parent_label = nodes_dict.get(parent)\n",
    "            if parent_label is not None:\n",
    "                if parent_label in d:\n",
    "                    d[term_label][parent_label] = d[parent_label]\n",
    "                    del d[parent_label]\n",
    "                else:\n",
    "                    d[term_label][parent_label] = {}\n",
    "                get_children(ontology, parent, parent_label, d[term_label], nodes_dict, data)\n",
    "\n",
    "    return d"
   ]
  },
  {
   "cell_type": "code",
   "execution_count": 6,
   "metadata": {},
   "outputs": [],
   "source": [
    "def flatten(d):\n",
    "    items = []\n",
    "    for k, v in d.items(): # iterate through the dictionary\n",
    "        items.append(k) # add the key to the list\n",
    "        if isinstance(v, dict):# if the value is a dictionary, call the function recursively\n",
    "            items.extend(flatten(v))\n",
    "        else:\n",
    "            items.append(v)\n",
    "    return items"
   ]
  },
  {
   "cell_type": "code",
   "execution_count": 7,
   "metadata": {},
   "outputs": [],
   "source": [
    "def transform_nested_dict_to_tree(d, parent_label=None, parent_value=None):\n",
    "    result = []\n",
    "    for key, value in d.items():\n",
    "        label = key\n",
    "        if parent_label:\n",
    "            label = f\"{parent_label} , {key}\"\n",
    "        children = []\n",
    "        if value:\n",
    "            children = transform_nested_dict_to_tree(value, label, key)\n",
    "        if children:\n",
    "            result.append({\"label\": key, \"value\": label, \"children\": children})\n",
    "        else:\n",
    "            result.append({\"label\": key, \"value\": label})\n",
    "    return result"
   ]
  },
  {
   "attachments": {},
   "cell_type": "markdown",
   "metadata": {},
   "source": [
    "# JSON file EFO"
   ]
  },
  {
   "attachments": {},
   "cell_type": "markdown",
   "metadata": {},
   "source": [
    "### organism part"
   ]
  },
  {
   "cell_type": "code",
   "execution_count": 9,
   "metadata": {},
   "outputs": [],
   "source": [
    "d=dict()\n",
    "orgpart_dict = get_children('/home/compomics/git/Publication/lesSDRF/ontology/efo.json', \"http://www.ebi.ac.uk/efo/EFO_0000635\",'organism part', d)"
   ]
  },
  {
   "cell_type": "code",
   "execution_count": 10,
   "metadata": {},
   "outputs": [],
   "source": [
    "orgpart_dict = orgpart_dict['organism part']"
   ]
  },
  {
   "cell_type": "code",
   "execution_count": 11,
   "metadata": {},
   "outputs": [],
   "source": [
    "orgpart_dict['Not available'] = {}\n",
    "orgpart_dict['Not applicable'] = {}"
   ]
  },
  {
   "cell_type": "code",
   "execution_count": 18,
   "metadata": {},
   "outputs": [
    {
     "data": {
      "text/plain": [
       "dict_keys(['anatomical entity', 'anatomy basic component', 'Not available', 'Not applicable'])"
      ]
     },
     "execution_count": 18,
     "metadata": {},
     "output_type": "execute_result"
    }
   ],
   "source": [
    "orgpart_dict.keys()"
   ]
  },
  {
   "cell_type": "code",
   "execution_count": 14,
   "metadata": {},
   "outputs": [
    {
     "data": {
      "text/plain": [
       "dict_keys(['umbilical cord', 'seminal fluid', 'primordium', 'abdominal cavity', 'peritoneal cavity', 'sensory system', 'bodily fluid', 'nasal cavity', 'retroperitoneal space', 'mushroom body', 'saliva', 'decidua basalis', 'meningeal cluster', 'vasculature', 'upper urinary tract', 'embryonic structure', 'head capsule', 'endocrine system', 'renal pelvis/ureter', 'tegmentum', 'venom', 'excreta', 'anatomical structure', 'immune system', 'mediastinum', 'early telencephalic vesicle'])"
      ]
     },
     "execution_count": 14,
     "metadata": {},
     "output_type": "execute_result"
    }
   ],
   "source": [
    "orgpart_dict['anatomical entity'].keys()"
   ]
  },
  {
   "cell_type": "code",
   "execution_count": 15,
   "metadata": {},
   "outputs": [],
   "source": [
    "# save the dictionary as a pickle\n",
    "with open('orgpart_dict.pickle', 'wb') as handle:\n",
    "    pickle.dump(orgpart_dict, handle, protocol=pickle.HIGHEST_PROTOCOL)"
   ]
  },
  {
   "cell_type": "code",
   "execution_count": 16,
   "metadata": {},
   "outputs": [
    {
     "ename": "FileNotFoundError",
     "evalue": "[Errno 2] No such file or directory: '/home/compomics/git/Publication/lesSDRF/data/organismpart_dict.pickle'",
     "output_type": "error",
     "traceback": [
      "\u001b[0;31m---------------------------------------------------------------------------\u001b[0m",
      "\u001b[0;31mFileNotFoundError\u001b[0m                         Traceback (most recent call last)",
      "Cell \u001b[0;32mIn[16], line 2\u001b[0m\n\u001b[1;32m      1\u001b[0m \u001b[39m#load pickle into dict\u001b[39;00m\n\u001b[0;32m----> 2\u001b[0m \u001b[39mwith\u001b[39;00m \u001b[39mopen\u001b[39;49m(\u001b[39m'\u001b[39;49m\u001b[39m/home/compomics/git/Publication/lesSDRF/data/organismpart_dict.pickle\u001b[39;49m\u001b[39m'\u001b[39;49m, \u001b[39m'\u001b[39;49m\u001b[39mrb\u001b[39;49m\u001b[39m'\u001b[39;49m) \u001b[39mas\u001b[39;00m handle:\n\u001b[1;32m      3\u001b[0m     orgpart_dict \u001b[39m=\u001b[39m pickle\u001b[39m.\u001b[39mload(handle)\n\u001b[1;32m      4\u001b[0m \u001b[39m# make streamlit tree\u001b[39;00m\n",
      "File \u001b[0;32m~/miniconda3/envs/reprocessing/lib/python3.11/site-packages/IPython/core/interactiveshell.py:284\u001b[0m, in \u001b[0;36m_modified_open\u001b[0;34m(file, *args, **kwargs)\u001b[0m\n\u001b[1;32m    277\u001b[0m \u001b[39mif\u001b[39;00m file \u001b[39min\u001b[39;00m {\u001b[39m0\u001b[39m, \u001b[39m1\u001b[39m, \u001b[39m2\u001b[39m}:\n\u001b[1;32m    278\u001b[0m     \u001b[39mraise\u001b[39;00m \u001b[39mValueError\u001b[39;00m(\n\u001b[1;32m    279\u001b[0m         \u001b[39mf\u001b[39m\u001b[39m\"\u001b[39m\u001b[39mIPython won\u001b[39m\u001b[39m'\u001b[39m\u001b[39mt let you open fd=\u001b[39m\u001b[39m{\u001b[39;00mfile\u001b[39m}\u001b[39;00m\u001b[39m by default \u001b[39m\u001b[39m\"\u001b[39m\n\u001b[1;32m    280\u001b[0m         \u001b[39m\"\u001b[39m\u001b[39mas it is likely to crash IPython. If you know what you are doing, \u001b[39m\u001b[39m\"\u001b[39m\n\u001b[1;32m    281\u001b[0m         \u001b[39m\"\u001b[39m\u001b[39myou can use builtins\u001b[39m\u001b[39m'\u001b[39m\u001b[39m open.\u001b[39m\u001b[39m\"\u001b[39m\n\u001b[1;32m    282\u001b[0m     )\n\u001b[0;32m--> 284\u001b[0m \u001b[39mreturn\u001b[39;00m io_open(file, \u001b[39m*\u001b[39;49margs, \u001b[39m*\u001b[39;49m\u001b[39m*\u001b[39;49mkwargs)\n",
      "\u001b[0;31mFileNotFoundError\u001b[0m: [Errno 2] No such file or directory: '/home/compomics/git/Publication/lesSDRF/data/organismpart_dict.pickle'"
     ]
    }
   ],
   "source": [
    "#load pickle into dict\n",
    "with open('/home/compomics/git/Publication/lesSDRF/data/organismpart_dict.pickle', 'rb') as handle:\n",
    "    orgpart_dict = pickle.load(handle)\n",
    "# make streamlit tree\n",
    "organismpart_nodes = transform_nested_dict_to_tree(orgpart_dict['organism part'])\n",
    "with open('/home/compomics/git/Publication/lesSDRF/data/organismpart_nodes.pickle', 'wb') as handle:\n",
    "    pickle.dump(organismpart_nodes, handle, protocol=pickle.HIGHEST_PROTOCOL)\n",
    "# flatten into a list of elements\n",
    "all_organismpart_elements = flatten(orgpart_dict['organism part'])\n",
    "with open('/home/compomics/git/Publication/lesSDRF/data/all_organismpart_elements.pickle', 'wb') as handle:\n",
    "    pickle.dump(all_organismpart_elements, handle, protocol=pickle.HIGHEST_PROTOCOL)"
   ]
  },
  {
   "cell_type": "code",
   "execution_count": 64,
   "metadata": {},
   "outputs": [],
   "source": [
    "with open('C:\\\\Users\\\\tinec\\\\OneDrive - UGent\\\\git\\\\SDRF_GUI\\\\onto_dicts\\\\all_organismpart_elements.pickle', 'rb') as handle:\n",
    "    x = pickle.load(handle)"
   ]
  },
  {
   "cell_type": "code",
   "execution_count": 17,
   "metadata": {},
   "outputs": [
    {
     "data": {
      "text/plain": [
       "'Stored all_organism_part_dict_elements as gzipped json'"
      ]
     },
     "execution_count": 17,
     "metadata": {},
     "output_type": "execute_result"
    }
   ],
   "source": [
    "# make streamlit tree\n",
    "orgpart_nodes = transform_nested_dict_to_tree(orgpart_dict)\n",
    "all_orgpart_elements = flatten(orgpart_dict)\n",
    "store_as_gzipped_json(orgpart_dict, \"organism_part_dict\")\n",
    "store_as_gzipped_json(orgpart_nodes, \"organism_part_dict_nodes\")\n",
    "store_as_gzipped_json(all_orgpart_elements, \"all_organism_part_dict_elements\")"
   ]
  },
  {
   "cell_type": "code",
   "execution_count": 50,
   "metadata": {},
   "outputs": [
    {
     "data": {
      "text/plain": [
       "26865"
      ]
     },
     "execution_count": 50,
     "metadata": {},
     "output_type": "execute_result"
    }
   ],
   "source": [
    "len(all_organismpart_elements)"
   ]
  },
  {
   "attachments": {},
   "cell_type": "markdown",
   "metadata": {},
   "source": [
    "### for cell types"
   ]
  },
  {
   "cell_type": "code",
   "execution_count": 19,
   "metadata": {},
   "outputs": [],
   "source": [
    "d=dict()\n",
    "celltype_dict = get_children('/home/compomics/git/Publication/lesSDRF/ontology/efo.json', \"http://www.ebi.ac.uk/efo/EFO_0000324\",'cell type', d)"
   ]
  },
  {
   "cell_type": "code",
   "execution_count": 20,
   "metadata": {},
   "outputs": [],
   "source": [
    "celltype_dict = celltype_dict['cell type']"
   ]
  },
  {
   "cell_type": "code",
   "execution_count": 21,
   "metadata": {},
   "outputs": [],
   "source": [
    "celltype_dict['Not available'] = {}\n",
    "celltype_dict['Not applicable'] = {}"
   ]
  },
  {
   "cell_type": "code",
   "execution_count": 22,
   "metadata": {},
   "outputs": [
    {
     "data": {
      "text/plain": [
       "dict_keys(['epithelial cell', 'embryonic cell (metazoa)', 'photosynthetic cell', 'mouse erythroleukemia cell', 'clear cell', 'somatic cell', 'fungal cell', 'prokaryotic cell', 'immortal cell line cell', 'neoplastic cell', 'integumental cell', 'diploid cell', 'lung cancer cell', 'follicular dendritic cell', 'mantle cell', 'glial brain cell', 'merkel cell', 'mouse neural progenitor cell', 'electrically active cell', 'ligament cell', 'bone marrow cell', 'disease cell type', 'inferred cell type', 'plant cell', 'secretory cell', 'stem cell', 'pancreatic cell', 'nervous system cell', 'infected cell', 'non-terminally differentiated cell', 'experimental cell', 'musculo-skeletal system cell', 'reproductive system cell', 'Not available', 'Not applicable'])"
      ]
     },
     "execution_count": 22,
     "metadata": {},
     "output_type": "execute_result"
    }
   ],
   "source": [
    "celltype_dict.keys()"
   ]
  },
  {
   "cell_type": "code",
   "execution_count": 23,
   "metadata": {},
   "outputs": [
    {
     "data": {
      "text/plain": [
       "'Stored all_cell_type_elements as gzipped json'"
      ]
     },
     "execution_count": 23,
     "metadata": {},
     "output_type": "execute_result"
    }
   ],
   "source": [
    "celltype_nodes = transform_nested_dict_to_tree(celltype_dict)\n",
    "all_celltype_elements = flatten(celltype_dict)\n",
    "store_as_gzipped_json(celltype_dict, \"cell_type_dict\")\n",
    "store_as_gzipped_json(celltype_nodes, \"cell_type_nodes\")\n",
    "store_as_gzipped_json(all_celltype_elements, \"all_cell_type_elements\")"
   ]
  },
  {
   "attachments": {},
   "cell_type": "markdown",
   "metadata": {},
   "source": [
    "### for disease  'characteristics[disease]',==> ontology, EFO:0000408"
   ]
  },
  {
   "cell_type": "code",
   "execution_count": 25,
   "metadata": {},
   "outputs": [],
   "source": [
    "d=dict()\n",
    "disease_dict = get_children('/home/compomics/git/Publication/lesSDRF/ontology/efo.json', \"http://www.ebi.ac.uk/efo/EFO_0000408\",'disease', d)"
   ]
  },
  {
   "cell_type": "code",
   "execution_count": 26,
   "metadata": {},
   "outputs": [
    {
     "data": {
      "text/plain": [
       "43"
      ]
     },
     "execution_count": 26,
     "metadata": {},
     "output_type": "execute_result"
    }
   ],
   "source": [
    "len(disease_dict['disease'].keys())"
   ]
  },
  {
   "cell_type": "code",
   "execution_count": null,
   "metadata": {},
   "outputs": [],
   "source": [
    "import gzip"
   ]
  },
  {
   "cell_type": "code",
   "execution_count": 27,
   "metadata": {},
   "outputs": [],
   "source": [
    "disease_dict['normal'] = {}\n",
    "disease_dict['Not available'] = {}\n",
    "disease_dict['Not applicable'] = {}"
   ]
  },
  {
   "cell_type": "code",
   "execution_count": 28,
   "metadata": {},
   "outputs": [
    {
     "data": {
      "text/plain": [
       "dict_keys(['disease', 'normal', 'Not available', 'Not applicable'])"
      ]
     },
     "execution_count": 28,
     "metadata": {},
     "output_type": "execute_result"
    }
   ],
   "source": [
    "disease_dict.keys()"
   ]
  },
  {
   "cell_type": "code",
   "execution_count": 29,
   "metadata": {},
   "outputs": [],
   "source": [
    "# make streamlit tree\n",
    "disease_nodes = transform_nested_dict_to_tree(disease_dict)\n",
    "all_disease_elements = flatten(disease_dict)"
   ]
  },
  {
   "cell_type": "code",
   "execution_count": 30,
   "metadata": {},
   "outputs": [
    {
     "data": {
      "text/plain": [
       "'Stored all_disease_elements as gzipped json'"
      ]
     },
     "execution_count": 30,
     "metadata": {},
     "output_type": "execute_result"
    }
   ],
   "source": [
    "store_as_gzipped_json(disease_dict, \"disease_dict\")\n",
    "store_as_gzipped_json(disease_nodes, \"disease_nodes\")\n",
    "store_as_gzipped_json(all_disease_elements, \"all_disease_elements\")"
   ]
  },
  {
   "attachments": {},
   "cell_type": "markdown",
   "metadata": {},
   "source": [
    "### for developmental stage"
   ]
  },
  {
   "cell_type": "code",
   "execution_count": 31,
   "metadata": {},
   "outputs": [],
   "source": [
    "d=dict()\n",
    "develop_dict = get_children('/home/compomics/git/Publication/lesSDRF/ontology/efo.json', \"http://www.ebi.ac.uk/efo/EFO_0000399\",'developmental stage', d)"
   ]
  },
  {
   "cell_type": "code",
   "execution_count": 32,
   "metadata": {},
   "outputs": [],
   "source": [
    "develop_dict = develop_dict['developmental stage']"
   ]
  },
  {
   "cell_type": "code",
   "execution_count": 38,
   "metadata": {},
   "outputs": [
    {
     "data": {
      "text/plain": [
       "{'pharyngula stage': {'pharyngula prim-15': {},\n",
       "  'pharyngula high-pec': {},\n",
       "  'pharyngula prim-5': {},\n",
       "  'pharyngula prim-25': {}},\n",
       " 'drosophila developmental stage': {'third instar larva stage': {}},\n",
       " 'fertilized egg stage': {},\n",
       " 'segmentation stage': {'segmentation 20-25 somites': {},\n",
       "  'segmentation 26+ somites': {},\n",
       "  'segmentation 10-13 somites': {},\n",
       "  'segmentation 5-9 somites': {},\n",
       "  'segmentation 1-4 somites': {},\n",
       "  'segmentation 14-19 somites': {}},\n",
       " 'infant': {'neonate': {}, 'Fibrous Hamartoma of Infancy': {}},\n",
       " 'floral transition': {},\n",
       " 'mouse prenatal': {'Theiler stage 3': {},\n",
       "  'Theiler stage 2': {},\n",
       "  'Theiler stage 1': {},\n",
       "  'Theiler stage 7': {},\n",
       "  'Theiler stage 5': {},\n",
       "  'Theiler stage 6': {},\n",
       "  'Theiler stage 4': {},\n",
       "  'Theiler stage 11': {},\n",
       "  'Theiler stage 17': {},\n",
       "  'Theiler stage 24': {},\n",
       "  'Theiler stage 26': {},\n",
       "  'Theiler stage 21': {},\n",
       "  'Theiler stage 22': {},\n",
       "  'Theiler stage 20': {},\n",
       "  'Theiler stage 25': {},\n",
       "  'Theiler stage 23': {},\n",
       "  'Theiler stage 14': {},\n",
       "  'Theiler stage 13': {},\n",
       "  'Theiler stage 12': {},\n",
       "  'Theiler stage 10': {},\n",
       "  'Theiler stage 19': {},\n",
       "  'Theiler stage 16': {},\n",
       "  'Theiler stage 18': {},\n",
       "  'Theiler stage 15': {},\n",
       "  'Theiler stage 9': {},\n",
       "  'Theiler stage 8': {}},\n",
       " 'plasmodium parasite stage': {'erythrocytic schizont': {},\n",
       "  'trophozoite': {},\n",
       "  'ring stage trophozoite': {},\n",
       "  'hepatic schizont': {}},\n",
       " 'gastrula stage': {'gastrula 80%-epiboly': {},\n",
       "  'gastrula germ-ring': {},\n",
       "  'gastrula bud': {},\n",
       "  'gastrula 90%-epiboly': {},\n",
       "  'gastrula 75%-epiboly': {},\n",
       "  'gastrula shield': {},\n",
       "  'gastrula 50%-epiboly': {}},\n",
       " 'blastula stage': {'blastula 1k-cell': {},\n",
       "  'blastula 128-cell': {},\n",
       "  'blastula oblong': {},\n",
       "  'blastula high': {},\n",
       "  'blastula sphere': {},\n",
       "  'blastula 512-cell': {},\n",
       "  'blastula 30%-epiboly': {},\n",
       "  'blastula 256-cell': {},\n",
       "  'blastula dome': {}},\n",
       " 'cleavage stage': {'cleavage 4-cell': {},\n",
       "  'cleavage 32-cell': {},\n",
       "  'cleavage 2-cell': {},\n",
       "  'cleavage 16-cell': {},\n",
       "  'cleavage 8-cell': {},\n",
       "  'cleavage 64-cell': {}},\n",
       " 'adult': {'newly molted young adult hermaphrodite': {}, 'postmenopausal': {}},\n",
       " 'sexually immature stage': {'juvenile days 45-89': {},\n",
       "  'juvenile days 30-44': {},\n",
       "  'juvenile stage': {}},\n",
       " 'late embryonic stage': {},\n",
       " 'hatching stage': {'hatching pec-fin': {}, 'hatching long-pec': {}},\n",
       " 'Platyhelminthes life stage': {'cercarium': {},\n",
       "  '3 hr schistosomulum': {},\n",
       "  '24 hr schistosomulum': {},\n",
       "  'Platyhelminthes adult': {}},\n",
       " 'animal zygote': {},\n",
       " 'embryo stage': {'Drosophila embryo stage': {'dorsal closure stage': {},\n",
       "   'embryonic stage 4': {},\n",
       "   'embryonic stage 3': {},\n",
       "   'embryonic stage 2': {},\n",
       "   'embryonic stage 1': {},\n",
       "   'embryonic stage 7': {},\n",
       "   'embryonic stage 6': {},\n",
       "   'embryonic stage 5': {},\n",
       "   'embryonic stage 9': {},\n",
       "   'embryonic stage 8': {},\n",
       "   'embryonic stage 12': {},\n",
       "   'embryonic stage 11': {},\n",
       "   'embryonic stage 10': {},\n",
       "   'embryonic stage 16': {},\n",
       "   'embryonic stage 15': {},\n",
       "   'embryonic stage 14': {},\n",
       "   'embryonic stage 13': {},\n",
       "   'embryonic stage 17': {}},\n",
       "  'C. elegans embryo stage': {'embryo Ce': {'proliferating embryo Ce': {'gastrulating embryo Ce': {},\n",
       "     'late cleavage stage embryo Ce': {'enclosing embryo Ce': {}}},\n",
       "    '4-cell embryo Ce': {},\n",
       "    'fully-elongated embryo Ce': {},\n",
       "    'elongating embryo Ce': {},\n",
       "    '3-fold embryo Ce': {}},\n",
       "   'proliferating embryo Ce': {'gastrulating embryo Ce': {},\n",
       "    'late cleavage stage embryo Ce': {'enclosing embryo Ce': {}}},\n",
       "   '4-cell embryo Ce': {},\n",
       "   'elongating embryo Ce': {},\n",
       "   'fully-elongated embryo Ce': {}},\n",
       "  'mouse embryo stage': {'embryonic day 18.5': {},\n",
       "   'embryonic day 11.5': {},\n",
       "   'embryonic day 12.5': {},\n",
       "   'embryonic day 8.25': {},\n",
       "   'embryonic day 15.5': {},\n",
       "   'embryonic day 16.5': {},\n",
       "   'embryonic day 13.5': {},\n",
       "   'embryonic day 14.5': {},\n",
       "   'embryonic day 17.5': {},\n",
       "   'embryonic day 18': {},\n",
       "   'embryonic day 13': {},\n",
       "   'embryonic day 10.5': {},\n",
       "   'embryonic day 9': {},\n",
       "   'embryonic day 9.5': {},\n",
       "   'embryonic day 12': {}}},\n",
       " 'larval stage': {'Caenorhabditis elegans larval stage': {'L3 larva': {},\n",
       "   'L2 larva': {},\n",
       "   'post dauer stage': {},\n",
       "   'L2d-dauer molt': {},\n",
       "   'L4 larva': {},\n",
       "   'L1 larva': {},\n",
       "   'dauer larva': {}},\n",
       "  'Danio rerio larval stage': {'larval protruding mouth': {},\n",
       "   'larval day 5': {},\n",
       "   'larval day 6': {},\n",
       "   'larval day 14-20': {},\n",
       "   'larval day 4': {},\n",
       "   'larval day 21-29': {},\n",
       "   'larval day 7-13': {}}},\n",
       " 'pupal stage': {},\n",
       " 'plant structure development stage': {'sporophyte development stage': {'0 seed germination stage': {'coleorhiza emergence stage': {},\n",
       "    'seed imbibition stage': {},\n",
       "    'radicle emergence': {},\n",
       "    'coleoptile emergence stage': {}},\n",
       "   '3 inflorescence detectable stage': {},\n",
       "   'inflorescence emergence stage': {},\n",
       "   'plant embryo development stage': {},\n",
       "   '1 main shoot growth stage': {'rosette growth stage': {'mid rosette growth stage': {},\n",
       "     'early rosette growth stage': {},\n",
       "     'rosette growth complete stage': {},\n",
       "     'late rosette growth stage': {}},\n",
       "    'leaf production stage': {'LP.11 eleven leaves visible stage': {},\n",
       "     'LP.04 four leaves visible stage': {},\n",
       "     'LP.16 sixteen leaves visible stage': {},\n",
       "     'LP.15 fifteen leaves visible stage': {},\n",
       "     'LP.10 ten leaves visible stage': {},\n",
       "     'LP.09 nine leaves visible': {},\n",
       "     'LP.03 three leaves visible stage': {},\n",
       "     'LP.19 nineteen leaves visible stage': {},\n",
       "     'LP.06 six leaves visible stage': {},\n",
       "     'LP.12 twelve leaves visible stage': {},\n",
       "     'LP.07 seven leaves visible stage': {},\n",
       "     'LP.17 seventeen leaves visible stage': {},\n",
       "     'LP.05 five leaves visible stage': {},\n",
       "     'LP.20 twenty or more leaves whorls visible stage': {},\n",
       "     'LP.14 fourteen leaves visible stage': {},\n",
       "     'LP.13 thirteen leaves visible stage': {},\n",
       "     'LP.18 eighteen leaves visible stage': {},\n",
       "     'LP.08 eight leaves visible stage': {},\n",
       "     'LP.01 one leaf visible stage': {},\n",
       "     'LP.02 two leaves visible stage': {}}},\n",
       "   'sporophyte vegetative stage': {'stem elongation stage': {'SE.99 maximum stem length reached stage': {},\n",
       "     'SE.02 two nodes or internodes visible stage': {},\n",
       "     'SE.00 stem elongation begins stage': {}},\n",
       "    '2 formation of axillary shoot stage': {'2.03 main shoot and axillary shoots visible at three nodes stage': {}}},\n",
       "   'seedling development stage': {'hypocotyl emergence stage': {},\n",
       "    'cotyledon emergence stage': {}},\n",
       "   'whole plant flowering stage': {'FL.01 1/4 of flowers open stage': {},\n",
       "    'FL.00 first flower(s) open stage': {},\n",
       "    'FL.04 end of flowering stage': {},\n",
       "    'FL.02 1/2 of flowers open stage': {}},\n",
       "   'sporophyte senescent stage': {},\n",
       "   'whole plant fruit ripening stage': {'early whole plant fruit ripening stage': {},\n",
       "    'mid whole plant fruit ripening stage': {},\n",
       "    'beginning of whole plant fruit ripening stage': {},\n",
       "    'whole plant fruit ripening complete stage': {}},\n",
       "   'IL.00 inflorescence just visible stage': {'booting stage': {}}},\n",
       "  'whole plant fruit formation stage': {'whole plant fruit formation stage 30 to 50%': {},\n",
       "   'whole plant fruit formation stage 70% to final size': {}},\n",
       "  'fruit development stage': {'fruit formation stage': {'fruit size 50 to 70% stage': {},\n",
       "    'fruit size 70% to final size stage': {},\n",
       "    'fruit size 30 to 50% stage': {},\n",
       "    'fruit size up to 10% stage': {}}},\n",
       "  'seed development stage': {'seed maturation stage': {},\n",
       "   'developing seed stage': {},\n",
       "   'fertilized ovule stage': {}},\n",
       "  'flower development stage': {'floral organ formation stage': {'floral organ differentiation stage': {'corolla development stage': {'petal differentiation and expansion stage': {}},\n",
       "     'gynoecium development stage': {}},\n",
       "    'floral organ meristem development stage': {}}},\n",
       "  'androecium development stage': {'stamen primordium visible stage': {}},\n",
       "  'calyx development stage': {'sepal primordium visible stage': {}},\n",
       "  'inflorescence development stage': {},\n",
       "  'fruit ripening stage': {}},\n",
       " 'postnatal': {'postpartum': {},\n",
       "  'mouse postnatal': {'Theiler stage 28': {}, 'Theiler stage 27': {}}},\n",
       " 'juvenile stage': {},\n",
       " 'Not available': {},\n",
       " 'Not applicable': {}}"
      ]
     },
     "execution_count": 38,
     "metadata": {},
     "output_type": "execute_result"
    }
   ],
   "source": [
    "develop_dict"
   ]
  },
  {
   "cell_type": "code",
   "execution_count": 33,
   "metadata": {},
   "outputs": [],
   "source": [
    "develop_dict['Not available'] = {}\n",
    "develop_dict['Not applicable'] = {}"
   ]
  },
  {
   "cell_type": "code",
   "execution_count": 34,
   "metadata": {},
   "outputs": [
    {
     "data": {
      "text/plain": [
       "'Stored all_developmental_stage_elements as gzipped json'"
      ]
     },
     "execution_count": 34,
     "metadata": {},
     "output_type": "execute_result"
    }
   ],
   "source": [
    "developmental_stage_nodes = transform_nested_dict_to_tree(develop_dict)\n",
    "all_developmental_stage_elements = flatten(develop_dict)\n",
    "store_as_gzipped_json(develop_dict, \"developmental_stage_dict\")\n",
    "store_as_gzipped_json(developmental_stage_nodes, \"developmental_stage_nodes\")\n",
    "store_as_gzipped_json(all_developmental_stage_elements, \"all_developmental_stage_elements\")"
   ]
  },
  {
   "attachments": {},
   "cell_type": "markdown",
   "metadata": {},
   "source": [
    "## for organism"
   ]
  },
  {
   "cell_type": "code",
   "execution_count": 27,
   "metadata": {},
   "outputs": [],
   "source": [
    "d=dict()\n",
    "org_dict = get_children('/home/compomics/git/Publication/lesSDRF/ontology/efo.json', \"http://purl.obolibrary.org/obo/OBI_0100026\",'organism', d)\n",
    "org_dict = org_dict['organism']\n",
    "org_dict['Not available'] = {}\n",
    "org_dict['Not applicable'] = {}\n"
   ]
  },
  {
   "cell_type": "code",
   "execution_count": 28,
   "metadata": {},
   "outputs": [
    {
     "data": {
      "text/plain": [
       "'Stored all_organism_elements as gzipped json'"
      ]
     },
     "execution_count": 28,
     "metadata": {},
     "output_type": "execute_result"
    }
   ],
   "source": [
    "# make streamlit tree\n",
    "org_nodes = transform_nested_dict_to_tree(org_dict)\n",
    "all_org_elements = flatten(org_dict)\n",
    "store_as_gzipped_json(org_dict, \"organism_dict\")\n",
    "store_as_gzipped_json(org_nodes, \"organism_nodes\")\n",
    "store_as_gzipped_json(all_org_elements, \"all_organism_elements\")"
   ]
  },
  {
   "cell_type": "code",
   "execution_count": 18,
   "metadata": {},
   "outputs": [],
   "source": [
    "# save the dictionary as a pickle\n",
    "\n",
    "with open('org_dict.pickle', 'wb') as handle:\n",
    "    pickle.dump(org_dict, handle, protocol=pickle.HIGHEST_PROTOCOL)"
   ]
  },
  {
   "attachments": {},
   "cell_type": "markdown",
   "metadata": {},
   "source": [
    "## for ancestry"
   ]
  },
  {
   "cell_type": "code",
   "execution_count": 35,
   "metadata": {},
   "outputs": [
    {
     "data": {
      "text/plain": [
       "dict_keys(['European', 'Asian', 'genetically isolated population', 'African', 'Oceanian', 'Greater Middle Eastern  (Middle Eastern, North African or Persian)', 'African American or Afro-Caribbean', 'Native American', 'Hispanic or Latin American', 'undefined ancestry population'])"
      ]
     },
     "execution_count": 35,
     "metadata": {},
     "output_type": "execute_result"
    }
   ],
   "source": [
    "d=dict()\n",
    "ancestry_dict = get_children('/home/compomics/git/Publication/lesSDRF/ontology/efo.json', \"http://purl.obolibrary.org/obo/HANCESTRO_0004\",'ancestry category', d)\n",
    "ancestry_dict['ancestry category'].keys()\n"
   ]
  },
  {
   "cell_type": "code",
   "execution_count": 36,
   "metadata": {},
   "outputs": [],
   "source": [
    "ancestry_dict['Not available'] = {}\n",
    "ancestry_dict['Not applicable'] = {}"
   ]
  },
  {
   "cell_type": "code",
   "execution_count": 37,
   "metadata": {},
   "outputs": [
    {
     "data": {
      "text/plain": [
       "dict_keys(['European', 'Asian', 'genetically isolated population', 'African', 'Oceanian', 'Greater Middle Eastern  (Middle Eastern, North African or Persian)', 'African American or Afro-Caribbean', 'Native American', 'Hispanic or Latin American', 'undefined ancestry population'])"
      ]
     },
     "execution_count": 37,
     "metadata": {},
     "output_type": "execute_result"
    }
   ],
   "source": [
    "ancestry_dict['ancestry category'].keys()"
   ]
  },
  {
   "cell_type": "code",
   "execution_count": 9,
   "metadata": {},
   "outputs": [],
   "source": [
    "# save the dictionary as a pickle\n",
    "\n",
    "with open('ancestry_dict.pickle', 'wb') as handle:\n",
    "    pickle.dump(ancestry_dict, handle, protocol=pickle.HIGHEST_PROTOCOL)"
   ]
  },
  {
   "cell_type": "code",
   "execution_count": 21,
   "metadata": {},
   "outputs": [],
   "source": [
    "ancestry_nodes = transform_nested_dict_to_tree(ancestry_dict['ancestry category'])"
   ]
  },
  {
   "cell_type": "code",
   "execution_count": 22,
   "metadata": {},
   "outputs": [],
   "source": [
    "with open('ancestry_nodes.pickle', 'wb') as handle:\n",
    "    pickle.dump(ancestry_nodes, handle, protocol=pickle.HIGHEST_PROTOCOL)"
   ]
  },
  {
   "cell_type": "code",
   "execution_count": 20,
   "metadata": {},
   "outputs": [],
   "source": [
    "all_ancestry_elements = flatten(ancestry_dict['ancestry category'])\n",
    "with open('all_ancestry_elements.pickle', 'wb') as handle:\n",
    "    pickle.dump(all_ancestry_elements, handle, protocol=pickle.HIGHEST_PROTOCOL)"
   ]
  },
  {
   "cell_type": "code",
   "execution_count": 48,
   "metadata": {},
   "outputs": [],
   "source": [
    "#load pickle into dict\n",
    "with open('C:\\\\Users\\\\tinec\\\\OneDrive - UGent\\\\git\\\\SDRF_GUI\\\\onto_dicts\\\\ancestry_dict.pickle', 'rb') as handle:\n",
    "    ancestry_dict = pickle.load(handle)\n",
    "# make streamlit tree\n",
    "develop_nodes = transform_nested_dict_to_tree(ancestry_dict)\n",
    "with open('C:\\\\Users\\\\tinec\\\\OneDrive - UGent\\\\git\\\\SDRF_GUI\\\\onto_dicts\\\\ancestry_nodes.pickle', 'wb') as handle:\n",
    "    pickle.dump(develop_nodes, handle, protocol=pickle.HIGHEST_PROTOCOL)\n",
    "# flatten into a list of elements\n",
    "all_develop_elements = flatten(ancestry_dict)\n",
    "with open('C:\\\\Users\\\\tinec\\\\OneDrive - UGent\\\\git\\\\SDRF_GUI\\\\onto_dicts\\\\all_ancestry_elements.pickle', 'wb') as handle:\n",
    "    pickle.dump(all_celltype_elements, handle, protocol=pickle.HIGHEST_PROTOCOL)"
   ]
  },
  {
   "attachments": {},
   "cell_type": "markdown",
   "metadata": {},
   "source": [
    "## for cell line"
   ]
  },
  {
   "cell_type": "code",
   "execution_count": 29,
   "metadata": {},
   "outputs": [],
   "source": [
    "d=dict()\n",
    "cell_dict = get_children('/home/compomics/git/Publication/lesSDRF/ontology/efo.json', \"http://purl.obolibrary.org/obo/CL_0000000\",'cell', d)"
   ]
  },
  {
   "cell_type": "code",
   "execution_count": 30,
   "metadata": {},
   "outputs": [],
   "source": [
    "cell_dict = cell_dict['cell']\n",
    "cell_dict['Not available'] = {}\n",
    "cell_dict['Not applicable'] = {}"
   ]
  },
  {
   "cell_type": "code",
   "execution_count": 31,
   "metadata": {},
   "outputs": [],
   "source": [
    "cell_nodes = transform_nested_dict_to_tree(cell_dict)\n",
    "all_cell_elements = flatten(cell_dict)"
   ]
  },
  {
   "cell_type": "code",
   "execution_count": 32,
   "metadata": {},
   "outputs": [
    {
     "data": {
      "text/plain": [
       "'Stored all_cell_line_elements as gzipped json'"
      ]
     },
     "execution_count": 32,
     "metadata": {},
     "output_type": "execute_result"
    }
   ],
   "source": [
    "# make streamlit tree\n",
    "cell_nodes = transform_nested_dict_to_tree(cell_dict)\n",
    "all_cell_elements = flatten(cell_dict)\n",
    "store_as_gzipped_json(cell_dict, \"cell_line_dict\")\n",
    "store_as_gzipped_json(cell_nodes, \"cell_line_nodes\")\n",
    "store_as_gzipped_json(all_cell_elements, \"all_cell_line_elements\")"
   ]
  },
  {
   "attachments": {},
   "cell_type": "markdown",
   "metadata": {},
   "source": [
    "## for enrichment"
   ]
  },
  {
   "cell_type": "code",
   "execution_count": 33,
   "metadata": {},
   "outputs": [],
   "source": [
    "d=dict()\n",
    "enrichment_dict = get_children('/home/compomics/git/Publication/lesSDRF/ontology/efo.json', \"http://www.ebi.ac.uk/efo/EFO_0009090\",'enrichment process', d)\n",
    "enrichment_dict['Not available'] = {}\n",
    "enrichment_dict['Not applicable'] = {}"
   ]
  },
  {
   "cell_type": "code",
   "execution_count": 34,
   "metadata": {},
   "outputs": [
    {
     "data": {
      "text/plain": [
       "'Stored all_enrichment_elements as gzipped json'"
      ]
     },
     "execution_count": 34,
     "metadata": {},
     "output_type": "execute_result"
    }
   ],
   "source": [
    "# make streamlit tree\n",
    "enrichment_nodes = transform_nested_dict_to_tree(enrichment_dict)\n",
    "all_enrichment_elements = flatten(enrichment_dict)\n",
    "store_as_gzipped_json(enrichment_dict, \"enrichment_dict\")\n",
    "store_as_gzipped_json(enrichment_nodes, \"enrichment_nodes\")\n",
    "store_as_gzipped_json(all_enrichment_elements, \"all_enrichment_elements\")"
   ]
  },
  {
   "cell_type": "code",
   "execution_count": 8,
   "metadata": {},
   "outputs": [
    {
     "data": {
      "text/plain": [
       "dict_keys(['isolation of cell population', 'cell size selection', 'density gradient centrifugation', 'magnetic affinity cell sorting'])"
      ]
     },
     "execution_count": 8,
     "metadata": {},
     "output_type": "execute_result"
    }
   ],
   "source": [
    "enrichment_dict['enrichment process']['sample enrichment'].keys()"
   ]
  },
  {
   "cell_type": "code",
   "execution_count": 9,
   "metadata": {},
   "outputs": [],
   "source": [
    "enrichment_nodes = transform_nested_dict_to_tree(enrichment_dict)\n",
    "all_enrichment_elements = flatten(enrichment_dict)"
   ]
  },
  {
   "cell_type": "code",
   "execution_count": 10,
   "metadata": {},
   "outputs": [],
   "source": [
    "#save dict as pickle\n",
    "with open('C:\\\\Users\\\\tinec\\\\OneDrive - UGent\\\\git\\\\SDRF_GUI\\\\onto_dicts\\\\enrichment_dict.pickle', 'wb') as handle:\n",
    "    pickle.dump(enrichment_dict, handle, protocol=pickle.HIGHEST_PROTOCOL)\n",
    "# make streamlit tree\n",
    "with open('C:\\\\Users\\\\tinec\\\\OneDrive - UGent\\\\git\\\\SDRF_GUI\\\\onto_dicts\\\\enrichment_nodes.pickle', 'wb') as handle:\n",
    "    pickle.dump(enrichment_nodes, handle, protocol=pickle.HIGHEST_PROTOCOL)\n",
    "# flatten into a list of elements\n",
    "with open('C:\\\\Users\\\\tinec\\\\OneDrive - UGent\\\\git\\\\SDRF_GUI\\\\onto_dicts\\\\all_enrichment_elements.pickle', 'wb') as handle:\n",
    "    pickle.dump(all_enrichment_elements, handle, protocol=pickle.HIGHEST_PROTOCOL)"
   ]
  },
  {
   "cell_type": "markdown",
   "metadata": {},
   "source": []
  }
 ],
 "metadata": {
  "kernelspec": {
   "display_name": "sdrf",
   "language": "python",
   "name": "python3"
  },
  "language_info": {
   "codemirror_mode": {
    "name": "ipython",
    "version": 3
   },
   "file_extension": ".py",
   "mimetype": "text/x-python",
   "name": "python",
   "nbconvert_exporter": "python",
   "pygments_lexer": "ipython3",
   "version": "3.11.4"
  },
  "orig_nbformat": 4,
  "vscode": {
   "interpreter": {
    "hash": "22ea4e8e4bc62f1f2c468860a17a62e47bb896f26c043965a0be0ae51df573cc"
   }
  }
 },
 "nbformat": 4,
 "nbformat_minor": 2
}
