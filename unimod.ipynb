{
 "cells": [
  {
   "attachments": {},
   "cell_type": "markdown",
   "metadata": {},
   "source": [
    "Autocomplete searching in all possible names <br>\n",
    "Then dictionary with name and unimod_id <br>\n",
    "I need a list of tuples with (unimod_id, modification name, chemical formula, Monoisotopic mass) <br>\n",
    "Then the user can auto-complete search for the modification name<br> \n",
    "This is then automatically correctly formatted. <br>\n",
    "If modification is not in the list they can type it but then they **always** need to add the monoisotopic mass of their modificiation.<br>\n",
    "Then they can choose between:<br>\n",
    "    type: fixed, variable, annotated<br>\n",
    "    position: anywhere, protein c-term, protein n-term, c-term, n-term<br>\n",
    "    amino acid: (one or multiple)<br>\n",
    "<br><br>\n",
    "<br><br>\n",
    "Final format:\n",
    "\n",
    "NT=Name;AC=unimod_accession;CF=Formula;MT=['Fixed', 'Variable', 'Annotated']; PP=['Anywhere', Protein N-term, Protein C-term, Any N-term, Any C-term];TA=[amino acids];MM=Monoisotopicmass"
   ]
  },
  {
   "cell_type": "code",
   "execution_count": 1,
   "metadata": {},
   "outputs": [],
   "source": [
    "import pandas as pd\n",
    "import numpy as np"
   ]
  },
  {
   "cell_type": "code",
   "execution_count": 26,
   "metadata": {},
   "outputs": [
    {
     "data": {
      "text/html": [
       "<div>\n",
       "<style scoped>\n",
       "    .dataframe tbody tr th:only-of-type {\n",
       "        vertical-align: middle;\n",
       "    }\n",
       "\n",
       "    .dataframe tbody tr th {\n",
       "        vertical-align: top;\n",
       "    }\n",
       "\n",
       "    .dataframe thead th {\n",
       "        text-align: right;\n",
       "    }\n",
       "</style>\n",
       "<table border=\"1\" class=\"dataframe\">\n",
       "  <thead>\n",
       "    <tr style=\"text-align: right;\">\n",
       "      <th></th>\n",
       "      <th>Unimod_ID</th>\n",
       "      <th>PSI-MS Name</th>\n",
       "      <th>Interim name</th>\n",
       "      <th>Description</th>\n",
       "      <th>Monoisotopic mass</th>\n",
       "      <th>Average mass</th>\n",
       "      <th>Composition</th>\n",
       "    </tr>\n",
       "  </thead>\n",
       "  <tbody>\n",
       "    <tr>\n",
       "      <th>1527</th>\n",
       "      <td>2073</td>\n",
       "      <td>N6pAMP</td>\n",
       "      <td>N6pAMP</td>\n",
       "      <td>probe; AMP analogon</td>\n",
       "      <td>367.068170</td>\n",
       "      <td>367.2539</td>\n",
       "      <td>H(14) C(13) N(5) O(6) P</td>\n",
       "    </tr>\n",
       "    <tr>\n",
       "      <th>1528</th>\n",
       "      <td>2074</td>\n",
       "      <td>DabMal</td>\n",
       "      <td>DabMal</td>\n",
       "      <td>Dabcyl C2 Maleimide</td>\n",
       "      <td>391.164440</td>\n",
       "      <td>391.4231</td>\n",
       "      <td>H(21) C(21) N(5) O(3)</td>\n",
       "    </tr>\n",
       "    <tr>\n",
       "      <th>1529</th>\n",
       "      <td>2079</td>\n",
       "      <td>NBF</td>\n",
       "      <td>NBF</td>\n",
       "      <td>Thiol blocking reagent</td>\n",
       "      <td>163.001791</td>\n",
       "      <td>163.0904</td>\n",
       "      <td>H C(6) N(3) O(3)</td>\n",
       "    </tr>\n",
       "    <tr>\n",
       "      <th>1530</th>\n",
       "      <td>2080</td>\n",
       "      <td>DCP</td>\n",
       "      <td>DCP</td>\n",
       "      <td>Dimedone-Based Chemical Probes</td>\n",
       "      <td>168.078644</td>\n",
       "      <td>168.1898</td>\n",
       "      <td>H(12) C(9) O(3)</td>\n",
       "    </tr>\n",
       "    <tr>\n",
       "      <th>1531</th>\n",
       "      <td>2081</td>\n",
       "      <td>Ethynylation</td>\n",
       "      <td>Ethynylation</td>\n",
       "      <td>Ethynlation of cysteine residues</td>\n",
       "      <td>24.000000</td>\n",
       "      <td>24.0214</td>\n",
       "      <td>C(2)</td>\n",
       "    </tr>\n",
       "  </tbody>\n",
       "</table>\n",
       "</div>"
      ],
      "text/plain": [
       "      Unimod_ID   PSI-MS Name  Interim name                       Description  \\\n",
       "1527       2073        N6pAMP        N6pAMP               probe; AMP analogon   \n",
       "1528       2074        DabMal        DabMal               Dabcyl C2 Maleimide   \n",
       "1529       2079           NBF           NBF            Thiol blocking reagent   \n",
       "1530       2080           DCP           DCP    Dimedone-Based Chemical Probes   \n",
       "1531       2081  Ethynylation  Ethynylation  Ethynlation of cysteine residues   \n",
       "\n",
       "      Monoisotopic mass  Average mass              Composition  \n",
       "1527         367.068170      367.2539  H(14) C(13) N(5) O(6) P  \n",
       "1528         391.164440      391.4231    H(21) C(21) N(5) O(3)  \n",
       "1529         163.001791      163.0904         H C(6) N(3) O(3)  \n",
       "1530         168.078644      168.1898          H(12) C(9) O(3)  \n",
       "1531          24.000000       24.0214                     C(2)  "
      ]
     },
     "execution_count": 26,
     "metadata": {},
     "output_type": "execute_result"
    }
   ],
   "source": [
    "df = pd.read_csv('C:\\\\Users\\\\tinec\\\\OneDrive - UGent\\\\git\\\\SDRF_GUI\\\\ontology\\\\unimod.tsv', sep='\\t')\n",
    "#if PSI-MS is empty, replace with interim name\n",
    "df['PSI-MS Name'].fillna(df['Interim name'], inplace=True)\n",
    "df.tail()"
   ]
  },
  {
   "cell_type": "code",
   "execution_count": 28,
   "metadata": {},
   "outputs": [
    {
     "data": {
      "text/html": [
       "<div>\n",
       "<style scoped>\n",
       "    .dataframe tbody tr th:only-of-type {\n",
       "        vertical-align: middle;\n",
       "    }\n",
       "\n",
       "    .dataframe tbody tr th {\n",
       "        vertical-align: top;\n",
       "    }\n",
       "\n",
       "    .dataframe thead th {\n",
       "        text-align: right;\n",
       "    }\n",
       "</style>\n",
       "<table border=\"1\" class=\"dataframe\">\n",
       "  <thead>\n",
       "    <tr style=\"text-align: right;\">\n",
       "      <th></th>\n",
       "      <th>Unimod_ID</th>\n",
       "      <th>PSI-MS Name</th>\n",
       "      <th>Interim name</th>\n",
       "      <th>Description</th>\n",
       "      <th>Monoisotopic mass</th>\n",
       "      <th>Average mass</th>\n",
       "      <th>Composition</th>\n",
       "    </tr>\n",
       "  </thead>\n",
       "  <tbody>\n",
       "    <tr>\n",
       "      <th>619</th>\n",
       "      <td>977</td>\n",
       "      <td>Carbofuran</td>\n",
       "      <td>Carbofuran</td>\n",
       "      <td>2,3-dihydro-2,2-dimethyl-7-benzofuranol N-meth...</td>\n",
       "      <td>57.021464</td>\n",
       "      <td>57.0513</td>\n",
       "      <td>H(3) C(2) N O</td>\n",
       "    </tr>\n",
       "  </tbody>\n",
       "</table>\n",
       "</div>"
      ],
      "text/plain": [
       "     Unimod_ID PSI-MS Name Interim name  \\\n",
       "619        977  Carbofuran   Carbofuran   \n",
       "\n",
       "                                           Description  Monoisotopic mass  \\\n",
       "619  2,3-dihydro-2,2-dimethyl-7-benzofuranol N-meth...          57.021464   \n",
       "\n",
       "     Average mass    Composition  \n",
       "619       57.0513  H(3) C(2) N O  "
      ]
     },
     "execution_count": 28,
     "metadata": {},
     "output_type": "execute_result"
    }
   ],
   "source": [
    "df[df['Unimod_ID'] == 977]"
   ]
  },
  {
   "cell_type": "code",
   "execution_count": 29,
   "metadata": {},
   "outputs": [],
   "source": [
    "df = df.applymap(lambda x: x.strip() if isinstance(x, str) else x)"
   ]
  },
  {
   "cell_type": "code",
   "execution_count": 30,
   "metadata": {},
   "outputs": [
    {
     "data": {
      "text/plain": [
       "['Acetyl', 'Amide', 'Biotin', 'Carbamidomethyl', 'Carbamyl']"
      ]
     },
     "execution_count": 30,
     "metadata": {},
     "output_type": "execute_result"
    }
   ],
   "source": [
    "df['Interim name'].values.tolist()[:5]"
   ]
  },
  {
   "cell_type": "code",
   "execution_count": 31,
   "metadata": {},
   "outputs": [],
   "source": [
    "autocomplete_inputs = set()\n",
    "autocomplete_inputs.update(df['PSI-MS Name'].values)\n",
    "autocomplete_inputs.update(df['Interim name'].values)\n",
    "autocomplete_inputs.update(df['Description'].values)"
   ]
  },
  {
   "cell_type": "code",
   "execution_count": 32,
   "metadata": {},
   "outputs": [
    {
     "data": {
      "text/plain": [
       "(1532, 7)"
      ]
     },
     "execution_count": 32,
     "metadata": {},
     "output_type": "execute_result"
    }
   ],
   "source": [
    "df.shape"
   ]
  },
  {
   "cell_type": "code",
   "execution_count": 33,
   "metadata": {},
   "outputs": [
    {
     "data": {
      "text/plain": [
       "3235"
      ]
     },
     "execution_count": 33,
     "metadata": {},
     "output_type": "execute_result"
    }
   ],
   "source": [
    "len(autocomplete_inputs)"
   ]
  },
  {
   "cell_type": "code",
   "execution_count": 34,
   "metadata": {},
   "outputs": [],
   "source": [
    "# store list as gzipped json\n",
    "import json\n",
    "import gzip\n",
    "with gzip.open('autocomplete_inputs.json.gz', 'wt') as f:\n",
    "    json.dump(list(autocomplete_inputs), f)"
   ]
  },
  {
   "attachments": {},
   "cell_type": "markdown",
   "metadata": {},
   "source": [
    "Step 1: search for substring in autocomplete list<br>\n",
    "Step 2: find according modification in unimod dataframe <br>"
   ]
  },
  {
   "cell_type": "code",
   "execution_count": 35,
   "metadata": {},
   "outputs": [],
   "source": [
    "# assuming your DataFrame is named df\n",
    "cols_to_search = ['Interim name', 'Description', 'PSI-MS Name'] # the columns to search for substrings in\n",
    "substring = 'Acetylation' # the substring to search for\n",
    "\n",
    "# use vectorized string methods to check for substring in specified columns\n",
    "substring_mask = df[cols_to_search].apply(lambda x: x.str.contains(substring)).any(axis=1)\n",
    "\n",
    "# use numpy's where method to get row indices where the substring appears\n",
    "row_indices = np.where(substring_mask)[0]\n",
    "\n",
    "# select the matching rows from the DataFrame\n",
    "result = df.iloc[row_indices]"
   ]
  },
  {
   "cell_type": "code",
   "execution_count": 36,
   "metadata": {},
   "outputs": [
    {
     "data": {
      "text/html": [
       "<div>\n",
       "<style scoped>\n",
       "    .dataframe tbody tr th:only-of-type {\n",
       "        vertical-align: middle;\n",
       "    }\n",
       "\n",
       "    .dataframe tbody tr th {\n",
       "        vertical-align: top;\n",
       "    }\n",
       "\n",
       "    .dataframe thead th {\n",
       "        text-align: right;\n",
       "    }\n",
       "</style>\n",
       "<table border=\"1\" class=\"dataframe\">\n",
       "  <thead>\n",
       "    <tr style=\"text-align: right;\">\n",
       "      <th></th>\n",
       "      <th>Unimod_ID</th>\n",
       "      <th>PSI-MS Name</th>\n",
       "      <th>Interim name</th>\n",
       "      <th>Description</th>\n",
       "      <th>Monoisotopic mass</th>\n",
       "      <th>Average mass</th>\n",
       "      <th>Composition</th>\n",
       "    </tr>\n",
       "  </thead>\n",
       "  <tbody>\n",
       "    <tr>\n",
       "      <th>0</th>\n",
       "      <td>1</td>\n",
       "      <td>Acetyl</td>\n",
       "      <td>Acetyl</td>\n",
       "      <td>Acetylation</td>\n",
       "      <td>42.010565</td>\n",
       "      <td>42.0367</td>\n",
       "      <td>H(2) C(2) O</td>\n",
       "    </tr>\n",
       "  </tbody>\n",
       "</table>\n",
       "</div>"
      ],
      "text/plain": [
       "   Unimod_ID PSI-MS Name Interim name  Description  Monoisotopic mass  \\\n",
       "0          1      Acetyl       Acetyl  Acetylation          42.010565   \n",
       "\n",
       "   Average mass  Composition  \n",
       "0       42.0367  H(2) C(2) O  "
      ]
     },
     "execution_count": 36,
     "metadata": {},
     "output_type": "execute_result"
    }
   ],
   "source": [
    "result"
   ]
  },
  {
   "attachments": {},
   "cell_type": "markdown",
   "metadata": {},
   "source": [
    "xx NT=Name\n",
    "xx AC=unimod_accession\n",
    "xx CF=Formula\n",
    "MT=['Fixed', 'Variable', 'Annotated']\n",
    "PP=['Anywhere', Protein N-term, Protein C-term, Any N-term, Any C-term]\n",
    "TA=['X', 'G', 'A', 'L', 'M', 'F', 'W', 'K', 'Q', 'E', 'S', 'P', 'V', 'I', 'C', 'Y', 'H', 'R', 'N', 'D', T]\n",
    "xx MM=Monoisotopicmass"
   ]
  },
  {
   "cell_type": "code",
   "execution_count": 10,
   "metadata": {},
   "outputs": [],
   "source": [
    "#if there is a PSI-MS Name, use that one, otherwise use the Interim name\n",
    "if result['PSI-MS Name'].values[0] != '':\n",
    "    nt = result['PSI-MS Name'].values[0]\n",
    "else:\n",
    "    nt = result['Interim name'].values[0]\n",
    "mm = result['Monoisotopic mass'].values[0]\n",
    "cf = result['Composition'].values[0]\n",
    "ac = result['Unimod_id'].values[0]\n",
    "\n",
    "mt = input() #from list\n",
    "pp = input() #from list\n",
    "ta = input() #from list ==> can be multiple!\n",
    "\n",
    "final = f'NT = {nt}; AC={ac}; CF={cf}, MT={mt}, PP={pp}, TA={ta}, MM={mm}'"
   ]
  },
  {
   "cell_type": "code",
   "execution_count": 23,
   "metadata": {},
   "outputs": [
    {
     "name": "stdout",
     "output_type": "stream",
     "text": [
      "NT = Acetyl; AC=1; CF=H(2) C(2) O, MT=fixed, PP=anywhere, TA=42, MM=42.010565\n"
     ]
    }
   ],
   "source": [
    "print(final)"
   ]
  },
  {
   "cell_type": "code",
   "execution_count": 37,
   "metadata": {},
   "outputs": [],
   "source": [
    "#the combo column merges the columns of interest into a single column, if PSI-MS column is nan, it will use the Interim column\n",
    "df['combo'] = \"NT=\"+df['PSI-MS Name'].astype(str)+\";AC=\"+df['Unimod_ID'].astype(str)+\";CF=\"+df['Composition'].astype(str)+\";MM=\"+df['Monoisotopic mass'].astype(str)"
   ]
  },
  {
   "cell_type": "code",
   "execution_count": 38,
   "metadata": {},
   "outputs": [
    {
     "data": {
      "text/html": [
       "<div>\n",
       "<style scoped>\n",
       "    .dataframe tbody tr th:only-of-type {\n",
       "        vertical-align: middle;\n",
       "    }\n",
       "\n",
       "    .dataframe tbody tr th {\n",
       "        vertical-align: top;\n",
       "    }\n",
       "\n",
       "    .dataframe thead th {\n",
       "        text-align: right;\n",
       "    }\n",
       "</style>\n",
       "<table border=\"1\" class=\"dataframe\">\n",
       "  <thead>\n",
       "    <tr style=\"text-align: right;\">\n",
       "      <th></th>\n",
       "      <th>Unimod_ID</th>\n",
       "      <th>PSI-MS Name</th>\n",
       "      <th>Interim name</th>\n",
       "      <th>Description</th>\n",
       "      <th>Monoisotopic mass</th>\n",
       "      <th>Average mass</th>\n",
       "      <th>Composition</th>\n",
       "      <th>combo</th>\n",
       "    </tr>\n",
       "  </thead>\n",
       "  <tbody>\n",
       "    <tr>\n",
       "      <th>0</th>\n",
       "      <td>1</td>\n",
       "      <td>Acetyl</td>\n",
       "      <td>Acetyl</td>\n",
       "      <td>Acetylation</td>\n",
       "      <td>42.010565</td>\n",
       "      <td>42.0367</td>\n",
       "      <td>H(2) C(2) O</td>\n",
       "      <td>NT=Acetyl;AC=1;CF=H(2) C(2) O;MM=42.010565</td>\n",
       "    </tr>\n",
       "    <tr>\n",
       "      <th>1</th>\n",
       "      <td>2</td>\n",
       "      <td>Amidated</td>\n",
       "      <td>Amide</td>\n",
       "      <td>Amidation</td>\n",
       "      <td>-0.984016</td>\n",
       "      <td>-0.9848</td>\n",
       "      <td>H N O(-1)</td>\n",
       "      <td>NT=Amidated;AC=2;CF=H N O(-1);MM=-0.984016</td>\n",
       "    </tr>\n",
       "    <tr>\n",
       "      <th>2</th>\n",
       "      <td>3</td>\n",
       "      <td>Biotin</td>\n",
       "      <td>Biotin</td>\n",
       "      <td>Biotinylation</td>\n",
       "      <td>226.077598</td>\n",
       "      <td>226.2954</td>\n",
       "      <td>H(14) C(10) N(2) O(2) S</td>\n",
       "      <td>NT=Biotin;AC=3;CF=H(14) C(10) N(2) O(2) S;MM=2...</td>\n",
       "    </tr>\n",
       "    <tr>\n",
       "      <th>3</th>\n",
       "      <td>4</td>\n",
       "      <td>Carbamidomethyl</td>\n",
       "      <td>Carbamidomethyl</td>\n",
       "      <td>Iodoacetamide derivative</td>\n",
       "      <td>57.021464</td>\n",
       "      <td>57.0513</td>\n",
       "      <td>H(3) C(2) N O</td>\n",
       "      <td>NT=Carbamidomethyl;AC=4;CF=H(3) C(2) N O;MM=57...</td>\n",
       "    </tr>\n",
       "    <tr>\n",
       "      <th>4</th>\n",
       "      <td>5</td>\n",
       "      <td>Carbamyl</td>\n",
       "      <td>Carbamyl</td>\n",
       "      <td>Carbamylation</td>\n",
       "      <td>43.005814</td>\n",
       "      <td>43.0247</td>\n",
       "      <td>H C N O</td>\n",
       "      <td>NT=Carbamyl;AC=5;CF=H C N O;MM=43.005814</td>\n",
       "    </tr>\n",
       "    <tr>\n",
       "      <th>...</th>\n",
       "      <td>...</td>\n",
       "      <td>...</td>\n",
       "      <td>...</td>\n",
       "      <td>...</td>\n",
       "      <td>...</td>\n",
       "      <td>...</td>\n",
       "      <td>...</td>\n",
       "      <td>...</td>\n",
       "    </tr>\n",
       "    <tr>\n",
       "      <th>1527</th>\n",
       "      <td>2073</td>\n",
       "      <td>N6pAMP</td>\n",
       "      <td>N6pAMP</td>\n",
       "      <td>probe; AMP analogon</td>\n",
       "      <td>367.068170</td>\n",
       "      <td>367.2539</td>\n",
       "      <td>H(14) C(13) N(5) O(6) P</td>\n",
       "      <td>NT=N6pAMP;AC=2073;CF=H(14) C(13) N(5) O(6) P;M...</td>\n",
       "    </tr>\n",
       "    <tr>\n",
       "      <th>1528</th>\n",
       "      <td>2074</td>\n",
       "      <td>DabMal</td>\n",
       "      <td>DabMal</td>\n",
       "      <td>Dabcyl C2 Maleimide</td>\n",
       "      <td>391.164440</td>\n",
       "      <td>391.4231</td>\n",
       "      <td>H(21) C(21) N(5) O(3)</td>\n",
       "      <td>NT=DabMal;AC=2074;CF=H(21) C(21) N(5) O(3);MM=...</td>\n",
       "    </tr>\n",
       "    <tr>\n",
       "      <th>1529</th>\n",
       "      <td>2079</td>\n",
       "      <td>NBF</td>\n",
       "      <td>NBF</td>\n",
       "      <td>Thiol blocking reagent</td>\n",
       "      <td>163.001791</td>\n",
       "      <td>163.0904</td>\n",
       "      <td>H C(6) N(3) O(3)</td>\n",
       "      <td>NT=NBF;AC=2079;CF=H C(6) N(3) O(3);MM=163.001791</td>\n",
       "    </tr>\n",
       "    <tr>\n",
       "      <th>1530</th>\n",
       "      <td>2080</td>\n",
       "      <td>DCP</td>\n",
       "      <td>DCP</td>\n",
       "      <td>Dimedone-Based Chemical Probes</td>\n",
       "      <td>168.078644</td>\n",
       "      <td>168.1898</td>\n",
       "      <td>H(12) C(9) O(3)</td>\n",
       "      <td>NT=DCP;AC=2080;CF=H(12) C(9) O(3);MM=168.078644</td>\n",
       "    </tr>\n",
       "    <tr>\n",
       "      <th>1531</th>\n",
       "      <td>2081</td>\n",
       "      <td>Ethynylation</td>\n",
       "      <td>Ethynylation</td>\n",
       "      <td>Ethynlation of cysteine residues</td>\n",
       "      <td>24.000000</td>\n",
       "      <td>24.0214</td>\n",
       "      <td>C(2)</td>\n",
       "      <td>NT=Ethynylation;AC=2081;CF=C(2);MM=24.0</td>\n",
       "    </tr>\n",
       "  </tbody>\n",
       "</table>\n",
       "<p>1532 rows × 8 columns</p>\n",
       "</div>"
      ],
      "text/plain": [
       "      Unimod_ID      PSI-MS Name     Interim name  \\\n",
       "0             1           Acetyl           Acetyl   \n",
       "1             2         Amidated            Amide   \n",
       "2             3           Biotin           Biotin   \n",
       "3             4  Carbamidomethyl  Carbamidomethyl   \n",
       "4             5         Carbamyl         Carbamyl   \n",
       "...         ...              ...              ...   \n",
       "1527       2073           N6pAMP           N6pAMP   \n",
       "1528       2074           DabMal           DabMal   \n",
       "1529       2079              NBF              NBF   \n",
       "1530       2080              DCP              DCP   \n",
       "1531       2081     Ethynylation     Ethynylation   \n",
       "\n",
       "                           Description  Monoisotopic mass  Average mass  \\\n",
       "0                          Acetylation          42.010565       42.0367   \n",
       "1                            Amidation          -0.984016       -0.9848   \n",
       "2                        Biotinylation         226.077598      226.2954   \n",
       "3             Iodoacetamide derivative          57.021464       57.0513   \n",
       "4                        Carbamylation          43.005814       43.0247   \n",
       "...                                ...                ...           ...   \n",
       "1527               probe; AMP analogon         367.068170      367.2539   \n",
       "1528               Dabcyl C2 Maleimide         391.164440      391.4231   \n",
       "1529            Thiol blocking reagent         163.001791      163.0904   \n",
       "1530    Dimedone-Based Chemical Probes         168.078644      168.1898   \n",
       "1531  Ethynlation of cysteine residues          24.000000       24.0214   \n",
       "\n",
       "                  Composition  \\\n",
       "0                 H(2) C(2) O   \n",
       "1                   H N O(-1)   \n",
       "2     H(14) C(10) N(2) O(2) S   \n",
       "3               H(3) C(2) N O   \n",
       "4                     H C N O   \n",
       "...                       ...   \n",
       "1527  H(14) C(13) N(5) O(6) P   \n",
       "1528    H(21) C(21) N(5) O(3)   \n",
       "1529         H C(6) N(3) O(3)   \n",
       "1530          H(12) C(9) O(3)   \n",
       "1531                     C(2)   \n",
       "\n",
       "                                                  combo  \n",
       "0            NT=Acetyl;AC=1;CF=H(2) C(2) O;MM=42.010565  \n",
       "1            NT=Amidated;AC=2;CF=H N O(-1);MM=-0.984016  \n",
       "2     NT=Biotin;AC=3;CF=H(14) C(10) N(2) O(2) S;MM=2...  \n",
       "3     NT=Carbamidomethyl;AC=4;CF=H(3) C(2) N O;MM=57...  \n",
       "4              NT=Carbamyl;AC=5;CF=H C N O;MM=43.005814  \n",
       "...                                                 ...  \n",
       "1527  NT=N6pAMP;AC=2073;CF=H(14) C(13) N(5) O(6) P;M...  \n",
       "1528  NT=DabMal;AC=2074;CF=H(21) C(21) N(5) O(3);MM=...  \n",
       "1529   NT=NBF;AC=2079;CF=H C(6) N(3) O(3);MM=163.001791  \n",
       "1530    NT=DCP;AC=2080;CF=H(12) C(9) O(3);MM=168.078644  \n",
       "1531            NT=Ethynylation;AC=2081;CF=C(2);MM=24.0  \n",
       "\n",
       "[1532 rows x 8 columns]"
      ]
     },
     "execution_count": 38,
     "metadata": {},
     "output_type": "execute_result"
    }
   ],
   "source": [
    "df"
   ]
  },
  {
   "cell_type": "code",
   "execution_count": 39,
   "metadata": {},
   "outputs": [],
   "source": [
    "# turn pandas dataframe with two columns into dict\n",
    "# key is column A, value is column B\n",
    "def df_to_dict(df):\n",
    "    return dict(zip(df.iloc[:,0], df.iloc[:,1]))\n",
    "    "
   ]
  },
  {
   "cell_type": "code",
   "execution_count": 40,
   "metadata": {},
   "outputs": [],
   "source": [
    "psi = df_to_dict(df[['PSI-MS Name', 'combo']])\n",
    "interim = df_to_dict(df[['Interim name', 'combo']])\n",
    "descr = df_to_dict(df[['Description', 'combo']])\n",
    "monoisotopic_mass_dict = df_to_dict(df[['Monoisotopic mass', 'combo']])\n",
    "average_mass_dict = df_to_dict(df[['Average mass', 'combo']])"
   ]
  },
  {
   "cell_type": "code",
   "execution_count": 41,
   "metadata": {},
   "outputs": [
    {
     "data": {
      "text/plain": [
       "(1532, 1532, 1532)"
      ]
     },
     "execution_count": 41,
     "metadata": {},
     "output_type": "execute_result"
    }
   ],
   "source": [
    "len(psi.items()), len(interim.items()), len(descr.items())"
   ]
  },
  {
   "cell_type": "code",
   "execution_count": 42,
   "metadata": {},
   "outputs": [
    {
     "data": {
      "text/plain": [
       "(1381, 1379)"
      ]
     },
     "execution_count": 42,
     "metadata": {},
     "output_type": "execute_result"
    }
   ],
   "source": [
    "len(monoisotopic_mass_dict.items()), len(average_mass_dict.items())"
   ]
  },
  {
   "cell_type": "code",
   "execution_count": 43,
   "metadata": {},
   "outputs": [],
   "source": [
    "#psi.update(interim)\n",
    "psi.update(descr)"
   ]
  },
  {
   "cell_type": "code",
   "execution_count": 44,
   "metadata": {},
   "outputs": [
    {
     "data": {
      "text/plain": [
       "3025"
      ]
     },
     "execution_count": 44,
     "metadata": {},
     "output_type": "execute_result"
    }
   ],
   "source": [
    "len(psi.items())"
   ]
  },
  {
   "cell_type": "code",
   "execution_count": 45,
   "metadata": {},
   "outputs": [],
   "source": [
    "import ParsingModule\n"
   ]
  },
  {
   "cell_type": "code",
   "execution_count": 46,
   "metadata": {},
   "outputs": [
    {
     "data": {
      "text/plain": [
       "'Stored average_mass_dict.json.gz as gzipped json'"
      ]
     },
     "execution_count": 46,
     "metadata": {},
     "output_type": "execute_result"
    }
   ],
   "source": [
    "ParsingModule.store_as_gzipped_json(monoisotopic_mass_dict, 'monoisotopic_mass_dict.json.gz')\n",
    "ParsingModule.store_as_gzipped_json(average_mass_dict, 'average_mass_dict.json.gz')"
   ]
  },
  {
   "cell_type": "code",
   "execution_count": 47,
   "metadata": {},
   "outputs": [
    {
     "data": {
      "text/plain": [
       "'Stored unimod_dict as gzipped json'"
      ]
     },
     "execution_count": 47,
     "metadata": {},
     "output_type": "execute_result"
    }
   ],
   "source": [
    "ParsingModule.store_as_gzipped_json(psi, 'unimod_dict')"
   ]
  },
  {
   "cell_type": "code",
   "execution_count": null,
   "metadata": {},
   "outputs": [],
   "source": []
  }
 ],
 "metadata": {
  "kernelspec": {
   "display_name": "sdrf",
   "language": "python",
   "name": "python3"
  },
  "language_info": {
   "codemirror_mode": {
    "name": "ipython",
    "version": 3
   },
   "file_extension": ".py",
   "mimetype": "text/x-python",
   "name": "python",
   "nbconvert_exporter": "python",
   "pygments_lexer": "ipython3",
   "version": "3.9.13"
  },
  "orig_nbformat": 4,
  "vscode": {
   "interpreter": {
    "hash": "22ea4e8e4bc62f1f2c468860a17a62e47bb896f26c043965a0be0ae51df573cc"
   }
  }
 },
 "nbformat": 4,
 "nbformat_minor": 2
}
