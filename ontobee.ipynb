{
 "cells": [
  {
   "cell_type": "code",
   "execution_count": 25,
   "metadata": {},
   "outputs": [
    {
     "name": "stdout",
     "output_type": "stream",
     "text": [
      "tandem mass spectrometer (OBI:0001088) - obi: ['A mass spectrometer in which ions are subjected to two or more sequential stages of analysis (which may be separated spatially or temporally) according to the quotient mass/charge.']\n"
     ]
    }
   ],
   "source": [
    "import requests\n",
    "\n",
    "supported_ontologies = [\n",
    "    'cl', 'efo', 'hancestro', 'mco', 'ms', 'pride_cv', 'obi',\n",
    "    'fbbt', 'po', 'clo', 'uberon', 'zfa', 'zfs', 'fbcv',\n",
    "    'micro', 'panto', 'rs', 'chebi', 'mondo'\n",
    "]\n",
    "\n",
    "def search_ols_term(term, exact=True):\n",
    "    url = \"https://www.ebi.ac.uk/ols4/api/search\"\n",
    "    params = {\n",
    "        \"q\": term,\n",
    "        \"type\": \"class\",\n",
    "        \"rows\": 100\n",
    "    }\n",
    "\n",
    "    response = requests.get(url, params=params)\n",
    "    response.raise_for_status()\n",
    "    results = response.json()\n",
    "\n",
    "    if results['response']['numFound'] == 0:\n",
    "        return []\n",
    "\n",
    "    seen = set()\n",
    "    filtered = []\n",
    "    for doc in results['response']['docs']:\n",
    "        label = doc.get('label', '').strip().lower()\n",
    "        obo_id = doc.get('obo_id')\n",
    "        ontology = doc.get('ontology_name')\n",
    "        description = doc.get('description')\n",
    "\n",
    "        if ontology not in supported_ontologies:\n",
    "            continue\n",
    "\n",
    "        if exact and label != term.lower():\n",
    "            continue\n",
    "\n",
    "        if obo_id and obo_id not in seen:\n",
    "            seen.add(obo_id)\n",
    "            filtered.append(doc)\n",
    "\n",
    "    return filtered\n",
    "\n",
    "# Example usage\n",
    "term_info = search_ols_term(\"tandem mass spectrometer\", exact=True)\n",
    "for result in term_info:\n",
    "    print(f\"{result.get('label')} ({result.get('obo_id')}) - {result.get('ontology_name')}: {result.get('description')}\")\n"
   ]
  },
  {
   "cell_type": "markdown",
   "metadata": {},
   "source": []
  },
  {
   "cell_type": "code",
   "execution_count": 33,
   "metadata": {},
   "outputs": [
    {
     "name": "stdout",
     "output_type": "stream",
     "text": [
      "no children found\n"
     ]
    }
   ],
   "source": [
    "selected_onto = \"OBI:0001088\"\n",
    "term = selected_onto.replace(':', '_')\n",
    "onto = 'obi'\n",
    "encoded_url = f\"https://www.ebi.ac.uk/ols4/api/ontologies/{onto}/terms/http%253A%252F%252Fpurl.obolibrary.org%252Fobo%252F{term}/hierarchicalChildren?lang=en\"\n",
    "response = requests.get(encoded_url)\n",
    "response.raise_for_status()\n",
    "data = response.json()\n",
    "#check if _embedded is in the data, then it can be parsed and checked for children\n",
    "if '_embedded' in data:\n",
    "    for element_idx in range(len(data[\"_embedded\"]['terms'])):\n",
    "        label = data[\"_embedded\"]['terms'][element_idx]['label']\n",
    "        description = data[\"_embedded\"]['terms'][element_idx]['description'][0]\n",
    "        child_id = data[\"_embedded\"]['terms'][element_idx]['obo_id'][0]\n",
    "        print(label)\n",
    "else:\n",
    "    print('no children found')"
   ]
  }
 ],
 "metadata": {
  "kernelspec": {
   "display_name": "lessdrf-desktop",
   "language": "python",
   "name": "python3"
  },
  "language_info": {
   "codemirror_mode": {
    "name": "ipython",
    "version": 3
   },
   "file_extension": ".py",
   "mimetype": "text/x-python",
   "name": "python",
   "nbconvert_exporter": "python",
   "pygments_lexer": "ipython3",
   "version": "3.11.11"
  }
 },
 "nbformat": 4,
 "nbformat_minor": 2
}
